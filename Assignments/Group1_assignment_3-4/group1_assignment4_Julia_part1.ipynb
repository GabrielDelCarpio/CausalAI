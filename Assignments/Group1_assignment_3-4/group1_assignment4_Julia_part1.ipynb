{
 "cells": [
  {
   "cell_type": "code",
   "execution_count": null,
   "metadata": {},
   "outputs": [
    {
     "name": "stderr",
     "output_type": "stream",
     "text": [
      "\u001b[32m\u001b[1m   Resolving\u001b[22m\u001b[39m package versions...\n",
      "\u001b[32m\u001b[1m  No Changes\u001b[22m\u001b[39m to `C:\\Users\\Estefany\\.julia\\environments\\v1.10\\Project.toml`\n",
      "\u001b[32m\u001b[1m  No Changes\u001b[22m\u001b[39m to `C:\\Users\\Estefany\\.julia\\environments\\v1.10\\Manifest.toml`\n",
      "\u001b[32m\u001b[1m   Resolving\u001b[22m\u001b[39m package versions...\n",
      "\u001b[32m\u001b[1m  No Changes\u001b[22m\u001b[39m to `C:\\Users\\Estefany\\.julia\\environments\\v1.10\\Project.toml`\n",
      "\u001b[32m\u001b[1m  No Changes\u001b[22m\u001b[39m to `C:\\Users\\Estefany\\.julia\\environments\\v1.10\\Manifest.toml`\n",
      "\u001b[32m\u001b[1m   Resolving\u001b[22m\u001b[39m package versions...\n",
      "\u001b[32m\u001b[1m  No Changes\u001b[22m\u001b[39m to `C:\\Users\\Estefany\\.julia\\environments\\v1.10\\Project.toml`\n",
      "\u001b[32m\u001b[1m  No Changes\u001b[22m\u001b[39m to `C:\\Users\\Estefany\\.julia\\environments\\v1.10\\Manifest.toml`\n",
      "\u001b[32m\u001b[1m   Resolving\u001b[22m\u001b[39m package versions...\n",
      "\u001b[32m\u001b[1m  No Changes\u001b[22m\u001b[39m to `C:\\Users\\Estefany\\.julia\\environments\\v1.10\\Project.toml`\n",
      "\u001b[32m\u001b[1m  No Changes\u001b[22m\u001b[39m to `C:\\Users\\Estefany\\.julia\\environments\\v1.10\\Manifest.toml`\n",
      "\u001b[32m\u001b[1m   Resolving\u001b[22m\u001b[39m package versions...\n",
      "\u001b[32m\u001b[1m  No Changes\u001b[22m\u001b[39m to `C:\\Users\\Estefany\\.julia\\environments\\v1.10\\Project.toml`\n",
      "\u001b[32m\u001b[1m  No Changes\u001b[22m\u001b[39m to `C:\\Users\\Estefany\\.julia\\environments\\v1.10\\Manifest.toml`\n",
      "\u001b[32m\u001b[1m   Resolving\u001b[22m\u001b[39m package versions...\n",
      "\u001b[32m\u001b[1m  No Changes\u001b[22m\u001b[39m to `C:\\Users\\Estefany\\.julia\\environments\\v1.10\\Project.toml`\n",
      "\u001b[32m\u001b[1m  No Changes\u001b[22m\u001b[39m to `C:\\Users\\Estefany\\.julia\\environments\\v1.10\\Manifest.toml`\n"
     ]
    }
   ],
   "source": [
    "using Pkg\n",
    "Pkg.add(\"CSV\")\n",
    "Pkg.add(\"DataFrames\")\n",
    "Pkg.add(\"Statistics\")\n",
    "Pkg.add(\"StatsBase\")\n",
    "Pkg.add(\"StatsModels\")\n",
    "Pkg.add(\"GLM\")\n",
    "Pkg.add(\"CategoricalArrays\")"
   ]
  },
  {
   "cell_type": "code",
   "execution_count": 4,
   "metadata": {},
   "outputs": [],
   "source": [
    "using DataFrames\n",
    "using Statistics\n",
    "using StatsBase\n",
    "using CSV\n",
    "using StatsModels\n",
    "using GLM"
   ]
  },
  {
   "cell_type": "markdown",
   "metadata": {},
   "source": [
    "# **Part 1: Double Lasso and DAGs**"
   ]
  },
  {
   "cell_type": "markdown",
   "metadata": {},
   "source": [
    "### 1. Consider the US census data from the year 2015 to analyse the effect of college graduate (clg) status and it’s interaction effects with gender (sex), location (mw, so,we, ne) and both on wage jointly. All other variables denote some other socio-economic characteristics, e.g. marital status, occupation, and experience."
   ]
  },
  {
   "cell_type": "code",
   "execution_count": 71,
   "metadata": {},
   "outputs": [
    {
     "data": {
      "text/html": [
       "<div><div style = \"float: left;\"><span>5150×20 DataFrame</span></div><div style = \"float: right;\"><span style = \"font-style: italic;\">5125 rows omitted</span></div><div style = \"clear: both;\"></div></div><div class = \"data-frame\" style = \"overflow-x: scroll;\"><table class = \"data-frame\" style = \"margin-bottom: 6px;\"><thead><tr class = \"header\"><th class = \"rowNumber\" style = \"font-weight: bold; text-align: right;\">Row</th><th style = \"text-align: left;\">wage</th><th style = \"text-align: left;\">lwage</th><th style = \"text-align: left;\">sex</th><th style = \"text-align: left;\">shs</th><th style = \"text-align: left;\">hsg</th><th style = \"text-align: left;\">scl</th><th style = \"text-align: left;\">clg</th><th style = \"text-align: left;\">ad</th><th style = \"text-align: left;\">mw</th><th style = \"text-align: left;\">so</th><th style = \"text-align: left;\">we</th><th style = \"text-align: left;\">ne</th><th style = \"text-align: left;\">exp1</th><th style = \"text-align: left;\">exp2</th><th style = \"text-align: left;\">exp3</th><th style = \"text-align: left;\">exp4</th><th style = \"text-align: left;\">occ</th><th style = \"text-align: left;\">occ2</th><th style = \"text-align: left;\">ind</th><th style = \"text-align: left;\">ind2</th></tr><tr class = \"subheader headerLastRow\"><th class = \"rowNumber\" style = \"font-weight: bold; text-align: right;\"></th><th title = \"Float64\" style = \"text-align: left;\">Float64</th><th title = \"Float64\" style = \"text-align: left;\">Float64</th><th title = \"Int32\" style = \"text-align: left;\">Int32</th><th title = \"Int32\" style = \"text-align: left;\">Int32</th><th title = \"Int32\" style = \"text-align: left;\">Int32</th><th title = \"Int32\" style = \"text-align: left;\">Int32</th><th title = \"Int32\" style = \"text-align: left;\">Int32</th><th title = \"Int32\" style = \"text-align: left;\">Int32</th><th title = \"Int32\" style = \"text-align: left;\">Int32</th><th title = \"Int32\" style = \"text-align: left;\">Int32</th><th title = \"Int32\" style = \"text-align: left;\">Int32</th><th title = \"Int32\" style = \"text-align: left;\">Int32</th><th title = \"Float64\" style = \"text-align: left;\">Float64</th><th title = \"Float64\" style = \"text-align: left;\">Float64</th><th title = \"Float64\" style = \"text-align: left;\">Float64</th><th title = \"Float64\" style = \"text-align: left;\">Float64</th><th title = \"Float64\" style = \"text-align: left;\">Float64</th><th title = \"Int32\" style = \"text-align: left;\">Int32</th><th title = \"Float64\" style = \"text-align: left;\">Float64</th><th title = \"Int32\" style = \"text-align: left;\">Int32</th></tr></thead><tbody><tr><td class = \"rowNumber\" style = \"font-weight: bold; text-align: right;\">1</td><td style = \"text-align: right;\">9.61538</td><td style = \"text-align: right;\">2.26336</td><td style = \"text-align: right;\">1</td><td style = \"text-align: right;\">0</td><td style = \"text-align: right;\">0</td><td style = \"text-align: right;\">0</td><td style = \"text-align: right;\">1</td><td style = \"text-align: right;\">0</td><td style = \"text-align: right;\">0</td><td style = \"text-align: right;\">0</td><td style = \"text-align: right;\">0</td><td style = \"text-align: right;\">1</td><td style = \"text-align: right;\">7.0</td><td style = \"text-align: right;\">0.49</td><td style = \"text-align: right;\">0.343</td><td style = \"text-align: right;\">0.2401</td><td style = \"text-align: right;\">3600.0</td><td style = \"text-align: right;\">11</td><td style = \"text-align: right;\">8370.0</td><td style = \"text-align: right;\">18</td></tr><tr><td class = \"rowNumber\" style = \"font-weight: bold; text-align: right;\">2</td><td style = \"text-align: right;\">48.0769</td><td style = \"text-align: right;\">3.8728</td><td style = \"text-align: right;\">0</td><td style = \"text-align: right;\">0</td><td style = \"text-align: right;\">0</td><td style = \"text-align: right;\">0</td><td style = \"text-align: right;\">1</td><td style = \"text-align: right;\">0</td><td style = \"text-align: right;\">0</td><td style = \"text-align: right;\">0</td><td style = \"text-align: right;\">0</td><td style = \"text-align: right;\">1</td><td style = \"text-align: right;\">31.0</td><td style = \"text-align: right;\">9.61</td><td style = \"text-align: right;\">29.791</td><td style = \"text-align: right;\">92.3521</td><td style = \"text-align: right;\">3050.0</td><td style = \"text-align: right;\">10</td><td style = \"text-align: right;\">5070.0</td><td style = \"text-align: right;\">9</td></tr><tr><td class = \"rowNumber\" style = \"font-weight: bold; text-align: right;\">3</td><td style = \"text-align: right;\">11.0577</td><td style = \"text-align: right;\">2.40313</td><td style = \"text-align: right;\">0</td><td style = \"text-align: right;\">0</td><td style = \"text-align: right;\">1</td><td style = \"text-align: right;\">0</td><td style = \"text-align: right;\">0</td><td style = \"text-align: right;\">0</td><td style = \"text-align: right;\">0</td><td style = \"text-align: right;\">0</td><td style = \"text-align: right;\">0</td><td style = \"text-align: right;\">1</td><td style = \"text-align: right;\">18.0</td><td style = \"text-align: right;\">3.24</td><td style = \"text-align: right;\">5.832</td><td style = \"text-align: right;\">10.4976</td><td style = \"text-align: right;\">6260.0</td><td style = \"text-align: right;\">19</td><td style = \"text-align: right;\">770.0</td><td style = \"text-align: right;\">4</td></tr><tr><td class = \"rowNumber\" style = \"font-weight: bold; text-align: right;\">4</td><td style = \"text-align: right;\">13.9423</td><td style = \"text-align: right;\">2.63493</td><td style = \"text-align: right;\">1</td><td style = \"text-align: right;\">0</td><td style = \"text-align: right;\">0</td><td style = \"text-align: right;\">0</td><td style = \"text-align: right;\">0</td><td style = \"text-align: right;\">1</td><td style = \"text-align: right;\">0</td><td style = \"text-align: right;\">0</td><td style = \"text-align: right;\">0</td><td style = \"text-align: right;\">1</td><td style = \"text-align: right;\">25.0</td><td style = \"text-align: right;\">6.25</td><td style = \"text-align: right;\">15.625</td><td style = \"text-align: right;\">39.0625</td><td style = \"text-align: right;\">420.0</td><td style = \"text-align: right;\">1</td><td style = \"text-align: right;\">6990.0</td><td style = \"text-align: right;\">12</td></tr><tr><td class = \"rowNumber\" style = \"font-weight: bold; text-align: right;\">5</td><td style = \"text-align: right;\">28.8462</td><td style = \"text-align: right;\">3.36198</td><td style = \"text-align: right;\">1</td><td style = \"text-align: right;\">0</td><td style = \"text-align: right;\">0</td><td style = \"text-align: right;\">0</td><td style = \"text-align: right;\">1</td><td style = \"text-align: right;\">0</td><td style = \"text-align: right;\">0</td><td style = \"text-align: right;\">0</td><td style = \"text-align: right;\">0</td><td style = \"text-align: right;\">1</td><td style = \"text-align: right;\">22.0</td><td style = \"text-align: right;\">4.84</td><td style = \"text-align: right;\">10.648</td><td style = \"text-align: right;\">23.4256</td><td style = \"text-align: right;\">2015.0</td><td style = \"text-align: right;\">6</td><td style = \"text-align: right;\">9470.0</td><td style = \"text-align: right;\">22</td></tr><tr><td class = \"rowNumber\" style = \"font-weight: bold; text-align: right;\">6</td><td style = \"text-align: right;\">11.7308</td><td style = \"text-align: right;\">2.46222</td><td style = \"text-align: right;\">1</td><td style = \"text-align: right;\">0</td><td style = \"text-align: right;\">0</td><td style = \"text-align: right;\">0</td><td style = \"text-align: right;\">1</td><td style = \"text-align: right;\">0</td><td style = \"text-align: right;\">0</td><td style = \"text-align: right;\">0</td><td style = \"text-align: right;\">0</td><td style = \"text-align: right;\">1</td><td style = \"text-align: right;\">1.0</td><td style = \"text-align: right;\">0.01</td><td style = \"text-align: right;\">0.001</td><td style = \"text-align: right;\">0.0001</td><td style = \"text-align: right;\">1650.0</td><td style = \"text-align: right;\">5</td><td style = \"text-align: right;\">7460.0</td><td style = \"text-align: right;\">14</td></tr><tr><td class = \"rowNumber\" style = \"font-weight: bold; text-align: right;\">7</td><td style = \"text-align: right;\">19.2308</td><td style = \"text-align: right;\">2.95651</td><td style = \"text-align: right;\">1</td><td style = \"text-align: right;\">0</td><td style = \"text-align: right;\">1</td><td style = \"text-align: right;\">0</td><td style = \"text-align: right;\">0</td><td style = \"text-align: right;\">0</td><td style = \"text-align: right;\">0</td><td style = \"text-align: right;\">0</td><td style = \"text-align: right;\">0</td><td style = \"text-align: right;\">1</td><td style = \"text-align: right;\">42.0</td><td style = \"text-align: right;\">17.64</td><td style = \"text-align: right;\">74.088</td><td style = \"text-align: right;\">311.17</td><td style = \"text-align: right;\">5120.0</td><td style = \"text-align: right;\">17</td><td style = \"text-align: right;\">7280.0</td><td style = \"text-align: right;\">14</td></tr><tr><td class = \"rowNumber\" style = \"font-weight: bold; text-align: right;\">8</td><td style = \"text-align: right;\">19.2308</td><td style = \"text-align: right;\">2.95651</td><td style = \"text-align: right;\">0</td><td style = \"text-align: right;\">0</td><td style = \"text-align: right;\">1</td><td style = \"text-align: right;\">0</td><td style = \"text-align: right;\">0</td><td style = \"text-align: right;\">0</td><td style = \"text-align: right;\">0</td><td style = \"text-align: right;\">0</td><td style = \"text-align: right;\">0</td><td style = \"text-align: right;\">1</td><td style = \"text-align: right;\">37.0</td><td style = \"text-align: right;\">13.69</td><td style = \"text-align: right;\">50.653</td><td style = \"text-align: right;\">187.416</td><td style = \"text-align: right;\">5240.0</td><td style = \"text-align: right;\">17</td><td style = \"text-align: right;\">5680.0</td><td style = \"text-align: right;\">9</td></tr><tr><td class = \"rowNumber\" style = \"font-weight: bold; text-align: right;\">9</td><td style = \"text-align: right;\">12.0</td><td style = \"text-align: right;\">2.48491</td><td style = \"text-align: right;\">1</td><td style = \"text-align: right;\">0</td><td style = \"text-align: right;\">1</td><td style = \"text-align: right;\">0</td><td style = \"text-align: right;\">0</td><td style = \"text-align: right;\">0</td><td style = \"text-align: right;\">0</td><td style = \"text-align: right;\">0</td><td style = \"text-align: right;\">0</td><td style = \"text-align: right;\">1</td><td style = \"text-align: right;\">31.0</td><td style = \"text-align: right;\">9.61</td><td style = \"text-align: right;\">29.791</td><td style = \"text-align: right;\">92.3521</td><td style = \"text-align: right;\">4040.0</td><td style = \"text-align: right;\">13</td><td style = \"text-align: right;\">8590.0</td><td style = \"text-align: right;\">19</td></tr><tr><td class = \"rowNumber\" style = \"font-weight: bold; text-align: right;\">10</td><td style = \"text-align: right;\">19.2308</td><td style = \"text-align: right;\">2.95651</td><td style = \"text-align: right;\">1</td><td style = \"text-align: right;\">0</td><td style = \"text-align: right;\">0</td><td style = \"text-align: right;\">0</td><td style = \"text-align: right;\">1</td><td style = \"text-align: right;\">0</td><td style = \"text-align: right;\">0</td><td style = \"text-align: right;\">0</td><td style = \"text-align: right;\">0</td><td style = \"text-align: right;\">1</td><td style = \"text-align: right;\">4.0</td><td style = \"text-align: right;\">0.16</td><td style = \"text-align: right;\">0.064</td><td style = \"text-align: right;\">0.0256</td><td style = \"text-align: right;\">3255.0</td><td style = \"text-align: right;\">10</td><td style = \"text-align: right;\">8190.0</td><td style = \"text-align: right;\">18</td></tr><tr><td class = \"rowNumber\" style = \"font-weight: bold; text-align: right;\">11</td><td style = \"text-align: right;\">17.3077</td><td style = \"text-align: right;\">2.85115</td><td style = \"text-align: right;\">1</td><td style = \"text-align: right;\">0</td><td style = \"text-align: right;\">1</td><td style = \"text-align: right;\">0</td><td style = \"text-align: right;\">0</td><td style = \"text-align: right;\">0</td><td style = \"text-align: right;\">0</td><td style = \"text-align: right;\">0</td><td style = \"text-align: right;\">0</td><td style = \"text-align: right;\">1</td><td style = \"text-align: right;\">7.0</td><td style = \"text-align: right;\">0.49</td><td style = \"text-align: right;\">0.343</td><td style = \"text-align: right;\">0.2401</td><td style = \"text-align: right;\">4020.0</td><td style = \"text-align: right;\">13</td><td style = \"text-align: right;\">8270.0</td><td style = \"text-align: right;\">18</td></tr><tr><td class = \"rowNumber\" style = \"font-weight: bold; text-align: right;\">12</td><td style = \"text-align: right;\">12.0192</td><td style = \"text-align: right;\">2.48651</td><td style = \"text-align: right;\">0</td><td style = \"text-align: right;\">0</td><td style = \"text-align: right;\">1</td><td style = \"text-align: right;\">0</td><td style = \"text-align: right;\">0</td><td style = \"text-align: right;\">0</td><td style = \"text-align: right;\">0</td><td style = \"text-align: right;\">0</td><td style = \"text-align: right;\">0</td><td style = \"text-align: right;\">1</td><td style = \"text-align: right;\">30.0</td><td style = \"text-align: right;\">9.0</td><td style = \"text-align: right;\">27.0</td><td style = \"text-align: right;\">81.0</td><td style = \"text-align: right;\">4220.0</td><td style = \"text-align: right;\">14</td><td style = \"text-align: right;\">8270.0</td><td style = \"text-align: right;\">18</td></tr><tr><td class = \"rowNumber\" style = \"font-weight: bold; text-align: right;\">13</td><td style = \"text-align: right;\">12.0192</td><td style = \"text-align: right;\">2.48651</td><td style = \"text-align: right;\">1</td><td style = \"text-align: right;\">0</td><td style = \"text-align: right;\">0</td><td style = \"text-align: right;\">1</td><td style = \"text-align: right;\">0</td><td style = \"text-align: right;\">0</td><td style = \"text-align: right;\">0</td><td style = \"text-align: right;\">0</td><td style = \"text-align: right;\">0</td><td style = \"text-align: right;\">1</td><td style = \"text-align: right;\">5.5</td><td style = \"text-align: right;\">0.3025</td><td style = \"text-align: right;\">0.166375</td><td style = \"text-align: right;\">0.0915062</td><td style = \"text-align: right;\">3600.0</td><td style = \"text-align: right;\">11</td><td style = \"text-align: right;\">8270.0</td><td style = \"text-align: right;\">18</td></tr><tr><td style = \"text-align: right;\">&vellip;</td><td style = \"text-align: right;\">&vellip;</td><td style = \"text-align: right;\">&vellip;</td><td style = \"text-align: right;\">&vellip;</td><td style = \"text-align: right;\">&vellip;</td><td style = \"text-align: right;\">&vellip;</td><td style = \"text-align: right;\">&vellip;</td><td style = \"text-align: right;\">&vellip;</td><td style = \"text-align: right;\">&vellip;</td><td style = \"text-align: right;\">&vellip;</td><td style = \"text-align: right;\">&vellip;</td><td style = \"text-align: right;\">&vellip;</td><td style = \"text-align: right;\">&vellip;</td><td style = \"text-align: right;\">&vellip;</td><td style = \"text-align: right;\">&vellip;</td><td style = \"text-align: right;\">&vellip;</td><td style = \"text-align: right;\">&vellip;</td><td style = \"text-align: right;\">&vellip;</td><td style = \"text-align: right;\">&vellip;</td><td style = \"text-align: right;\">&vellip;</td><td style = \"text-align: right;\">&vellip;</td></tr><tr><td class = \"rowNumber\" style = \"font-weight: bold; text-align: right;\">5139</td><td style = \"text-align: right;\">19.7115</td><td style = \"text-align: right;\">2.9812</td><td style = \"text-align: right;\">1</td><td style = \"text-align: right;\">0</td><td style = \"text-align: right;\">0</td><td style = \"text-align: right;\">0</td><td style = \"text-align: right;\">0</td><td style = \"text-align: right;\">1</td><td style = \"text-align: right;\">0</td><td style = \"text-align: right;\">0</td><td style = \"text-align: right;\">1</td><td style = \"text-align: right;\">0</td><td style = \"text-align: right;\">8.0</td><td style = \"text-align: right;\">0.64</td><td style = \"text-align: right;\">0.512</td><td style = \"text-align: right;\">0.4096</td><td style = \"text-align: right;\">2000.0</td><td style = \"text-align: right;\">6</td><td style = \"text-align: right;\">8090.0</td><td style = \"text-align: right;\">18</td></tr><tr><td class = \"rowNumber\" style = \"font-weight: bold; text-align: right;\">5140</td><td style = \"text-align: right;\">21.1538</td><td style = \"text-align: right;\">3.05182</td><td style = \"text-align: right;\">0</td><td style = \"text-align: right;\">0</td><td style = \"text-align: right;\">0</td><td style = \"text-align: right;\">0</td><td style = \"text-align: right;\">1</td><td style = \"text-align: right;\">0</td><td style = \"text-align: right;\">0</td><td style = \"text-align: right;\">0</td><td style = \"text-align: right;\">1</td><td style = \"text-align: right;\">0</td><td style = \"text-align: right;\">28.0</td><td style = \"text-align: right;\">7.84</td><td style = \"text-align: right;\">21.952</td><td style = \"text-align: right;\">61.4656</td><td style = \"text-align: right;\">40.0</td><td style = \"text-align: right;\">1</td><td style = \"text-align: right;\">9170.0</td><td style = \"text-align: right;\">21</td></tr><tr><td class = \"rowNumber\" style = \"font-weight: bold; text-align: right;\">5141</td><td style = \"text-align: right;\">45.5466</td><td style = \"text-align: right;\">3.81874</td><td style = \"text-align: right;\">1</td><td style = \"text-align: right;\">0</td><td style = \"text-align: right;\">0</td><td style = \"text-align: right;\">0</td><td style = \"text-align: right;\">1</td><td style = \"text-align: right;\">0</td><td style = \"text-align: right;\">0</td><td style = \"text-align: right;\">0</td><td style = \"text-align: right;\">1</td><td style = \"text-align: right;\">0</td><td style = \"text-align: right;\">5.0</td><td style = \"text-align: right;\">0.25</td><td style = \"text-align: right;\">0.125</td><td style = \"text-align: right;\">0.0625</td><td style = \"text-align: right;\">3255.0</td><td style = \"text-align: right;\">10</td><td style = \"text-align: right;\">8190.0</td><td style = \"text-align: right;\">18</td></tr><tr><td class = \"rowNumber\" style = \"font-weight: bold; text-align: right;\">5142</td><td style = \"text-align: right;\">22.5962</td><td style = \"text-align: right;\">3.11778</td><td style = \"text-align: right;\">0</td><td style = \"text-align: right;\">0</td><td style = \"text-align: right;\">1</td><td style = \"text-align: right;\">0</td><td style = \"text-align: right;\">0</td><td style = \"text-align: right;\">0</td><td style = \"text-align: right;\">0</td><td style = \"text-align: right;\">0</td><td style = \"text-align: right;\">1</td><td style = \"text-align: right;\">0</td><td style = \"text-align: right;\">15.0</td><td style = \"text-align: right;\">2.25</td><td style = \"text-align: right;\">3.375</td><td style = \"text-align: right;\">5.0625</td><td style = \"text-align: right;\">9620.0</td><td style = \"text-align: right;\">22</td><td style = \"text-align: right;\">5390.0</td><td style = \"text-align: right;\">9</td></tr><tr><td class = \"rowNumber\" style = \"font-weight: bold; text-align: right;\">5143</td><td style = \"text-align: right;\">16.8269</td><td style = \"text-align: right;\">2.82298</td><td style = \"text-align: right;\">0</td><td style = \"text-align: right;\">0</td><td style = \"text-align: right;\">1</td><td style = \"text-align: right;\">0</td><td style = \"text-align: right;\">0</td><td style = \"text-align: right;\">0</td><td style = \"text-align: right;\">0</td><td style = \"text-align: right;\">0</td><td style = \"text-align: right;\">1</td><td style = \"text-align: right;\">0</td><td style = \"text-align: right;\">11.0</td><td style = \"text-align: right;\">1.21</td><td style = \"text-align: right;\">1.331</td><td style = \"text-align: right;\">1.4641</td><td style = \"text-align: right;\">7150.0</td><td style = \"text-align: right;\">20</td><td style = \"text-align: right;\">8770.0</td><td style = \"text-align: right;\">21</td></tr><tr><td class = \"rowNumber\" style = \"font-weight: bold; text-align: right;\">5144</td><td style = \"text-align: right;\">24.0385</td><td style = \"text-align: right;\">3.17966</td><td style = \"text-align: right;\">1</td><td style = \"text-align: right;\">0</td><td style = \"text-align: right;\">0</td><td style = \"text-align: right;\">0</td><td style = \"text-align: right;\">1</td><td style = \"text-align: right;\">0</td><td style = \"text-align: right;\">0</td><td style = \"text-align: right;\">0</td><td style = \"text-align: right;\">1</td><td style = \"text-align: right;\">0</td><td style = \"text-align: right;\">17.0</td><td style = \"text-align: right;\">2.89</td><td style = \"text-align: right;\">4.913</td><td style = \"text-align: right;\">8.3521</td><td style = \"text-align: right;\">2550.0</td><td style = \"text-align: right;\">8</td><td style = \"text-align: right;\">9480.0</td><td style = \"text-align: right;\">22</td></tr><tr><td class = \"rowNumber\" style = \"font-weight: bold; text-align: right;\">5145</td><td style = \"text-align: right;\">13.8462</td><td style = \"text-align: right;\">2.62801</td><td style = \"text-align: right;\">0</td><td style = \"text-align: right;\">0</td><td style = \"text-align: right;\">0</td><td style = \"text-align: right;\">0</td><td style = \"text-align: right;\">1</td><td style = \"text-align: right;\">0</td><td style = \"text-align: right;\">0</td><td style = \"text-align: right;\">0</td><td style = \"text-align: right;\">1</td><td style = \"text-align: right;\">0</td><td style = \"text-align: right;\">10.0</td><td style = \"text-align: right;\">1.0</td><td style = \"text-align: right;\">1.0</td><td style = \"text-align: right;\">1.0</td><td style = \"text-align: right;\">800.0</td><td style = \"text-align: right;\">2</td><td style = \"text-align: right;\">770.0</td><td style = \"text-align: right;\">4</td></tr><tr><td class = \"rowNumber\" style = \"font-weight: bold; text-align: right;\">5146</td><td style = \"text-align: right;\">14.7692</td><td style = \"text-align: right;\">2.69255</td><td style = \"text-align: right;\">0</td><td style = \"text-align: right;\">0</td><td style = \"text-align: right;\">0</td><td style = \"text-align: right;\">0</td><td style = \"text-align: right;\">1</td><td style = \"text-align: right;\">0</td><td style = \"text-align: right;\">0</td><td style = \"text-align: right;\">0</td><td style = \"text-align: right;\">1</td><td style = \"text-align: right;\">0</td><td style = \"text-align: right;\">9.0</td><td style = \"text-align: right;\">0.81</td><td style = \"text-align: right;\">0.729</td><td style = \"text-align: right;\">0.6561</td><td style = \"text-align: right;\">4700.0</td><td style = \"text-align: right;\">16</td><td style = \"text-align: right;\">4970.0</td><td style = \"text-align: right;\">9</td></tr><tr><td class = \"rowNumber\" style = \"font-weight: bold; text-align: right;\">5147</td><td style = \"text-align: right;\">23.0769</td><td style = \"text-align: right;\">3.13883</td><td style = \"text-align: right;\">1</td><td style = \"text-align: right;\">0</td><td style = \"text-align: right;\">0</td><td style = \"text-align: right;\">1</td><td style = \"text-align: right;\">0</td><td style = \"text-align: right;\">0</td><td style = \"text-align: right;\">0</td><td style = \"text-align: right;\">0</td><td style = \"text-align: right;\">1</td><td style = \"text-align: right;\">0</td><td style = \"text-align: right;\">12.0</td><td style = \"text-align: right;\">1.44</td><td style = \"text-align: right;\">1.728</td><td style = \"text-align: right;\">2.0736</td><td style = \"text-align: right;\">4110.0</td><td style = \"text-align: right;\">13</td><td style = \"text-align: right;\">8680.0</td><td style = \"text-align: right;\">20</td></tr><tr><td class = \"rowNumber\" style = \"font-weight: bold; text-align: right;\">5148</td><td style = \"text-align: right;\">38.4615</td><td style = \"text-align: right;\">3.64966</td><td style = \"text-align: right;\">0</td><td style = \"text-align: right;\">0</td><td style = \"text-align: right;\">0</td><td style = \"text-align: right;\">0</td><td style = \"text-align: right;\">0</td><td style = \"text-align: right;\">1</td><td style = \"text-align: right;\">0</td><td style = \"text-align: right;\">0</td><td style = \"text-align: right;\">1</td><td style = \"text-align: right;\">0</td><td style = \"text-align: right;\">11.0</td><td style = \"text-align: right;\">1.21</td><td style = \"text-align: right;\">1.331</td><td style = \"text-align: right;\">1.4641</td><td style = \"text-align: right;\">1550.0</td><td style = \"text-align: right;\">4</td><td style = \"text-align: right;\">3680.0</td><td style = \"text-align: right;\">6</td></tr><tr><td class = \"rowNumber\" style = \"font-weight: bold; text-align: right;\">5149</td><td style = \"text-align: right;\">32.967</td><td style = \"text-align: right;\">3.49551</td><td style = \"text-align: right;\">0</td><td style = \"text-align: right;\">0</td><td style = \"text-align: right;\">1</td><td style = \"text-align: right;\">0</td><td style = \"text-align: right;\">0</td><td style = \"text-align: right;\">0</td><td style = \"text-align: right;\">0</td><td style = \"text-align: right;\">0</td><td style = \"text-align: right;\">1</td><td style = \"text-align: right;\">0</td><td style = \"text-align: right;\">10.0</td><td style = \"text-align: right;\">1.0</td><td style = \"text-align: right;\">1.0</td><td style = \"text-align: right;\">1.0</td><td style = \"text-align: right;\">2920.0</td><td style = \"text-align: right;\">9</td><td style = \"text-align: right;\">6570.0</td><td style = \"text-align: right;\">11</td></tr><tr><td class = \"rowNumber\" style = \"font-weight: bold; text-align: right;\">5150</td><td style = \"text-align: right;\">17.3077</td><td style = \"text-align: right;\">2.85115</td><td style = \"text-align: right;\">0</td><td style = \"text-align: right;\">0</td><td style = \"text-align: right;\">0</td><td style = \"text-align: right;\">0</td><td style = \"text-align: right;\">0</td><td style = \"text-align: right;\">1</td><td style = \"text-align: right;\">0</td><td style = \"text-align: right;\">0</td><td style = \"text-align: right;\">1</td><td style = \"text-align: right;\">0</td><td style = \"text-align: right;\">14.0</td><td style = \"text-align: right;\">1.96</td><td style = \"text-align: right;\">2.744</td><td style = \"text-align: right;\">3.8416</td><td style = \"text-align: right;\">1610.0</td><td style = \"text-align: right;\">5</td><td style = \"text-align: right;\">7460.0</td><td style = \"text-align: right;\">14</td></tr></tbody></table></div>"
      ],
      "text/latex": [
       "\\begin{tabular}{r|cccccccccccc}\n",
       "\t& wage & lwage & sex & shs & hsg & scl & clg & ad & mw & so & we & \\\\\n",
       "\t\\hline\n",
       "\t& Float64 & Float64 & Int32 & Int32 & Int32 & Int32 & Int32 & Int32 & Int32 & Int32 & Int32 & \\\\\n",
       "\t\\hline\n",
       "\t1 & 9.61538 & 2.26336 & 1 & 0 & 0 & 0 & 1 & 0 & 0 & 0 & 0 & $\\dots$ \\\\\n",
       "\t2 & 48.0769 & 3.8728 & 0 & 0 & 0 & 0 & 1 & 0 & 0 & 0 & 0 & $\\dots$ \\\\\n",
       "\t3 & 11.0577 & 2.40313 & 0 & 0 & 1 & 0 & 0 & 0 & 0 & 0 & 0 & $\\dots$ \\\\\n",
       "\t4 & 13.9423 & 2.63493 & 1 & 0 & 0 & 0 & 0 & 1 & 0 & 0 & 0 & $\\dots$ \\\\\n",
       "\t5 & 28.8462 & 3.36198 & 1 & 0 & 0 & 0 & 1 & 0 & 0 & 0 & 0 & $\\dots$ \\\\\n",
       "\t6 & 11.7308 & 2.46222 & 1 & 0 & 0 & 0 & 1 & 0 & 0 & 0 & 0 & $\\dots$ \\\\\n",
       "\t7 & 19.2308 & 2.95651 & 1 & 0 & 1 & 0 & 0 & 0 & 0 & 0 & 0 & $\\dots$ \\\\\n",
       "\t8 & 19.2308 & 2.95651 & 0 & 0 & 1 & 0 & 0 & 0 & 0 & 0 & 0 & $\\dots$ \\\\\n",
       "\t9 & 12.0 & 2.48491 & 1 & 0 & 1 & 0 & 0 & 0 & 0 & 0 & 0 & $\\dots$ \\\\\n",
       "\t10 & 19.2308 & 2.95651 & 1 & 0 & 0 & 0 & 1 & 0 & 0 & 0 & 0 & $\\dots$ \\\\\n",
       "\t11 & 17.3077 & 2.85115 & 1 & 0 & 1 & 0 & 0 & 0 & 0 & 0 & 0 & $\\dots$ \\\\\n",
       "\t12 & 12.0192 & 2.48651 & 0 & 0 & 1 & 0 & 0 & 0 & 0 & 0 & 0 & $\\dots$ \\\\\n",
       "\t13 & 12.0192 & 2.48651 & 1 & 0 & 0 & 1 & 0 & 0 & 0 & 0 & 0 & $\\dots$ \\\\\n",
       "\t14 & 13.4615 & 2.59984 & 1 & 0 & 0 & 1 & 0 & 0 & 0 & 0 & 0 & $\\dots$ \\\\\n",
       "\t15 & 16.3462 & 2.79399 & 1 & 0 & 0 & 0 & 1 & 0 & 0 & 0 & 0 & $\\dots$ \\\\\n",
       "\t16 & 27.8846 & 3.32808 & 0 & 0 & 1 & 0 & 0 & 0 & 0 & 0 & 0 & $\\dots$ \\\\\n",
       "\t17 & 21.6 & 3.07269 & 0 & 0 & 1 & 0 & 0 & 0 & 0 & 0 & 0 & $\\dots$ \\\\\n",
       "\t18 & 8.65385 & 2.158 & 0 & 0 & 0 & 1 & 0 & 0 & 0 & 0 & 0 & $\\dots$ \\\\\n",
       "\t19 & 19.2308 & 2.95651 & 0 & 0 & 1 & 0 & 0 & 0 & 0 & 0 & 0 & $\\dots$ \\\\\n",
       "\t20 & 13.1868 & 2.57922 & 0 & 0 & 1 & 0 & 0 & 0 & 0 & 0 & 0 & $\\dots$ \\\\\n",
       "\t21 & 10.6838 & 2.36872 & 1 & 0 & 0 & 1 & 0 & 0 & 0 & 0 & 0 & $\\dots$ \\\\\n",
       "\t22 & 11.5385 & 2.44569 & 1 & 0 & 0 & 1 & 0 & 0 & 0 & 0 & 0 & $\\dots$ \\\\\n",
       "\t23 & 17.7885 & 2.87855 & 1 & 0 & 0 & 0 & 0 & 1 & 0 & 0 & 0 & $\\dots$ \\\\\n",
       "\t24 & 19.2308 & 2.95651 & 0 & 0 & 0 & 0 & 1 & 0 & 0 & 0 & 0 & $\\dots$ \\\\\n",
       "\t$\\dots$ & $\\dots$ & $\\dots$ & $\\dots$ & $\\dots$ & $\\dots$ & $\\dots$ & $\\dots$ & $\\dots$ & $\\dots$ & $\\dots$ & $\\dots$ &  \\\\\n",
       "\\end{tabular}\n"
      ],
      "text/plain": [
       "\u001b[1m5150×20 DataFrame\u001b[0m\n",
       "\u001b[1m  Row \u001b[0m│\u001b[1m wage     \u001b[0m\u001b[1m lwage   \u001b[0m\u001b[1m sex   \u001b[0m\u001b[1m shs   \u001b[0m\u001b[1m hsg   \u001b[0m\u001b[1m scl   \u001b[0m\u001b[1m clg   \u001b[0m\u001b[1m ad    \u001b[0m\u001b[1m mw    \u001b[0m\u001b[1m so\u001b[0m ⋯\n",
       "      │\u001b[90m Float64  \u001b[0m\u001b[90m Float64 \u001b[0m\u001b[90m Int32 \u001b[0m\u001b[90m Int32 \u001b[0m\u001b[90m Int32 \u001b[0m\u001b[90m Int32 \u001b[0m\u001b[90m Int32 \u001b[0m\u001b[90m Int32 \u001b[0m\u001b[90m Int32 \u001b[0m\u001b[90m In\u001b[0m ⋯\n",
       "──────┼─────────────────────────────────────────────────────────────────────────\n",
       "    1 │  9.61538  2.26336      1      0      0      0      1      0      0     ⋯\n",
       "    2 │ 48.0769   3.8728       0      0      0      0      1      0      0\n",
       "    3 │ 11.0577   2.40313      0      0      1      0      0      0      0\n",
       "    4 │ 13.9423   2.63493      1      0      0      0      0      1      0\n",
       "    5 │ 28.8462   3.36198      1      0      0      0      1      0      0     ⋯\n",
       "    6 │ 11.7308   2.46222      1      0      0      0      1      0      0\n",
       "    7 │ 19.2308   2.95651      1      0      1      0      0      0      0\n",
       "    8 │ 19.2308   2.95651      0      0      1      0      0      0      0\n",
       "  ⋮   │    ⋮         ⋮       ⋮      ⋮      ⋮      ⋮      ⋮      ⋮      ⋮       ⋱\n",
       " 5144 │ 24.0385   3.17966      1      0      0      0      1      0      0     ⋯\n",
       " 5145 │ 13.8462   2.62801      0      0      0      0      1      0      0\n",
       " 5146 │ 14.7692   2.69255      0      0      0      0      1      0      0\n",
       " 5147 │ 23.0769   3.13883      1      0      0      1      0      0      0\n",
       " 5148 │ 38.4615   3.64966      0      0      0      0      0      1      0     ⋯\n",
       " 5149 │ 32.967    3.49551      0      0      1      0      0      0      0\n",
       " 5150 │ 17.3077   2.85115      0      0      0      0      0      1      0\n",
       "\u001b[36m                                                11 columns and 5135 rows omitted\u001b[0m"
      ]
     },
     "metadata": {},
     "output_type": "display_data"
    }
   ],
   "source": [
    "using Downloads, CSV, DataFrames\n",
    "\n",
    "# Descargar el archivo localmente\n",
    "url = \"https://raw.githubusercontent.com/CausalAIBook/MetricsMLNotebooks/main/data/wage2015_subsample_inference.csv\"\n",
    "local_file = \"wage2015_subsample_inference.csv\"\n",
    "Downloads.download(url, local_file)\n",
    "\n",
    "# Leer el archivo descargado como DataFrame\n",
    "data = CSV.read(local_file, DataFrame)\n"
   ]
  },
  {
   "cell_type": "code",
   "execution_count": 44,
   "metadata": {},
   "outputs": [
    {
     "name": "stderr",
     "output_type": "stream",
     "text": [
      "\u001b[32m\u001b[1m   Resolving\u001b[22m\u001b[39m package versions...\n",
      "\u001b[32m\u001b[1m  No Changes\u001b[22m\u001b[39m to `C:\\Users\\Estefany\\.julia\\environments\\v1.10\\Project.toml`\n",
      "\u001b[32m\u001b[1m  No Changes\u001b[22m\u001b[39m to `C:\\Users\\Estefany\\.julia\\environments\\v1.10\\Manifest.toml`\n"
     ]
    }
   ],
   "source": [
    "using Pkg\n",
    "Pkg.add(\"CategoricalArrays\")\n"
   ]
  },
  {
   "cell_type": "markdown",
   "metadata": {},
   "source": [
    "* Generate the dataset with all the two-way interactions between variables. Make sure that the categorical variables are transformed to dummies properly. Also, note that the resulting dataset contains the treatment and it’s interactions with the other variables of interest, so you don’t need to generate them separately. (2 pts)"
   ]
  },
  {
   "cell_type": "code",
   "execution_count": 72,
   "metadata": {},
   "outputs": [
    {
     "data": {
      "text/plain": [
       "FormulaTerm\n",
       "Response:\n",
       "  lwage(unknown)\n",
       "Predictors:\n",
       "  1\n",
       "  clg(unknown)\n",
       "  sex(unknown)\n",
       "  mw(unknown)\n",
       "  so(unknown)\n",
       "  we(unknown)\n",
       "  ne(unknown)\n",
       "  (clg,sex,mw,so,we,ne)->(clg + sex + mw + so + we + ne) ^ 2"
      ]
     },
     "metadata": {},
     "output_type": "display_data"
    }
   ],
   "source": [
    "using DataFrames, StatsModels\n",
    "\n",
    "\n",
    "# interacciones bidireccionales\n",
    "interaction_formula = @formula(lwage ~ 1 + clg + sex + mw + so + we + ne + (clg + sex + mw + so + we + ne )^2)"
   ]
  },
  {
   "cell_type": "code",
   "execution_count": 73,
   "metadata": {},
   "outputs": [
    {
     "data": {
      "text/plain": [
       "5150×6 Matrix{Float64}:\n",
       " 1.0  0.0  0.0  0.0  1.0  9.0\n",
       " 0.0  0.0  0.0  0.0  1.0  4.0\n",
       " 0.0  0.0  0.0  0.0  1.0  1.0\n",
       " 1.0  0.0  0.0  0.0  1.0  4.0\n",
       " 1.0  0.0  0.0  0.0  1.0  9.0\n",
       " 1.0  0.0  0.0  0.0  1.0  9.0\n",
       " 1.0  0.0  0.0  0.0  1.0  4.0\n",
       " 0.0  0.0  0.0  0.0  1.0  1.0\n",
       " 1.0  0.0  0.0  0.0  1.0  4.0\n",
       " 1.0  0.0  0.0  0.0  1.0  9.0\n",
       " ⋮                        ⋮\n",
       " 0.0  0.0  0.0  1.0  0.0  1.0\n",
       " 0.0  0.0  0.0  1.0  0.0  1.0\n",
       " 1.0  0.0  0.0  1.0  0.0  9.0\n",
       " 0.0  0.0  0.0  1.0  0.0  4.0\n",
       " 0.0  0.0  0.0  1.0  0.0  4.0\n",
       " 1.0  0.0  0.0  1.0  0.0  4.0\n",
       " 0.0  0.0  0.0  1.0  0.0  1.0\n",
       " 0.0  0.0  0.0  1.0  0.0  1.0\n",
       " 0.0  0.0  0.0  1.0  0.0  1.0"
      ]
     },
     "metadata": {},
     "output_type": "display_data"
    }
   ],
   "source": [
    "X = modelmatrix(interaction_formula, data);\n",
    "X = X[:,3:end];\n",
    "X"
   ]
  },
  {
   "cell_type": "code",
   "execution_count": 74,
   "metadata": {},
   "outputs": [
    {
     "data": {
      "text/plain": [
       "5150-element Vector{Float64}:\n",
       " 1.0\n",
       " 1.0\n",
       " 0.0\n",
       " 0.0\n",
       " 1.0\n",
       " 1.0\n",
       " 0.0\n",
       " 0.0\n",
       " 0.0\n",
       " 1.0\n",
       " ⋮\n",
       " 0.0\n",
       " 0.0\n",
       " 1.0\n",
       " 1.0\n",
       " 1.0\n",
       " 0.0\n",
       " 0.0\n",
       " 0.0\n",
       " 0.0"
      ]
     },
     "metadata": {},
     "output_type": "display_data"
    }
   ],
   "source": [
    "D = float.(data.clg) "
   ]
  },
  {
   "cell_type": "code",
   "execution_count": 76,
   "metadata": {},
   "outputs": [
    {
     "data": {
      "text/plain": [
       "5150-element Vector{Float64}:\n",
       " 2.26336437984076\n",
       " 3.87280229227486\n",
       " 2.40312632221592\n",
       " 2.63492793627325\n",
       " 3.36197666850887\n",
       " 2.46221523858593\n",
       " 2.95651156040071\n",
       " 2.95651156040071\n",
       " 2.484906649788\n",
       " 2.95651156040071\n",
       " ⋮\n",
       " 3.11777970799683\n",
       " 2.82298016777619\n",
       " 3.17965511171492\n",
       " 2.62800749342867\n",
       " 2.69254601456624\n",
       " 3.13883311719466\n",
       " 3.64965874096066\n",
       " 3.4955080611334\n",
       " 2.85115104474288"
      ]
     },
     "metadata": {},
     "output_type": "display_data"
    }
   ],
   "source": [
    "y_log = data[:, 2]\n"
   ]
  },
  {
   "cell_type": "code",
   "execution_count": 97,
   "metadata": {},
   "outputs": [],
   "source": [
    "train_sample = rand(Float64, size(data)[1]) .< 0.80\n",
    "test_sample = .!(train_sample)\n",
    "y_train, y_test = y_log[train_sample], y_log[test_sample]\n",
    "X_train, X_test = X[train_sample, :], X[test_sample, :];\n",
    "D_train, D_test = D[train_sample, :], D[test_sample, :];"
   ]
  },
  {
   "cell_type": "code",
   "execution_count": 84,
   "metadata": {},
   "outputs": [
    {
     "name": "stderr",
     "output_type": "stream",
     "text": [
      "\u001b[32m\u001b[1m   Resolving\u001b[22m\u001b[39m package versions...\n",
      "\u001b[32m\u001b[1m  No Changes\u001b[22m\u001b[39m to `C:\\Users\\Estefany\\.julia\\environments\\v1.10\\Project.toml`\n",
      "\u001b[32m\u001b[1m  No Changes\u001b[22m\u001b[39m to `C:\\Users\\Estefany\\.julia\\environments\\v1.10\\Manifest.toml`\n"
     ]
    }
   ],
   "source": [
    "using Pkg\n",
    "Pkg.add(\"GLMNet\")"
   ]
  },
  {
   "cell_type": "code",
   "execution_count": 91,
   "metadata": {},
   "outputs": [
    {
     "data": {
      "text/plain": [
       "Least Squares GLMNet Solution Path (63 solutions for 6 predictors in 385 passes):\n",
       "───────────────────────────────\n",
       "      df    pct_dev           λ\n",
       "───────────────────────────────\n",
       " [1]   0  0.0        0.334989\n",
       " [2]   1  0.0878989  0.305229\n",
       " [3]   1  0.160874   0.278114\n",
       " [4]   1  0.221459   0.253407\n",
       " [5]   1  0.271758   0.230895\n",
       " [6]   1  0.313517   0.210383\n",
       " [7]   1  0.348186   0.191693\n",
       " [8]   1  0.376969   0.174664\n",
       " [9]   1  0.400865   0.159147\n",
       "[10]   1  0.420704   0.145009\n",
       "[11]   1  0.437175   0.132127\n",
       "[12]   2  0.474238   0.120389\n",
       "[13]   2  0.553292   0.109694\n",
       "[14]   2  0.618902   0.0999489\n",
       "[15]   2  0.673372   0.0910697\n",
       "[16]   2  0.718593   0.0829793\n",
       "[17]   2  0.756137   0.0756077\n",
       "[18]   2  0.787252   0.0688909\n",
       "[19]   2  0.813138   0.0627708\n",
       "[20]   2  0.83463    0.0571944\n",
       "[21]   2  0.852473   0.0521134\n",
       "[22]   2  0.867287   0.0474838\n",
       "[23]   2  0.879585   0.0432655\n",
       "[24]   2  0.889796   0.0394219\n",
       "[25]   2  0.898243   0.0359198\n",
       "[26]   2  0.905285   0.0327288\n",
       "[27]   2  0.911132   0.0298212\n",
       "[28]   2  0.915987   0.027172\n",
       "[29]   2  0.920017   0.0247581\n",
       "[30]   2  0.923363   0.0225587\n",
       "[31]   2  0.92614    0.0205546\n",
       "[32]   2  0.928447   0.0187286\n",
       "[33]   2  0.930348   0.0170648\n",
       "[34]   2  0.931939   0.0155488\n",
       "[35]   2  0.933261   0.0141675\n",
       "[36]   2  0.934358   0.0129089\n",
       "[37]   2  0.935269   0.0117621\n",
       "[38]   2  0.936025   0.0107172\n",
       "[39]   2  0.936653   0.00976511\n",
       "[40]   2  0.937167   0.0088976\n",
       "[41]   2  0.937601   0.00810716\n",
       "[42]   2  0.937962   0.00738695\n",
       "[43]   2  0.938261   0.00673071\n",
       "[44]   2  0.938509   0.00613277\n",
       "[45]   2  0.938715   0.00558795\n",
       "[46]   2  0.938886   0.00509153\n",
       "[47]   2  0.939029   0.00463922\n",
       "[48]   2  0.939143   0.00422708\n",
       "[49]   2  0.939242   0.00385156\n",
       "[50]   2  0.939323   0.0035094\n",
       "[51]   2  0.939391   0.00319763\n",
       "[52]   2  0.939448   0.00291356\n",
       "[53]   3  0.939497   0.00265473\n",
       "[54]   3  0.93954    0.00241889\n",
       "[55]   3  0.939574   0.002204\n",
       "[56]   4  0.939605   0.00200821\n",
       "[57]   4  0.939631   0.0018298\n",
       "[58]   4  0.939653   0.00166725\n",
       "[59]   4  0.939671   0.00151913\n",
       "[60]   4  0.939686   0.00138418\n",
       "[61]   4  0.939699   0.00126121\n",
       "[62]   4  0.939709   0.00114917\n",
       "[63]   4  0.939717   0.00104708\n",
       "───────────────────────────────"
      ]
     },
     "metadata": {},
     "output_type": "display_data"
    }
   ],
   "source": [
    "using GLMNet\n",
    "using DataFrames\n",
    "\n",
    "# Ajuste LASSO para Y\n",
    "model_Y = glmnet(X, y_log, alpha=1.0)\n",
    "\n",
    "# Ajuste LASSO para D\n",
    "model_D = glmnet(X, D, alpha=1.0)\n"
   ]
  },
  {
   "cell_type": "code",
   "execution_count": 99,
   "metadata": {},
   "outputs": [
    {
     "data": {
      "text/plain": [
       "log_grid (generic function with 1 method)"
      ]
     },
     "metadata": {},
     "output_type": "display_data"
    }
   ],
   "source": [
    "function log_grid(lower::Int, upper::Int, log_step::Float64)\n",
    "    log_grid = range(lower, stop=upper, length= Int(1 /log_step))\n",
    "    return exp.(log_grid)\n",
    "end"
   ]
  },
  {
   "cell_type": "code",
   "execution_count": 100,
   "metadata": {},
   "outputs": [
    {
     "data": {
      "text/plain": [
       "k_folds (generic function with 2 methods)"
      ]
     },
     "metadata": {},
     "output_type": "display_data"
    }
   ],
   "source": [
    "function k_folds(data::AbstractArray, k::Int = 5)\n",
    "    mdl = size(data, 1) % k\n",
    "    floor = size(data, 1) ÷ k \n",
    "\n",
    "    if mdl == 0\n",
    "        trues = fill(1, floor, 1)\n",
    "        split_matrix = kron(I(k), trues)\n",
    "    else\n",
    "        trues_g1 = fill(1, floor + 1, 1)\n",
    "        split_matrix_g1 = kron(I(mdl), trues_g1)\n",
    "        \n",
    "        trues_g2 = fill(1, floor, 1)\n",
    "        split_matrix_g2 = kron(I(k - mdl), trues_g2)\n",
    "        \n",
    "        split_matrix = [split_matrix_g1  zeros(size(split_matrix_g1, 1), size(split_matrix_g2, 2));\n",
    "                        zeros(size(split_matrix_g2, 1), size(split_matrix_g1, 2))  split_matrix_g2]\n",
    "    end\n",
    "    \n",
    "    sm_bool = split_matrix .== 1\n",
    "    splits = [sm_bool[:, x] for x in 1:k]\n",
    "    \n",
    "    return splits\n",
    "end"
   ]
  },
  {
   "cell_type": "code",
   "execution_count": 101,
   "metadata": {},
   "outputs": [
    {
     "data": {
      "text/plain": [
       "optimal_lambda (generic function with 2 methods)"
      ]
     },
     "metadata": {},
     "output_type": "display_data"
    }
   ],
   "source": [
    "using GLMNet\n",
    "function optimal_lambda(Y::AbstractVector, X::AbstractArray, lambda_bounds::Tuple{Int, Int}, k::Int = 5; niter::Int = 100)\n",
    "    Y = vec(Y) \n",
    "\n",
    "    if ndims(X) == 1\n",
    "        X = reshape(X, :, 1)\n",
    "    end\n",
    "\n",
    "    folds = k_folds(X, k)\n",
    "    all_lambdas = log_grid(lambda_bounds[1],lambda_bounds[2], 1/niter)\n",
    "    all_mse = zeros(niter)\n",
    "\n",
    "    for (j, l) in enumerate(all_lambdas)\n",
    "        split_pes = zeros(k)\n",
    "        \n",
    "        for i in 1:k\n",
    "            X_train = X[.!folds[i], :]\n",
    "            X_test = X[folds[i], :]\n",
    "            y_train = Y[.!folds[i]]\n",
    "            y_test = Y[folds[i]]\n",
    "\n",
    "            model = glmnet(X_train, y_train, alpha=1.0, lambda=[l])\n",
    "            predict = GLMNet.predict(model, X_test)\n",
    "\n",
    "            pe = sum((y_test - predict).^2)\n",
    "            split_pes[i] = pe\n",
    "        end\n",
    "\n",
    "        all_mse[j] = mean(split_pes)\n",
    "    end\n",
    "\n",
    "    selected = argmin(all_mse)\n",
    "    optimal_lambda = all_lambdas[selected]\n",
    "    optimal_model = glmnet(X, Y, alpha=1.0, lambda=[optimal_lambda])\n",
    "    optimal_coef = [optimal_model.a0;optimal_model.betas[:]]\n",
    "\n",
    "    output = Dict(\n",
    "        \"optimal_lambda\" => optimal_lambda,\n",
    "        \"optimal_coef\" => optimal_coef,\n",
    "        \"all_lambdas\" => all_lambdas,\n",
    "        \"all_mse\" => all_mse\n",
    "    )\n",
    "\n",
    "    return output\n",
    "end"
   ]
  },
  {
   "cell_type": "code",
   "execution_count": 102,
   "metadata": {},
   "outputs": [
    {
     "data": {
      "text/plain": [
       "predict_model (generic function with 1 method)"
      ]
     },
     "metadata": {},
     "output_type": "display_data"
    }
   ],
   "source": [
    "function predict_model(optimal_model::Dict, X::AbstractArray)\n",
    "    intercept = ones(size(X, 1), 1)\n",
    "    Z = [intercept;; X]\n",
    "    \n",
    "    return Z * optimal_model[\"optimal_coef\"]\n",
    "end"
   ]
  },
  {
   "cell_type": "code",
   "execution_count": 105,
   "metadata": {},
   "outputs": [
    {
     "data": {
      "text/plain": [
       "LinearModel{GLM.LmResp{Vector{Float64}}, GLM.DensePredChol{Float64, LinearAlgebra.CholeskyPivoted{Float64, Matrix{Float64}, Vector{Int32}}}}:\n",
       "\n",
       "Coefficients:\n",
       "─────────────────────────────────────────────────────────────────────────\n",
       "          Coef.    Std. Error       t  Pr(>|t|)    Lower 95%    Upper 95%\n",
       "─────────────────────────────────────────────────────────────────────────\n",
       "x1   2.91635       0.0223415   130.54    <1e-99    2.87255      2.96016\n",
       "x2  -0.244421      0.025016     -9.77    <1e-21   -0.293466    -0.195376\n",
       "x3  -0.0779916     0.0255663    -3.05    0.0023   -0.128115    -0.0278678\n",
       "x4  -0.0293215     0.0247441    -1.18    0.2361   -0.0778334    0.0191903\n",
       "x5   0.0         NaN           NaN       NaN     NaN          NaN\n",
       "x6  -0.00423504    0.0264602    -0.16    0.8728   -0.0561113    0.0476412\n",
       "x7   0.05291       0.00465074   11.38    <1e-28    0.0437921    0.062028\n",
       "─────────────────────────────────────────────────────────────────────────\n"
      ]
     },
     "metadata": {},
     "output_type": "display_data"
    }
   ],
   "source": [
    "using GLM, DataFrames\n",
    "\n",
    "# Fitting a linear regression model\n",
    "model_ls = lm([ones(size(X_train)[1]);;X_train],y_train)"
   ]
  },
  {
   "cell_type": "code",
   "execution_count": null,
   "metadata": {},
   "outputs": [],
   "source": [
    "# Finding the optimal lambda and fitting the Lasso model using the training data\n",
    "model_Y_lasso = optimal_lambda(y_train, X_train, (-7, 7))\n",
    "\n",
    "# Finding the optimal lambda and fitting the Lasso model using the training data\n",
    "model_D_lasso = optimal_lambda(D_train, X_train, (-7, 7))"
   ]
  }
 ],
 "metadata": {
  "kernelspec": {
   "display_name": "Julia 1.10.4",
   "language": "julia",
   "name": "julia-1.10"
  },
  "language_info": {
   "file_extension": ".jl",
   "mimetype": "application/julia",
   "name": "julia",
   "version": "1.10.4"
  }
 },
 "nbformat": 4,
 "nbformat_minor": 2
}
