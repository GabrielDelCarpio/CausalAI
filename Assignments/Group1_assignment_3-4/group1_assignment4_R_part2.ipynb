{
 "cells": [
  {
   "cell_type": "markdown",
   "metadata": {},
   "source": [
    "# Part 2: Bootstrapping and Decision Trees (20 points)"
   ]
  },
  {
   "cell_type": "markdown",
   "metadata": {},
   "source": [
    "### 3. Consider the Hitters dataset provided by the ISLR package. This dataset contains several features related to the hitters of the Major League Baseball from the 1986 and 1987 seasons"
   ]
  },
  {
   "cell_type": "code",
   "execution_count": 1,
   "metadata": {
    "vscode": {
     "languageId": "r"
    }
   },
   "outputs": [
    {
     "name": "stdout",
     "output_type": "stream",
     "text": [
      "\n",
      "The downloaded binary packages are in\n",
      "\t/var/folders/k0/5jhn7d7s1l75cf1srqv1wy980000gn/T//RtmpkIqTbo/downloaded_packages\n"
     ]
    }
   ],
   "source": [
    "install.packages(\"ISLR\")"
   ]
  },
  {
   "cell_type": "code",
   "execution_count": 2,
   "metadata": {
    "vscode": {
     "languageId": "r"
    }
   },
   "outputs": [
    {
     "name": "stderr",
     "output_type": "stream",
     "text": [
      "\n",
      "Attaching package: 'dplyr'\n",
      "\n",
      "\n",
      "The following objects are masked from 'package:stats':\n",
      "\n",
      "    filter, lag\n",
      "\n",
      "\n",
      "The following objects are masked from 'package:base':\n",
      "\n",
      "    intersect, setdiff, setequal, union\n",
      "\n",
      "\n"
     ]
    },
    {
     "data": {
      "text/html": [
       "<table class=\"dataframe\">\n",
       "<caption>A data.frame: 6 x 20</caption>\n",
       "<thead>\n",
       "\t<tr><th></th><th scope=col>AtBat</th><th scope=col>Hits</th><th scope=col>HmRun</th><th scope=col>Runs</th><th scope=col>RBI</th><th scope=col>Walks</th><th scope=col>Years</th><th scope=col>CAtBat</th><th scope=col>CHits</th><th scope=col>CHmRun</th><th scope=col>CRuns</th><th scope=col>CRBI</th><th scope=col>CWalks</th><th scope=col>League</th><th scope=col>Division</th><th scope=col>PutOuts</th><th scope=col>Assists</th><th scope=col>Errors</th><th scope=col>Salary</th><th scope=col>NewLeague</th></tr>\n",
       "\t<tr><th></th><th scope=col>&lt;int&gt;</th><th scope=col>&lt;int&gt;</th><th scope=col>&lt;int&gt;</th><th scope=col>&lt;int&gt;</th><th scope=col>&lt;int&gt;</th><th scope=col>&lt;int&gt;</th><th scope=col>&lt;int&gt;</th><th scope=col>&lt;int&gt;</th><th scope=col>&lt;int&gt;</th><th scope=col>&lt;int&gt;</th><th scope=col>&lt;int&gt;</th><th scope=col>&lt;int&gt;</th><th scope=col>&lt;int&gt;</th><th scope=col>&lt;fct&gt;</th><th scope=col>&lt;fct&gt;</th><th scope=col>&lt;int&gt;</th><th scope=col>&lt;int&gt;</th><th scope=col>&lt;int&gt;</th><th scope=col>&lt;dbl&gt;</th><th scope=col>&lt;fct&gt;</th></tr>\n",
       "</thead>\n",
       "<tbody>\n",
       "\t<tr><th scope=row>-Andy Allanson</th><td>293</td><td> 66</td><td> 1</td><td>30</td><td>29</td><td>14</td><td> 1</td><td> 293</td><td>  66</td><td>  1</td><td> 30</td><td> 29</td><td> 14</td><td>A</td><td>E</td><td>446</td><td> 33</td><td>20</td><td>   NA</td><td>A</td></tr>\n",
       "\t<tr><th scope=row>-Alan Ashby</th><td>315</td><td> 81</td><td> 7</td><td>24</td><td>38</td><td>39</td><td>14</td><td>3449</td><td> 835</td><td> 69</td><td>321</td><td>414</td><td>375</td><td>N</td><td>W</td><td>632</td><td> 43</td><td>10</td><td>475.0</td><td>N</td></tr>\n",
       "\t<tr><th scope=row>-Alvin Davis</th><td>479</td><td>130</td><td>18</td><td>66</td><td>72</td><td>76</td><td> 3</td><td>1624</td><td> 457</td><td> 63</td><td>224</td><td>266</td><td>263</td><td>A</td><td>W</td><td>880</td><td> 82</td><td>14</td><td>480.0</td><td>A</td></tr>\n",
       "\t<tr><th scope=row>-Andre Dawson</th><td>496</td><td>141</td><td>20</td><td>65</td><td>78</td><td>37</td><td>11</td><td>5628</td><td>1575</td><td>225</td><td>828</td><td>838</td><td>354</td><td>N</td><td>E</td><td>200</td><td> 11</td><td> 3</td><td>500.0</td><td>N</td></tr>\n",
       "\t<tr><th scope=row>-Andres Galarraga</th><td>321</td><td> 87</td><td>10</td><td>39</td><td>42</td><td>30</td><td> 2</td><td> 396</td><td> 101</td><td> 12</td><td> 48</td><td> 46</td><td> 33</td><td>N</td><td>E</td><td>805</td><td> 40</td><td> 4</td><td> 91.5</td><td>N</td></tr>\n",
       "\t<tr><th scope=row>-Alfredo Griffin</th><td>594</td><td>169</td><td> 4</td><td>74</td><td>51</td><td>35</td><td>11</td><td>4408</td><td>1133</td><td> 19</td><td>501</td><td>336</td><td>194</td><td>A</td><td>W</td><td>282</td><td>421</td><td>25</td><td>750.0</td><td>A</td></tr>\n",
       "</tbody>\n",
       "</table>\n"
      ],
      "text/latex": [
       "A data.frame: 6 x 20\n",
       "\\begin{tabular}{r|llllllllllllllllllll}\n",
       "  & AtBat & Hits & HmRun & Runs & RBI & Walks & Years & CAtBat & CHits & CHmRun & CRuns & CRBI & CWalks & League & Division & PutOuts & Assists & Errors & Salary & NewLeague\\\\\n",
       "  & <int> & <int> & <int> & <int> & <int> & <int> & <int> & <int> & <int> & <int> & <int> & <int> & <int> & <fct> & <fct> & <int> & <int> & <int> & <dbl> & <fct>\\\\\n",
       "\\hline\n",
       "\t-Andy Allanson & 293 &  66 &  1 & 30 & 29 & 14 &  1 &  293 &   66 &   1 &  30 &  29 &  14 & A & E & 446 &  33 & 20 &    NA & A\\\\\n",
       "\t-Alan Ashby & 315 &  81 &  7 & 24 & 38 & 39 & 14 & 3449 &  835 &  69 & 321 & 414 & 375 & N & W & 632 &  43 & 10 & 475.0 & N\\\\\n",
       "\t-Alvin Davis & 479 & 130 & 18 & 66 & 72 & 76 &  3 & 1624 &  457 &  63 & 224 & 266 & 263 & A & W & 880 &  82 & 14 & 480.0 & A\\\\\n",
       "\t-Andre Dawson & 496 & 141 & 20 & 65 & 78 & 37 & 11 & 5628 & 1575 & 225 & 828 & 838 & 354 & N & E & 200 &  11 &  3 & 500.0 & N\\\\\n",
       "\t-Andres Galarraga & 321 &  87 & 10 & 39 & 42 & 30 &  2 &  396 &  101 &  12 &  48 &  46 &  33 & N & E & 805 &  40 &  4 &  91.5 & N\\\\\n",
       "\t-Alfredo Griffin & 594 & 169 &  4 & 74 & 51 & 35 & 11 & 4408 & 1133 &  19 & 501 & 336 & 194 & A & W & 282 & 421 & 25 & 750.0 & A\\\\\n",
       "\\end{tabular}\n"
      ],
      "text/markdown": [
       "\n",
       "A data.frame: 6 x 20\n",
       "\n",
       "| <!--/--> | AtBat &lt;int&gt; | Hits &lt;int&gt; | HmRun &lt;int&gt; | Runs &lt;int&gt; | RBI &lt;int&gt; | Walks &lt;int&gt; | Years &lt;int&gt; | CAtBat &lt;int&gt; | CHits &lt;int&gt; | CHmRun &lt;int&gt; | CRuns &lt;int&gt; | CRBI &lt;int&gt; | CWalks &lt;int&gt; | League &lt;fct&gt; | Division &lt;fct&gt; | PutOuts &lt;int&gt; | Assists &lt;int&gt; | Errors &lt;int&gt; | Salary &lt;dbl&gt; | NewLeague &lt;fct&gt; |\n",
       "|---|---|---|---|---|---|---|---|---|---|---|---|---|---|---|---|---|---|---|---|---|\n",
       "| -Andy Allanson | 293 |  66 |  1 | 30 | 29 | 14 |  1 |  293 |   66 |   1 |  30 |  29 |  14 | A | E | 446 |  33 | 20 |    NA | A |\n",
       "| -Alan Ashby | 315 |  81 |  7 | 24 | 38 | 39 | 14 | 3449 |  835 |  69 | 321 | 414 | 375 | N | W | 632 |  43 | 10 | 475.0 | N |\n",
       "| -Alvin Davis | 479 | 130 | 18 | 66 | 72 | 76 |  3 | 1624 |  457 |  63 | 224 | 266 | 263 | A | W | 880 |  82 | 14 | 480.0 | A |\n",
       "| -Andre Dawson | 496 | 141 | 20 | 65 | 78 | 37 | 11 | 5628 | 1575 | 225 | 828 | 838 | 354 | N | E | 200 |  11 |  3 | 500.0 | N |\n",
       "| -Andres Galarraga | 321 |  87 | 10 | 39 | 42 | 30 |  2 |  396 |  101 |  12 |  48 |  46 |  33 | N | E | 805 |  40 |  4 |  91.5 | N |\n",
       "| -Alfredo Griffin | 594 | 169 |  4 | 74 | 51 | 35 | 11 | 4408 | 1133 |  19 | 501 | 336 | 194 | A | W | 282 | 421 | 25 | 750.0 | A |\n",
       "\n"
      ],
      "text/plain": [
       "                  AtBat Hits HmRun Runs RBI Walks Years CAtBat CHits CHmRun\n",
       "-Andy Allanson    293    66   1    30   29  14     1     293     66    1   \n",
       "-Alan Ashby       315    81   7    24   38  39    14    3449    835   69   \n",
       "-Alvin Davis      479   130  18    66   72  76     3    1624    457   63   \n",
       "-Andre Dawson     496   141  20    65   78  37    11    5628   1575  225   \n",
       "-Andres Galarraga 321    87  10    39   42  30     2     396    101   12   \n",
       "-Alfredo Griffin  594   169   4    74   51  35    11    4408   1133   19   \n",
       "                  CRuns CRBI CWalks League Division PutOuts Assists Errors\n",
       "-Andy Allanson     30    29   14    A      E        446      33     20    \n",
       "-Alan Ashby       321   414  375    N      W        632      43     10    \n",
       "-Alvin Davis      224   266  263    A      W        880      82     14    \n",
       "-Andre Dawson     828   838  354    N      E        200      11      3    \n",
       "-Andres Galarraga  48    46   33    N      E        805      40      4    \n",
       "-Alfredo Griffin  501   336  194    A      W        282     421     25    \n",
       "                  Salary NewLeague\n",
       "-Andy Allanson       NA  A        \n",
       "-Alan Ashby       475.0  N        \n",
       "-Alvin Davis      480.0  A        \n",
       "-Andre Dawson     500.0  N        \n",
       "-Andres Galarraga  91.5  N        \n",
       "-Alfredo Griffin  750.0  A        "
      ]
     },
     "metadata": {},
     "output_type": "display_data"
    }
   ],
   "source": [
    "library(ISLR)\n",
    "library(dplyr)\n",
    "library(tidyr)\n",
    "data(Hitters)\n",
    "head(Hitters)"
   ]
  },
  {
   "cell_type": "markdown",
   "metadata": {},
   "source": [
    "- Generate the dataset such that the categorical variables are transformed to dummies. Make sure you drop the missing observations if there is any. (2 pts)"
   ]
  },
  {
   "cell_type": "code",
   "execution_count": 3,
   "metadata": {
    "vscode": {
     "languageId": "r"
    }
   },
   "outputs": [
    {
     "data": {
      "text/html": [
       "<table class=\"dataframe\">\n",
       "<caption>A data.frame: 6 x 20</caption>\n",
       "<thead>\n",
       "\t<tr><th></th><th scope=col>AtBat</th><th scope=col>Hits</th><th scope=col>HmRun</th><th scope=col>Runs</th><th scope=col>RBI</th><th scope=col>Walks</th><th scope=col>Years</th><th scope=col>CAtBat</th><th scope=col>CHits</th><th scope=col>CHmRun</th><th scope=col>CRuns</th><th scope=col>CRBI</th><th scope=col>CWalks</th><th scope=col>League</th><th scope=col>Division</th><th scope=col>PutOuts</th><th scope=col>Assists</th><th scope=col>Errors</th><th scope=col>Salary</th><th scope=col>NewLeague</th></tr>\n",
       "\t<tr><th></th><th scope=col>&lt;int&gt;</th><th scope=col>&lt;int&gt;</th><th scope=col>&lt;int&gt;</th><th scope=col>&lt;int&gt;</th><th scope=col>&lt;int&gt;</th><th scope=col>&lt;int&gt;</th><th scope=col>&lt;int&gt;</th><th scope=col>&lt;int&gt;</th><th scope=col>&lt;int&gt;</th><th scope=col>&lt;int&gt;</th><th scope=col>&lt;int&gt;</th><th scope=col>&lt;int&gt;</th><th scope=col>&lt;int&gt;</th><th scope=col>&lt;dbl&gt;</th><th scope=col>&lt;dbl&gt;</th><th scope=col>&lt;int&gt;</th><th scope=col>&lt;int&gt;</th><th scope=col>&lt;int&gt;</th><th scope=col>&lt;dbl&gt;</th><th scope=col>&lt;dbl&gt;</th></tr>\n",
       "</thead>\n",
       "<tbody>\n",
       "\t<tr><th scope=row>-Alan Ashby</th><td>315</td><td> 81</td><td> 7</td><td>24</td><td>38</td><td>39</td><td>14</td><td>3449</td><td> 835</td><td> 69</td><td>321</td><td>414</td><td>375</td><td>1</td><td>1</td><td>632</td><td> 43</td><td>10</td><td>475.0</td><td>1</td></tr>\n",
       "\t<tr><th scope=row>-Alvin Davis</th><td>479</td><td>130</td><td>18</td><td>66</td><td>72</td><td>76</td><td> 3</td><td>1624</td><td> 457</td><td> 63</td><td>224</td><td>266</td><td>263</td><td>0</td><td>1</td><td>880</td><td> 82</td><td>14</td><td>480.0</td><td>0</td></tr>\n",
       "\t<tr><th scope=row>-Andre Dawson</th><td>496</td><td>141</td><td>20</td><td>65</td><td>78</td><td>37</td><td>11</td><td>5628</td><td>1575</td><td>225</td><td>828</td><td>838</td><td>354</td><td>1</td><td>0</td><td>200</td><td> 11</td><td> 3</td><td>500.0</td><td>1</td></tr>\n",
       "\t<tr><th scope=row>-Andres Galarraga</th><td>321</td><td> 87</td><td>10</td><td>39</td><td>42</td><td>30</td><td> 2</td><td> 396</td><td> 101</td><td> 12</td><td> 48</td><td> 46</td><td> 33</td><td>1</td><td>0</td><td>805</td><td> 40</td><td> 4</td><td> 91.5</td><td>1</td></tr>\n",
       "\t<tr><th scope=row>-Alfredo Griffin</th><td>594</td><td>169</td><td> 4</td><td>74</td><td>51</td><td>35</td><td>11</td><td>4408</td><td>1133</td><td> 19</td><td>501</td><td>336</td><td>194</td><td>0</td><td>1</td><td>282</td><td>421</td><td>25</td><td>750.0</td><td>0</td></tr>\n",
       "\t<tr><th scope=row>-Al Newman</th><td>185</td><td> 37</td><td> 1</td><td>23</td><td> 8</td><td>21</td><td> 2</td><td> 214</td><td>  42</td><td>  1</td><td> 30</td><td>  9</td><td> 24</td><td>1</td><td>0</td><td> 76</td><td>127</td><td> 7</td><td> 70.0</td><td>0</td></tr>\n",
       "</tbody>\n",
       "</table>\n"
      ],
      "text/latex": [
       "A data.frame: 6 x 20\n",
       "\\begin{tabular}{r|llllllllllllllllllll}\n",
       "  & AtBat & Hits & HmRun & Runs & RBI & Walks & Years & CAtBat & CHits & CHmRun & CRuns & CRBI & CWalks & League & Division & PutOuts & Assists & Errors & Salary & NewLeague\\\\\n",
       "  & <int> & <int> & <int> & <int> & <int> & <int> & <int> & <int> & <int> & <int> & <int> & <int> & <int> & <dbl> & <dbl> & <int> & <int> & <int> & <dbl> & <dbl>\\\\\n",
       "\\hline\n",
       "\t-Alan Ashby & 315 &  81 &  7 & 24 & 38 & 39 & 14 & 3449 &  835 &  69 & 321 & 414 & 375 & 1 & 1 & 632 &  43 & 10 & 475.0 & 1\\\\\n",
       "\t-Alvin Davis & 479 & 130 & 18 & 66 & 72 & 76 &  3 & 1624 &  457 &  63 & 224 & 266 & 263 & 0 & 1 & 880 &  82 & 14 & 480.0 & 0\\\\\n",
       "\t-Andre Dawson & 496 & 141 & 20 & 65 & 78 & 37 & 11 & 5628 & 1575 & 225 & 828 & 838 & 354 & 1 & 0 & 200 &  11 &  3 & 500.0 & 1\\\\\n",
       "\t-Andres Galarraga & 321 &  87 & 10 & 39 & 42 & 30 &  2 &  396 &  101 &  12 &  48 &  46 &  33 & 1 & 0 & 805 &  40 &  4 &  91.5 & 1\\\\\n",
       "\t-Alfredo Griffin & 594 & 169 &  4 & 74 & 51 & 35 & 11 & 4408 & 1133 &  19 & 501 & 336 & 194 & 0 & 1 & 282 & 421 & 25 & 750.0 & 0\\\\\n",
       "\t-Al Newman & 185 &  37 &  1 & 23 &  8 & 21 &  2 &  214 &   42 &   1 &  30 &   9 &  24 & 1 & 0 &  76 & 127 &  7 &  70.0 & 0\\\\\n",
       "\\end{tabular}\n"
      ],
      "text/markdown": [
       "\n",
       "A data.frame: 6 x 20\n",
       "\n",
       "| <!--/--> | AtBat &lt;int&gt; | Hits &lt;int&gt; | HmRun &lt;int&gt; | Runs &lt;int&gt; | RBI &lt;int&gt; | Walks &lt;int&gt; | Years &lt;int&gt; | CAtBat &lt;int&gt; | CHits &lt;int&gt; | CHmRun &lt;int&gt; | CRuns &lt;int&gt; | CRBI &lt;int&gt; | CWalks &lt;int&gt; | League &lt;dbl&gt; | Division &lt;dbl&gt; | PutOuts &lt;int&gt; | Assists &lt;int&gt; | Errors &lt;int&gt; | Salary &lt;dbl&gt; | NewLeague &lt;dbl&gt; |\n",
       "|---|---|---|---|---|---|---|---|---|---|---|---|---|---|---|---|---|---|---|---|---|\n",
       "| -Alan Ashby | 315 |  81 |  7 | 24 | 38 | 39 | 14 | 3449 |  835 |  69 | 321 | 414 | 375 | 1 | 1 | 632 |  43 | 10 | 475.0 | 1 |\n",
       "| -Alvin Davis | 479 | 130 | 18 | 66 | 72 | 76 |  3 | 1624 |  457 |  63 | 224 | 266 | 263 | 0 | 1 | 880 |  82 | 14 | 480.0 | 0 |\n",
       "| -Andre Dawson | 496 | 141 | 20 | 65 | 78 | 37 | 11 | 5628 | 1575 | 225 | 828 | 838 | 354 | 1 | 0 | 200 |  11 |  3 | 500.0 | 1 |\n",
       "| -Andres Galarraga | 321 |  87 | 10 | 39 | 42 | 30 |  2 |  396 |  101 |  12 |  48 |  46 |  33 | 1 | 0 | 805 |  40 |  4 |  91.5 | 1 |\n",
       "| -Alfredo Griffin | 594 | 169 |  4 | 74 | 51 | 35 | 11 | 4408 | 1133 |  19 | 501 | 336 | 194 | 0 | 1 | 282 | 421 | 25 | 750.0 | 0 |\n",
       "| -Al Newman | 185 |  37 |  1 | 23 |  8 | 21 |  2 |  214 |   42 |   1 |  30 |   9 |  24 | 1 | 0 |  76 | 127 |  7 |  70.0 | 0 |\n",
       "\n"
      ],
      "text/plain": [
       "                  AtBat Hits HmRun Runs RBI Walks Years CAtBat CHits CHmRun\n",
       "-Alan Ashby       315    81   7    24   38  39    14    3449    835   69   \n",
       "-Alvin Davis      479   130  18    66   72  76     3    1624    457   63   \n",
       "-Andre Dawson     496   141  20    65   78  37    11    5628   1575  225   \n",
       "-Andres Galarraga 321    87  10    39   42  30     2     396    101   12   \n",
       "-Alfredo Griffin  594   169   4    74   51  35    11    4408   1133   19   \n",
       "-Al Newman        185    37   1    23    8  21     2     214     42    1   \n",
       "                  CRuns CRBI CWalks League Division PutOuts Assists Errors\n",
       "-Alan Ashby       321   414  375    1      1        632      43     10    \n",
       "-Alvin Davis      224   266  263    0      1        880      82     14    \n",
       "-Andre Dawson     828   838  354    1      0        200      11      3    \n",
       "-Andres Galarraga  48    46   33    1      0        805      40      4    \n",
       "-Alfredo Griffin  501   336  194    0      1        282     421     25    \n",
       "-Al Newman         30     9   24    1      0         76     127      7    \n",
       "                  Salary NewLeague\n",
       "-Alan Ashby       475.0  1        \n",
       "-Alvin Davis      480.0  0        \n",
       "-Andre Dawson     500.0  1        \n",
       "-Andres Galarraga  91.5  1        \n",
       "-Alfredo Griffin  750.0  0        \n",
       "-Al Newman         70.0  0        "
      ]
     },
     "metadata": {},
     "output_type": "display_data"
    }
   ],
   "source": [
    "Hitters <- na.omit(Hitters)\n",
    "\n",
    "# Convertir categóricas a dummyes\n",
    "Hitters <- Hitters %>%\n",
    "  mutate(across(where(is.factor), ~ as.integer(factor(.)) - 1))\n",
    "\n",
    "# Ver los primeros registros del nuevo dataset\n",
    "head(Hitters)"
   ]
  },
  {
   "cell_type": "code",
   "execution_count": 4,
   "metadata": {
    "vscode": {
     "languageId": "r"
    }
   },
   "outputs": [
    {
     "data": {
      "text/html": [
       "<table class=\"dataframe\">\n",
       "<caption>A data.frame: 6 x 20</caption>\n",
       "<thead>\n",
       "\t<tr><th></th><th scope=col>AtBat</th><th scope=col>Hits</th><th scope=col>HmRun</th><th scope=col>Runs</th><th scope=col>RBI</th><th scope=col>Walks</th><th scope=col>Years</th><th scope=col>CAtBat</th><th scope=col>CHits</th><th scope=col>CHmRun</th><th scope=col>CRuns</th><th scope=col>CRBI</th><th scope=col>CWalks</th><th scope=col>League</th><th scope=col>Division</th><th scope=col>PutOuts</th><th scope=col>Assists</th><th scope=col>Errors</th><th scope=col>NewLeague</th><th scope=col>log_Salary</th></tr>\n",
       "\t<tr><th></th><th scope=col>&lt;int&gt;</th><th scope=col>&lt;int&gt;</th><th scope=col>&lt;int&gt;</th><th scope=col>&lt;int&gt;</th><th scope=col>&lt;int&gt;</th><th scope=col>&lt;int&gt;</th><th scope=col>&lt;int&gt;</th><th scope=col>&lt;int&gt;</th><th scope=col>&lt;int&gt;</th><th scope=col>&lt;int&gt;</th><th scope=col>&lt;int&gt;</th><th scope=col>&lt;int&gt;</th><th scope=col>&lt;int&gt;</th><th scope=col>&lt;dbl&gt;</th><th scope=col>&lt;dbl&gt;</th><th scope=col>&lt;int&gt;</th><th scope=col>&lt;int&gt;</th><th scope=col>&lt;int&gt;</th><th scope=col>&lt;dbl&gt;</th><th scope=col>&lt;dbl&gt;</th></tr>\n",
       "</thead>\n",
       "<tbody>\n",
       "\t<tr><th scope=row>-Alan Ashby</th><td>315</td><td> 81</td><td> 7</td><td>24</td><td>38</td><td>39</td><td>14</td><td>3449</td><td> 835</td><td> 69</td><td>321</td><td>414</td><td>375</td><td>1</td><td>1</td><td>632</td><td> 43</td><td>10</td><td>1</td><td>6.163315</td></tr>\n",
       "\t<tr><th scope=row>-Alvin Davis</th><td>479</td><td>130</td><td>18</td><td>66</td><td>72</td><td>76</td><td> 3</td><td>1624</td><td> 457</td><td> 63</td><td>224</td><td>266</td><td>263</td><td>0</td><td>1</td><td>880</td><td> 82</td><td>14</td><td>0</td><td>6.173786</td></tr>\n",
       "\t<tr><th scope=row>-Andre Dawson</th><td>496</td><td>141</td><td>20</td><td>65</td><td>78</td><td>37</td><td>11</td><td>5628</td><td>1575</td><td>225</td><td>828</td><td>838</td><td>354</td><td>1</td><td>0</td><td>200</td><td> 11</td><td> 3</td><td>1</td><td>6.214608</td></tr>\n",
       "\t<tr><th scope=row>-Andres Galarraga</th><td>321</td><td> 87</td><td>10</td><td>39</td><td>42</td><td>30</td><td> 2</td><td> 396</td><td> 101</td><td> 12</td><td> 48</td><td> 46</td><td> 33</td><td>1</td><td>0</td><td>805</td><td> 40</td><td> 4</td><td>1</td><td>4.516339</td></tr>\n",
       "\t<tr><th scope=row>-Alfredo Griffin</th><td>594</td><td>169</td><td> 4</td><td>74</td><td>51</td><td>35</td><td>11</td><td>4408</td><td>1133</td><td> 19</td><td>501</td><td>336</td><td>194</td><td>0</td><td>1</td><td>282</td><td>421</td><td>25</td><td>0</td><td>6.620073</td></tr>\n",
       "\t<tr><th scope=row>-Al Newman</th><td>185</td><td> 37</td><td> 1</td><td>23</td><td> 8</td><td>21</td><td> 2</td><td> 214</td><td>  42</td><td>  1</td><td> 30</td><td>  9</td><td> 24</td><td>1</td><td>0</td><td> 76</td><td>127</td><td> 7</td><td>0</td><td>4.248495</td></tr>\n",
       "</tbody>\n",
       "</table>\n"
      ],
      "text/latex": [
       "A data.frame: 6 x 20\n",
       "\\begin{tabular}{r|llllllllllllllllllll}\n",
       "  & AtBat & Hits & HmRun & Runs & RBI & Walks & Years & CAtBat & CHits & CHmRun & CRuns & CRBI & CWalks & League & Division & PutOuts & Assists & Errors & NewLeague & log\\_Salary\\\\\n",
       "  & <int> & <int> & <int> & <int> & <int> & <int> & <int> & <int> & <int> & <int> & <int> & <int> & <int> & <dbl> & <dbl> & <int> & <int> & <int> & <dbl> & <dbl>\\\\\n",
       "\\hline\n",
       "\t-Alan Ashby & 315 &  81 &  7 & 24 & 38 & 39 & 14 & 3449 &  835 &  69 & 321 & 414 & 375 & 1 & 1 & 632 &  43 & 10 & 1 & 6.163315\\\\\n",
       "\t-Alvin Davis & 479 & 130 & 18 & 66 & 72 & 76 &  3 & 1624 &  457 &  63 & 224 & 266 & 263 & 0 & 1 & 880 &  82 & 14 & 0 & 6.173786\\\\\n",
       "\t-Andre Dawson & 496 & 141 & 20 & 65 & 78 & 37 & 11 & 5628 & 1575 & 225 & 828 & 838 & 354 & 1 & 0 & 200 &  11 &  3 & 1 & 6.214608\\\\\n",
       "\t-Andres Galarraga & 321 &  87 & 10 & 39 & 42 & 30 &  2 &  396 &  101 &  12 &  48 &  46 &  33 & 1 & 0 & 805 &  40 &  4 & 1 & 4.516339\\\\\n",
       "\t-Alfredo Griffin & 594 & 169 &  4 & 74 & 51 & 35 & 11 & 4408 & 1133 &  19 & 501 & 336 & 194 & 0 & 1 & 282 & 421 & 25 & 0 & 6.620073\\\\\n",
       "\t-Al Newman & 185 &  37 &  1 & 23 &  8 & 21 &  2 &  214 &   42 &   1 &  30 &   9 &  24 & 1 & 0 &  76 & 127 &  7 & 0 & 4.248495\\\\\n",
       "\\end{tabular}\n"
      ],
      "text/markdown": [
       "\n",
       "A data.frame: 6 x 20\n",
       "\n",
       "| <!--/--> | AtBat &lt;int&gt; | Hits &lt;int&gt; | HmRun &lt;int&gt; | Runs &lt;int&gt; | RBI &lt;int&gt; | Walks &lt;int&gt; | Years &lt;int&gt; | CAtBat &lt;int&gt; | CHits &lt;int&gt; | CHmRun &lt;int&gt; | CRuns &lt;int&gt; | CRBI &lt;int&gt; | CWalks &lt;int&gt; | League &lt;dbl&gt; | Division &lt;dbl&gt; | PutOuts &lt;int&gt; | Assists &lt;int&gt; | Errors &lt;int&gt; | NewLeague &lt;dbl&gt; | log_Salary &lt;dbl&gt; |\n",
       "|---|---|---|---|---|---|---|---|---|---|---|---|---|---|---|---|---|---|---|---|---|\n",
       "| -Alan Ashby | 315 |  81 |  7 | 24 | 38 | 39 | 14 | 3449 |  835 |  69 | 321 | 414 | 375 | 1 | 1 | 632 |  43 | 10 | 1 | 6.163315 |\n",
       "| -Alvin Davis | 479 | 130 | 18 | 66 | 72 | 76 |  3 | 1624 |  457 |  63 | 224 | 266 | 263 | 0 | 1 | 880 |  82 | 14 | 0 | 6.173786 |\n",
       "| -Andre Dawson | 496 | 141 | 20 | 65 | 78 | 37 | 11 | 5628 | 1575 | 225 | 828 | 838 | 354 | 1 | 0 | 200 |  11 |  3 | 1 | 6.214608 |\n",
       "| -Andres Galarraga | 321 |  87 | 10 | 39 | 42 | 30 |  2 |  396 |  101 |  12 |  48 |  46 |  33 | 1 | 0 | 805 |  40 |  4 | 1 | 4.516339 |\n",
       "| -Alfredo Griffin | 594 | 169 |  4 | 74 | 51 | 35 | 11 | 4408 | 1133 |  19 | 501 | 336 | 194 | 0 | 1 | 282 | 421 | 25 | 0 | 6.620073 |\n",
       "| -Al Newman | 185 |  37 |  1 | 23 |  8 | 21 |  2 |  214 |   42 |   1 |  30 |   9 |  24 | 1 | 0 |  76 | 127 |  7 | 0 | 4.248495 |\n",
       "\n"
      ],
      "text/plain": [
       "                  AtBat Hits HmRun Runs RBI Walks Years CAtBat CHits CHmRun\n",
       "-Alan Ashby       315    81   7    24   38  39    14    3449    835   69   \n",
       "-Alvin Davis      479   130  18    66   72  76     3    1624    457   63   \n",
       "-Andre Dawson     496   141  20    65   78  37    11    5628   1575  225   \n",
       "-Andres Galarraga 321    87  10    39   42  30     2     396    101   12   \n",
       "-Alfredo Griffin  594   169   4    74   51  35    11    4408   1133   19   \n",
       "-Al Newman        185    37   1    23    8  21     2     214     42    1   \n",
       "                  CRuns CRBI CWalks League Division PutOuts Assists Errors\n",
       "-Alan Ashby       321   414  375    1      1        632      43     10    \n",
       "-Alvin Davis      224   266  263    0      1        880      82     14    \n",
       "-Andre Dawson     828   838  354    1      0        200      11      3    \n",
       "-Andres Galarraga  48    46   33    1      0        805      40      4    \n",
       "-Alfredo Griffin  501   336  194    0      1        282     421     25    \n",
       "-Al Newman         30     9   24    1      0         76     127      7    \n",
       "                  NewLeague log_Salary\n",
       "-Alan Ashby       1         6.163315  \n",
       "-Alvin Davis      0         6.173786  \n",
       "-Andre Dawson     1         6.214608  \n",
       "-Andres Galarraga 1         4.516339  \n",
       "-Alfredo Griffin  0         6.620073  \n",
       "-Al Newman        0         4.248495  "
      ]
     },
     "metadata": {},
     "output_type": "display_data"
    }
   ],
   "source": [
    "Hitters$log_Salary <- log(Hitters$Salary)\n",
    "# Eliminar la variable Salary original\n",
    "Hitters <- Hitters %>% select(-Salary)\n",
    "head(Hitters)"
   ]
  },
  {
   "cell_type": "markdown",
   "metadata": {},
   "source": [
    "- Divide the sample in two sets: training (90%) and testing (10%) sets. (2 pts)"
   ]
  },
  {
   "cell_type": "code",
   "execution_count": 5,
   "metadata": {
    "vscode": {
     "languageId": "r"
    }
   },
   "outputs": [
    {
     "data": {
      "text/html": [
       "<style>\n",
       ".list-inline {list-style: none; margin:0; padding: 0}\n",
       ".list-inline>li {display: inline-block}\n",
       ".list-inline>li:not(:last-child)::after {content: \"\\00b7\"; padding: 0 .5ex}\n",
       "</style>\n",
       "<ol class=list-inline><li>236</li><li>20</li></ol>\n"
      ],
      "text/latex": [
       "\\begin{enumerate*}\n",
       "\\item 236\n",
       "\\item 20\n",
       "\\end{enumerate*}\n"
      ],
      "text/markdown": [
       "1. 236\n",
       "2. 20\n",
       "\n",
       "\n"
      ],
      "text/plain": [
       "[1] 236  20"
      ]
     },
     "metadata": {},
     "output_type": "display_data"
    },
    {
     "data": {
      "text/html": [
       "<style>\n",
       ".list-inline {list-style: none; margin:0; padding: 0}\n",
       ".list-inline>li {display: inline-block}\n",
       ".list-inline>li:not(:last-child)::after {content: \"\\00b7\"; padding: 0 .5ex}\n",
       "</style>\n",
       "<ol class=list-inline><li>27</li><li>20</li></ol>\n"
      ],
      "text/latex": [
       "\\begin{enumerate*}\n",
       "\\item 27\n",
       "\\item 20\n",
       "\\end{enumerate*}\n"
      ],
      "text/markdown": [
       "1. 27\n",
       "2. 20\n",
       "\n",
       "\n"
      ],
      "text/plain": [
       "[1] 27 20"
      ]
     },
     "metadata": {},
     "output_type": "display_data"
    }
   ],
   "source": [
    "train_index <- sample(1:nrow(Hitters), size = 0.9 * nrow(Hitters))\n",
    "train <- Hitters[train_index, ]  # Datos de entrenamiento\n",
    "test <- Hitters[-train_index, ]\n",
    "dim(train)\n",
    "dim(test)"
   ]
  },
  {
   "cell_type": "markdown",
   "metadata": {},
   "source": [
    "- Fit an OLS regression to predict the salary of the hitters using all the features of your dataset and provide bootstrap confidence intervals. Follow these steps:"
   ]
  },
  {
   "cell_type": "markdown",
   "metadata": {},
   "source": [
    "Calculate the OLS point estimate using the training set $\\hat{\\beta}$. (2 pts)"
   ]
  },
  {
   "cell_type": "code",
   "execution_count": 6,
   "metadata": {
    "vscode": {
     "languageId": "r"
    }
   },
   "outputs": [
    {
     "name": "stdout",
     "output_type": "stream",
     "text": [
      "  (Intercept)         AtBat          Hits         HmRun          Runs \n",
      " 4.6059622232 -0.0040322013  0.0174354363  0.0089156876 -0.0027188968 \n",
      "          RBI         Walks         Years        CAtBat         CHits \n",
      "-0.0018944568  0.0109713084  0.0482461630  0.0002975748 -0.0006888351 \n",
      "       CHmRun         CRuns          CRBI        CWalks        League \n",
      " 0.0021926502  0.0010721339 -0.0005474106 -0.0013608126  0.3224510323 \n",
      "     Division       PutOuts       Assists        Errors     NewLeague \n",
      "-0.1571631308  0.0003970339  0.0005751489 -0.0066543497 -0.1750754593 \n"
     ]
    }
   ],
   "source": [
    "X <- train %>% select(-log_Salary)  # Todos los regresores (excepto Salary)\n",
    "Y <- train$log_Salary\n",
    "model <- lm(Y ~ ., data = X)\n",
    "beta_hat <- coef(model)\n",
    "print(beta_hat)"
   ]
  },
  {
   "cell_type": "markdown",
   "metadata": {},
   "source": [
    "Use a loop to generate 10 000 bootstrap estimates. That is, sample 10 000 times pairs $(y_i, X_i)^{N_{train}}_{i=1}$ with replacement and, for each, estimate the vector of parameters $\\hat{\\beta}$. You must end up with an array of size (10 000,# features) that contains the sequence $\\hat{\\beta}_{boots} = (\\hat{\\beta}^{(1)}, \\hat{\\beta}^{(2)}, ..., \\hat{\\beta}^{(10000)})$ so each row is a bootstrapped vector of $\\hat{\\beta}$. (2 pts)"
   ]
  },
  {
   "cell_type": "code",
   "execution_count": 7,
   "metadata": {
    "vscode": {
     "languageId": "r"
    }
   },
   "outputs": [],
   "source": [
    "M <- 100000\n",
    "\n",
    "# Crear una matriz para almacenar las estimaciones de los coeficientes bootstrap\n",
    "beta_hat_boost <- matrix(0, nrow = M, ncol = length(beta_hat))\n",
    "\n",
    "# Realizar el proceso de bootstrap\n",
    "N <- nrow(X)\n",
    "\n",
    "for (i in 1:M) {\n",
    "    Z <- cbind(X, Y)  # Combinar X y Y en una sola matriz\n",
    "    random_index <- sample(1:N, N, replace = TRUE)  # Muestra aleatoria con reemplazo\n",
    "    Z_boost <- Z[random_index, ]  # Crear muestra bootstrap\n",
    "    \n",
    "    # Separar X e Y en Z_boost\n",
    "    X_boost <- Z_boost[, -ncol(Z_boost)]  # X sin la última columna (Y)\n",
    "    Y_boost <- Z_boost[, ncol(Z_boost)]   # La última columna (Y)\n",
    "    \n",
    "    X_boost <- as.matrix(X_boost)  # Convertir X_boost a una matriz\n",
    "    Y_boost <- as.vector(Y_boost) \n",
    "\n",
    "    # Ajustar el modelo OLS con los datos bootstrap\n",
    "    model_boost <- lm(Y_boost ~ X_boost)\n",
    "    \n",
    "    # Guardar los coeficientes de la regresión bootstrap\n",
    "    beta_hat_boost[i, ] <- coef(model_boost)\n",
    "}"
   ]
  },
  {
   "cell_type": "markdown",
   "metadata": {},
   "source": [
    "Calculate the 95% confidence intervals $\\hat{\\beta}^{lower}_{boots}$ and $\\hat{\\beta}^{upper}_{boots}$ using the empirical approach. These are defined as follows:"
   ]
  },
  {
   "cell_type": "markdown",
   "metadata": {},
   "source": [
    "$\\hat{\\beta}^{lower}_{boots} = \\hat{\\beta} - \\hat{\\beta}^{97.5}_{boots}$"
   ]
  },
  {
   "cell_type": "markdown",
   "metadata": {},
   "source": [
    "$\\hat{\\beta}^{lower}_{boots} = \\hat{\\beta} - \\hat{\\beta}^{2.5}_{boots}$"
   ]
  },
  {
   "cell_type": "markdown",
   "metadata": {},
   "source": [
    "where $\\hat{\\beta}^{\\alpha}_{boots}$ is the $\\alpha$% percentile of the $\\hat{\\beta}_{boots}$ distribution. (2pts)"
   ]
  },
  {
   "cell_type": "code",
   "execution_count": 8,
   "metadata": {
    "vscode": {
     "languageId": "r"
    }
   },
   "outputs": [
    {
     "data": {
      "text/html": [
       "<style>\n",
       ".dl-inline {width: auto; margin:0; padding: 0}\n",
       ".dl-inline>dt, .dl-inline>dd {float: none; width: auto; display: inline-block}\n",
       ".dl-inline>dt::after {content: \":\\0020\"; padding-right: .5ex}\n",
       ".dl-inline>dt:not(:first-of-type) {padding-left: .5ex}\n",
       "</style><dl class=dl-inline><dt>(Intercept)</dt><dd>4.60596222315292</dd><dt>AtBat</dt><dd>-0.00403220128764825</dd><dt>Hits</dt><dd>0.0174354363413258</dd><dt>HmRun</dt><dd>0.00891568762036822</dd><dt>Runs</dt><dd>-0.00271889683541389</dd><dt>RBI</dt><dd>-0.00189445676723464</dd><dt>Walks</dt><dd>0.0109713083532582</dd><dt>Years</dt><dd>0.0482461629807834</dd><dt>CAtBat</dt><dd>0.000297574775612516</dd><dt>CHits</dt><dd>-0.000688835051237895</dd><dt>CHmRun</dt><dd>0.00219265018432279</dd><dt>CRuns</dt><dd>0.00107213390655326</dd><dt>CRBI</dt><dd>-0.000547410638024266</dd><dt>CWalks</dt><dd>-0.00136081260163682</dd><dt>League</dt><dd>0.322451032252098</dd><dt>Division</dt><dd>-0.157163130821333</dd><dt>PutOuts</dt><dd>0.00039703393251165</dd><dt>Assists</dt><dd>0.000575148867653924</dd><dt>Errors</dt><dd>-0.0066543496822538</dd><dt>NewLeague</dt><dd>-0.175075459312268</dd></dl>\n"
      ],
      "text/latex": [
       "\\begin{description*}\n",
       "\\item[(Intercept)] 4.60596222315292\n",
       "\\item[AtBat] -0.00403220128764825\n",
       "\\item[Hits] 0.0174354363413258\n",
       "\\item[HmRun] 0.00891568762036822\n",
       "\\item[Runs] -0.00271889683541389\n",
       "\\item[RBI] -0.00189445676723464\n",
       "\\item[Walks] 0.0109713083532582\n",
       "\\item[Years] 0.0482461629807834\n",
       "\\item[CAtBat] 0.000297574775612516\n",
       "\\item[CHits] -0.000688835051237895\n",
       "\\item[CHmRun] 0.00219265018432279\n",
       "\\item[CRuns] 0.00107213390655326\n",
       "\\item[CRBI] -0.000547410638024266\n",
       "\\item[CWalks] -0.00136081260163682\n",
       "\\item[League] 0.322451032252098\n",
       "\\item[Division] -0.157163130821333\n",
       "\\item[PutOuts] 0.00039703393251165\n",
       "\\item[Assists] 0.000575148867653924\n",
       "\\item[Errors] -0.0066543496822538\n",
       "\\item[NewLeague] -0.175075459312268\n",
       "\\end{description*}\n"
      ],
      "text/markdown": [
       "(Intercept)\n",
       ":   4.60596222315292AtBat\n",
       ":   -0.00403220128764825Hits\n",
       ":   0.0174354363413258HmRun\n",
       ":   0.00891568762036822Runs\n",
       ":   -0.00271889683541389RBI\n",
       ":   -0.00189445676723464Walks\n",
       ":   0.0109713083532582Years\n",
       ":   0.0482461629807834CAtBat\n",
       ":   0.000297574775612516CHits\n",
       ":   -0.000688835051237895CHmRun\n",
       ":   0.00219265018432279CRuns\n",
       ":   0.00107213390655326CRBI\n",
       ":   -0.000547410638024266CWalks\n",
       ":   -0.00136081260163682League\n",
       ":   0.322451032252098Division\n",
       ":   -0.157163130821333PutOuts\n",
       ":   0.00039703393251165Assists\n",
       ":   0.000575148867653924Errors\n",
       ":   -0.0066543496822538NewLeague\n",
       ":   -0.175075459312268\n",
       "\n"
      ],
      "text/plain": [
       "  (Intercept)         AtBat          Hits         HmRun          Runs \n",
       " 4.6059622232 -0.0040322013  0.0174354363  0.0089156876 -0.0027188968 \n",
       "          RBI         Walks         Years        CAtBat         CHits \n",
       "-0.0018944568  0.0109713084  0.0482461630  0.0002975748 -0.0006888351 \n",
       "       CHmRun         CRuns          CRBI        CWalks        League \n",
       " 0.0021926502  0.0010721339 -0.0005474106 -0.0013608126  0.3224510323 \n",
       "     Division       PutOuts       Assists        Errors     NewLeague \n",
       "-0.1571631308  0.0003970339  0.0005751489 -0.0066543497 -0.1750754593 "
      ]
     },
     "metadata": {},
     "output_type": "display_data"
    },
    {
     "data": {
      "text/html": [
       "<style>\n",
       ".list-inline {list-style: none; margin:0; padding: 0}\n",
       ".list-inline>li {display: inline-block}\n",
       ".list-inline>li:not(:last-child)::after {content: \"\\00b7\"; padding: 0 .5ex}\n",
       "</style>\n",
       "<ol class=list-inline><li>100000</li><li>20</li></ol>\n"
      ],
      "text/latex": [
       "\\begin{enumerate*}\n",
       "\\item 100000\n",
       "\\item 20\n",
       "\\end{enumerate*}\n"
      ],
      "text/markdown": [
       "1. 100000\n",
       "2. 20\n",
       "\n",
       "\n"
      ],
      "text/plain": [
       "[1] 100000     20"
      ]
     },
     "metadata": {},
     "output_type": "display_data"
    }
   ],
   "source": [
    "beta_hat \n",
    "dim(beta_hat_boost)"
   ]
  },
  {
   "cell_type": "code",
   "execution_count": 9,
   "metadata": {
    "vscode": {
     "languageId": "r"
    }
   },
   "outputs": [
    {
     "name": "stdout",
     "output_type": "stream",
     "text": [
      "Intervalos de confianza de Hall:\n",
      "               Estimacion IC_inferior   IC_superior\n",
      "(Intercept)  4.6059622232    9.178913  0.0004126688\n",
      "AtBat       -0.0040322013    4.568919 -4.6095817556\n",
      "Hits         0.0174354363    4.590387 -4.5881141180\n",
      "HmRun        0.0089156876    4.581867 -4.5966338667\n",
      "Runs        -0.0027188968    4.570232 -4.6082684512\n",
      "RBI         -0.0018944568    4.571057 -4.6074440111\n",
      "Walks        0.0109713084    4.583922 -4.5945782460\n",
      "Years        0.0482461630    4.621197 -4.5573033914\n",
      "CAtBat       0.0002975748    4.573249 -4.6052519796\n",
      "CHits       -0.0006888351    4.572262 -4.6062383894\n",
      "CHmRun       0.0021926502    4.575144 -4.6033569042\n",
      "CRuns        0.0010721339    4.574023 -4.6044774204\n",
      "CRBI        -0.0005474106    4.572404 -4.6060969650\n",
      "CWalks      -0.0013608126    4.571590 -4.6069103670\n",
      "League       0.3224510323    4.895402 -4.2830985221\n",
      "Division    -0.1571631308    4.415788 -4.7627126852\n",
      "PutOuts      0.0003970339    4.573348 -4.6051525204\n",
      "Assists      0.0005751489    4.573526 -4.6049744055\n",
      "Errors      -0.0066543497    4.566297 -4.6122039040\n",
      "NewLeague   -0.1750754593    4.397876 -4.7806250137\n"
     ]
    }
   ],
   "source": [
    "delta <- beta_hat - beta_hat_boost \n",
    "\n",
    "# Calculate Hall confidence intervals\n",
    "lower_bound_boost_emp <- beta_hat - quantile(delta, 0.025)\n",
    "upper_bound_boost_emp <- beta_hat - quantile(delta, 0.975)\n",
    "\n",
    "results <- data.frame(\n",
    "  Estimacion = beta_hat,  # Los valores estimados de los coeficientes\n",
    "  IC_inferior = lower_bound_boost_emp,  # Límite inferior\n",
    "  IC_superior = upper_bound_boost_emp  # Límite superior\n",
    ")\n",
    "\n",
    "# Imprimir los resultados\n",
    "cat(\"Intervalos de confianza de Hall:\\n\")\n",
    "print(results)"
   ]
  },
  {
   "cell_type": "markdown",
   "metadata": {},
   "source": [
    "Calculate the out of sample mean squared error of the model"
   ]
  },
  {
   "cell_type": "code",
   "execution_count": 11,
   "metadata": {
    "vscode": {
     "languageId": "r"
    }
   },
   "outputs": [
    {
     "name": "stdout",
     "output_type": "stream",
     "text": [
      "Out-of-sample Mean Squared Error (MSE): 0.5485562 \n"
     ]
    }
   ],
   "source": [
    "X_test <- test %>% select(-log_Salary)  # Todos los regresores del conjunto de prueba (excepto Salary)\n",
    "Y_test <- test$log_Salary  # Valores reales de Salary en el conjunto de prueba\n",
    "Y_test <- as.matrix(Y_test)\n",
    "\n",
    "# Realizar predicciones con el modelo ajustado\n",
    "Y_hat_test <- predict(model, X_test)\n",
    "\n",
    "# Calcular el OOS MSE\n",
    "mse <- mean((Y_test - Y_hat_test)^2)\n",
    "\n",
    "# Imprimir el resultado\n",
    "cat(\"Out-of-sample Mean Squared Error (MSE):\", mse, \"\\n\")"
   ]
  },
  {
   "cell_type": "markdown",
   "metadata": {},
   "source": [
    "- Fit a regression tree to predict the salary using all the features of your dataset. Follow these steps:"
   ]
  },
  {
   "cell_type": "markdown",
   "metadata": {},
   "source": [
    "Using the training data, fit a tree and prune it. To choose the prunning parameter, cross validate it as we did in class. (4 pts)"
   ]
  },
  {
   "cell_type": "code",
   "execution_count": 12,
   "metadata": {
    "vscode": {
     "languageId": "r"
    }
   },
   "outputs": [
    {
     "name": "stderr",
     "output_type": "stream",
     "text": [
      "Loading required package: ggplot2\n",
      "\n",
      "Loading required package: lattice\n",
      "\n"
     ]
    }
   ],
   "source": [
    "library(tree)\n",
    "library(caret)\n",
    "library(datasets)\n",
    "library(ggplot2)"
   ]
  },
  {
   "cell_type": "code",
   "execution_count": 16,
   "metadata": {
    "vscode": {
     "languageId": "r"
    }
   },
   "outputs": [
    {
     "data": {
      "text/html": [
       "<table class=\"dataframe\">\n",
       "<caption>A data.frame: 6 x 19</caption>\n",
       "<thead>\n",
       "\t<tr><th></th><th scope=col>AtBat</th><th scope=col>Hits</th><th scope=col>HmRun</th><th scope=col>Runs</th><th scope=col>RBI</th><th scope=col>Walks</th><th scope=col>Years</th><th scope=col>CAtBat</th><th scope=col>CHits</th><th scope=col>CHmRun</th><th scope=col>CRuns</th><th scope=col>CRBI</th><th scope=col>CWalks</th><th scope=col>League</th><th scope=col>Division</th><th scope=col>PutOuts</th><th scope=col>Assists</th><th scope=col>Errors</th><th scope=col>NewLeague</th></tr>\n",
       "\t<tr><th></th><th scope=col>&lt;int&gt;</th><th scope=col>&lt;int&gt;</th><th scope=col>&lt;int&gt;</th><th scope=col>&lt;int&gt;</th><th scope=col>&lt;int&gt;</th><th scope=col>&lt;int&gt;</th><th scope=col>&lt;int&gt;</th><th scope=col>&lt;int&gt;</th><th scope=col>&lt;int&gt;</th><th scope=col>&lt;int&gt;</th><th scope=col>&lt;int&gt;</th><th scope=col>&lt;int&gt;</th><th scope=col>&lt;int&gt;</th><th scope=col>&lt;dbl&gt;</th><th scope=col>&lt;dbl&gt;</th><th scope=col>&lt;int&gt;</th><th scope=col>&lt;int&gt;</th><th scope=col>&lt;int&gt;</th><th scope=col>&lt;dbl&gt;</th></tr>\n",
       "</thead>\n",
       "<tbody>\n",
       "\t<tr><th scope=row>-Gary Carter</th><td>490</td><td>125</td><td>24</td><td>81</td><td>105</td><td>62</td><td>13</td><td>6063</td><td>1646</td><td>271</td><td>847</td><td>999</td><td>680</td><td>1</td><td>0</td><td>869</td><td> 62</td><td> 8</td><td>1</td></tr>\n",
       "\t<tr><th scope=row>-Ryne Sandberg</th><td>627</td><td>178</td><td>14</td><td>68</td><td> 76</td><td>46</td><td> 6</td><td>3146</td><td> 902</td><td> 74</td><td>494</td><td>345</td><td>242</td><td>1</td><td>0</td><td>309</td><td>492</td><td> 5</td><td>1</td></tr>\n",
       "\t<tr><th scope=row>-Danny Tartabull</th><td>511</td><td>138</td><td>25</td><td>76</td><td> 96</td><td>61</td><td> 3</td><td> 592</td><td> 164</td><td> 28</td><td> 87</td><td>110</td><td> 71</td><td>0</td><td>1</td><td>157</td><td>  7</td><td> 8</td><td>0</td></tr>\n",
       "\t<tr><th scope=row>-Gary Ward</th><td>380</td><td>120</td><td> 5</td><td>54</td><td> 51</td><td>31</td><td> 8</td><td>3118</td><td> 900</td><td> 92</td><td>444</td><td>419</td><td>240</td><td>0</td><td>1</td><td>237</td><td>  8</td><td> 1</td><td>0</td></tr>\n",
       "\t<tr><th scope=row>-Chris Bando</th><td>254</td><td> 68</td><td> 2</td><td>28</td><td> 26</td><td>22</td><td> 6</td><td> 999</td><td> 236</td><td> 21</td><td>108</td><td>117</td><td>118</td><td>0</td><td>0</td><td>359</td><td> 30</td><td> 4</td><td>0</td></tr>\n",
       "\t<tr><th scope=row>-Juan Beniquez</th><td>343</td><td>103</td><td> 6</td><td>48</td><td> 36</td><td>40</td><td>15</td><td>4338</td><td>1193</td><td> 70</td><td>581</td><td>421</td><td>325</td><td>0</td><td>0</td><td>211</td><td> 56</td><td>13</td><td>0</td></tr>\n",
       "</tbody>\n",
       "</table>\n"
      ],
      "text/latex": [
       "A data.frame: 6 x 19\n",
       "\\begin{tabular}{r|lllllllllllllllllll}\n",
       "  & AtBat & Hits & HmRun & Runs & RBI & Walks & Years & CAtBat & CHits & CHmRun & CRuns & CRBI & CWalks & League & Division & PutOuts & Assists & Errors & NewLeague\\\\\n",
       "  & <int> & <int> & <int> & <int> & <int> & <int> & <int> & <int> & <int> & <int> & <int> & <int> & <int> & <dbl> & <dbl> & <int> & <int> & <int> & <dbl>\\\\\n",
       "\\hline\n",
       "\t-Gary Carter & 490 & 125 & 24 & 81 & 105 & 62 & 13 & 6063 & 1646 & 271 & 847 & 999 & 680 & 1 & 0 & 869 &  62 &  8 & 1\\\\\n",
       "\t-Ryne Sandberg & 627 & 178 & 14 & 68 &  76 & 46 &  6 & 3146 &  902 &  74 & 494 & 345 & 242 & 1 & 0 & 309 & 492 &  5 & 1\\\\\n",
       "\t-Danny Tartabull & 511 & 138 & 25 & 76 &  96 & 61 &  3 &  592 &  164 &  28 &  87 & 110 &  71 & 0 & 1 & 157 &   7 &  8 & 0\\\\\n",
       "\t-Gary Ward & 380 & 120 &  5 & 54 &  51 & 31 &  8 & 3118 &  900 &  92 & 444 & 419 & 240 & 0 & 1 & 237 &   8 &  1 & 0\\\\\n",
       "\t-Chris Bando & 254 &  68 &  2 & 28 &  26 & 22 &  6 &  999 &  236 &  21 & 108 & 117 & 118 & 0 & 0 & 359 &  30 &  4 & 0\\\\\n",
       "\t-Juan Beniquez & 343 & 103 &  6 & 48 &  36 & 40 & 15 & 4338 & 1193 &  70 & 581 & 421 & 325 & 0 & 0 & 211 &  56 & 13 & 0\\\\\n",
       "\\end{tabular}\n"
      ],
      "text/markdown": [
       "\n",
       "A data.frame: 6 x 19\n",
       "\n",
       "| <!--/--> | AtBat &lt;int&gt; | Hits &lt;int&gt; | HmRun &lt;int&gt; | Runs &lt;int&gt; | RBI &lt;int&gt; | Walks &lt;int&gt; | Years &lt;int&gt; | CAtBat &lt;int&gt; | CHits &lt;int&gt; | CHmRun &lt;int&gt; | CRuns &lt;int&gt; | CRBI &lt;int&gt; | CWalks &lt;int&gt; | League &lt;dbl&gt; | Division &lt;dbl&gt; | PutOuts &lt;int&gt; | Assists &lt;int&gt; | Errors &lt;int&gt; | NewLeague &lt;dbl&gt; |\n",
       "|---|---|---|---|---|---|---|---|---|---|---|---|---|---|---|---|---|---|---|---|\n",
       "| -Gary Carter | 490 | 125 | 24 | 81 | 105 | 62 | 13 | 6063 | 1646 | 271 | 847 | 999 | 680 | 1 | 0 | 869 |  62 |  8 | 1 |\n",
       "| -Ryne Sandberg | 627 | 178 | 14 | 68 |  76 | 46 |  6 | 3146 |  902 |  74 | 494 | 345 | 242 | 1 | 0 | 309 | 492 |  5 | 1 |\n",
       "| -Danny Tartabull | 511 | 138 | 25 | 76 |  96 | 61 |  3 |  592 |  164 |  28 |  87 | 110 |  71 | 0 | 1 | 157 |   7 |  8 | 0 |\n",
       "| -Gary Ward | 380 | 120 |  5 | 54 |  51 | 31 |  8 | 3118 |  900 |  92 | 444 | 419 | 240 | 0 | 1 | 237 |   8 |  1 | 0 |\n",
       "| -Chris Bando | 254 |  68 |  2 | 28 |  26 | 22 |  6 |  999 |  236 |  21 | 108 | 117 | 118 | 0 | 0 | 359 |  30 |  4 | 0 |\n",
       "| -Juan Beniquez | 343 | 103 |  6 | 48 |  36 | 40 | 15 | 4338 | 1193 |  70 | 581 | 421 | 325 | 0 | 0 | 211 |  56 | 13 | 0 |\n",
       "\n"
      ],
      "text/plain": [
       "                 AtBat Hits HmRun Runs RBI Walks Years CAtBat CHits CHmRun\n",
       "-Gary Carter     490   125  24    81   105 62    13    6063   1646  271   \n",
       "-Ryne Sandberg   627   178  14    68    76 46     6    3146    902   74   \n",
       "-Danny Tartabull 511   138  25    76    96 61     3     592    164   28   \n",
       "-Gary Ward       380   120   5    54    51 31     8    3118    900   92   \n",
       "-Chris Bando     254    68   2    28    26 22     6     999    236   21   \n",
       "-Juan Beniquez   343   103   6    48    36 40    15    4338   1193   70   \n",
       "                 CRuns CRBI CWalks League Division PutOuts Assists Errors\n",
       "-Gary Carter     847   999  680    1      0        869      62      8    \n",
       "-Ryne Sandberg   494   345  242    1      0        309     492      5    \n",
       "-Danny Tartabull  87   110   71    0      1        157       7      8    \n",
       "-Gary Ward       444   419  240    0      1        237       8      1    \n",
       "-Chris Bando     108   117  118    0      0        359      30      4    \n",
       "-Juan Beniquez   581   421  325    0      0        211      56     13    \n",
       "                 NewLeague\n",
       "-Gary Carter     1        \n",
       "-Ryne Sandberg   1        \n",
       "-Danny Tartabull 0        \n",
       "-Gary Ward       0        \n",
       "-Chris Bando     0        \n",
       "-Juan Beniquez   0        "
      ]
     },
     "metadata": {},
     "output_type": "display_data"
    }
   ],
   "source": [
    "head(X)\n"
   ]
  },
  {
   "cell_type": "code",
   "execution_count": 19,
   "metadata": {
    "vscode": {
     "languageId": "r"
    }
   },
   "outputs": [
    {
     "name": "stdout",
     "output_type": "stream",
     "text": [
      "[1] 1.724359\n",
      "[1] 11\n"
     ]
    }
   ],
   "source": [
    "tree_model <- tree(Y ~ ., data = X, mincut = 0, minsize = 0, mindev = 0)\n",
    "cv_tree <- cv.tree(tree_model, K = 3)\n",
    "optimal_alpha <- cv_tree$k[which(cv_tree$dev == min(cv_tree$dev))]\n",
    "optimal_size <- cv_tree$size[which(cv_tree$dev == min(cv_tree$dev))]\n",
    "print(optimal_alpha)\n",
    "print(optimal_size)"
   ]
  },
  {
   "cell_type": "code",
   "execution_count": 20,
   "metadata": {
    "vscode": {
     "languageId": "r"
    }
   },
   "outputs": [
    {
     "data": {
      "image/png": "[encoded data removed]",
      "text/plain": [
       "plot without title"
      ]
     },
     "metadata": {
      "image/png": {
       "height": 420,
       "width": 420
      }
     },
     "output_type": "display_data"
    }
   ],
   "source": [
    "tree_model_prune <- prune.tree(tree_model, best = optimal_size)\n",
    "plot(tree_model_prune)\n",
    "text(tree_model_prune, pretty = 0)"
   ]
  },
  {
   "cell_type": "markdown",
   "metadata": {},
   "source": [
    "Calculate the out of sample mean squared error of the model. (2 pts)"
   ]
  },
  {
   "cell_type": "code",
   "execution_count": 128,
   "metadata": {
    "vscode": {
     "languageId": "r"
    }
   },
   "outputs": [
    {
     "name": "stdout",
     "output_type": "stream",
     "text": [
      "Out-of-sample Mean Squared Error of the Regression Tree: 0.1735817 \n"
     ]
    }
   ],
   "source": [
    "predictions_prune <- predict(tree_model_prune, test)\n",
    "mse_tree <- mean((Y_test - as.numeric(predictions_prune))^2)\n",
    "\n",
    "cat(\"Out-of-sample Mean Squared Error of the Regression Tree:\", mse_tree, \"\\n\")"
   ]
  },
  {
   "cell_type": "markdown",
   "metadata": {},
   "source": [
    "- Which model performs better in terms of predictive accuracy? (2 pts) "
   ]
  },
  {
   "cell_type": "markdown",
   "metadata": {},
   "source": [
    "##### In terms of power and predictive accuracy, the regression tree that uses cross-validation to find the optimal pruning parameter performs better than using bootsrap regression, which is by observing a lower mean square error . This may be because the sample size used is not small enough to best take advantage of the benefits of bootstrap. As evidenced in Rezazadeh et. al (2019), when the data generation process is unknown and the sample size is larger, regression trees fit better than other predictive methods. Bootstrap is most useful in small samples, where access to more information is limited, which does not seem to be the case with the database used."
   ]
  }
 ],
 "metadata": {
  "kernelspec": {
   "display_name": "R",
   "language": "R",
   "name": "ir"
  },
  "language_info": {
   "codemirror_mode": "r",
   "file_extension": ".r",
   "mimetype": "text/x-r-source",
   "name": "R",
   "pygments_lexer": "r",
   "version": "4.2.3"
  }
 },
 "nbformat": 4,
 "nbformat_minor": 2
}
