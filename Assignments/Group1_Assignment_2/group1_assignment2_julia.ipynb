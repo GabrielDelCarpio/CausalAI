{
  "cells": [
    {
      "cell_type": "markdown",
      "metadata": {},
      "source": [
        "## GROUP 1 - Julia\n",
        "* DEL CARPIO CUENCA, GABRIEL SEBASTIAN\n",
        "* ESPINOSA CALDERON, MAURICIO GUSTAVO\n",
        "* JAIME MARTINEZ, KEVIN OSWALDO\n",
        "* MELLIZO ANTAZU, MILAGROS ESTEFANY\n",
        "* QUISPE ROBLADILLO, ALMENDRA VALERIA"
      ]
    },
    {
      "cell_type": "markdown",
      "metadata": {
        "id": "-1BvFtKudyeN"
      },
      "source": [
        "## **Assignment 2**\n",
        "\n",
        "\n",
        "In this assignment, you will be creating your own cross-fitting procedure and apply it to the wages data that we have been using."
      ]
    },
    {
      "cell_type": "code",
      "execution_count": 24,
      "metadata": {
        "colab": {
          "base_uri": "https://localhost:8080/",
          "height": 87
        },
        "id": "2KIq4mEvmqEO",
        "outputId": "87839c16-c3f1-47e8-f3a9-b12543dc811b"
      },
      "outputs": [
        {
          "data": {
            "text/latex": [
              "Unrecognized magic \\texttt{\\%\\%shell}.\n",
              "\n",
              "Julia does not use the IPython \\texttt{\\%magic} syntax.   To interact with the IJulia kernel, use \\texttt{IJulia.somefunction(...)}, for example.  Julia macros, string macros, and functions can be used to accomplish most of the other functionalities of IPython magics.\n",
              "\n"
            ],
            "text/markdown": [
              "Unrecognized magic `%%shell`.\n",
              "\n",
              "Julia does not use the IPython `%magic` syntax.   To interact with the IJulia kernel, use `IJulia.somefunction(...)`, for example.  Julia macros, string macros, and functions can be used to accomplish most of the other functionalities of IPython magics.\n"
            ],
            "text/plain": [
              "  Unrecognized magic \u001b[36m%%shell\u001b[39m.\n",
              "\n",
              "  Julia does not use the IPython \u001b[36m%magic\u001b[39m syntax. To interact with the IJulia kernel, use\n",
              "  \u001b[36mIJulia.somefunction(...)\u001b[39m, for example. Julia macros, string macros, and functions can be used to\n",
              "  accomplish most of the other functionalities of IPython magics."
            ]
          },
          "metadata": {},
          "output_type": "display_data"
        }
      ],
      "source": [
        "%%shell\n",
        "set -e\n",
        "\n",
        "#---------------------------------------------------#\n",
        "JULIA_VERSION=\"1.8.2\" # any version ≥ 0.7.0\n",
        "JULIA_PACKAGES=\"IJulia BenchmarkTools\"\n",
        "JULIA_PACKAGES_IF_GPU=\"CUDA\" # or CuArrays for older Julia versions\n",
        "JULIA_NUM_THREADS=2\n",
        "#---------------------------------------------------#\n",
        "\n",
        "if [ -z `which julia` ]; then\n",
        "  # Install Julia\n",
        "  JULIA_VER=`cut -d '.' -f -2 <<< \"$JULIA_VERSION\"`\n",
        "  echo \"Installing Julia $JULIA_VERSION on the current Colab Runtime...\"\n",
        "  BASE_URL=\"https://julialang-s3.julialang.org/bin/linux/x64\"\n",
        "  URL=\"$BASE_URL/$JULIA_VER/julia-$JULIA_VERSION-linux-x86_64.tar.gz\"\n",
        "  wget -nv $URL -O /tmp/julia.tar.gz # -nv means \"not verbose\"\n",
        "  tar -x -f /tmp/julia.tar.gz -C /usr/local --strip-components 1\n",
        "  rm /tmp/julia.tar.gz\n",
        "\n",
        "  # Install Packages\n",
        "  nvidia-smi -L &> /dev/null && export GPU=1 || export GPU=0\n",
        "  if [ $GPU -eq 1 ]; then\n",
        "    JULIA_PACKAGES=\"$JULIA_PACKAGES $JULIA_PACKAGES_IF_GPU\"\n",
        "  fi\n",
        "  for PKG in `echo $JULIA_PACKAGES`; do\n",
        "    echo \"Installing Julia package $PKG...\"\n",
        "    julia -e 'using Pkg; pkg\"add '$PKG'; precompile;\"' &> /dev/null\n",
        "  done\n",
        "\n",
        "  # Install kernel and rename it to \"julia\"\n",
        "  echo \"Installing IJulia kernel...\"\n",
        "  julia -e 'using IJulia; IJulia.installkernel(\"julia\", env=Dict(\n",
        "      \"JULIA_NUM_THREADS\"=>\"'\"$JULIA_NUM_THREADS\"'\"))'\n",
        "  KERNEL_DIR=`julia -e \"using IJulia; print(IJulia.kerneldir())\"`\n",
        "  KERNEL_NAME=`ls -d \"$KERNEL_DIR\"/julia*`\n",
        "  mv -f $KERNEL_NAME \"$KERNEL_DIR\"/julia\n",
        "\n",
        "  echo ''\n",
        "  echo \"Successfully installed `julia -v`!\"\n",
        "  echo \"Please reload this page (press Ctrl+R, ⌘+R, or the F5 key) then\"\n",
        "  echo \"jump to the 'Checking the Installation' section.\"\n",
        "fi"
      ]
    },
    {
      "cell_type": "code",
      "execution_count": 25,
      "metadata": {
        "colab": {
          "base_uri": "https://localhost:8080/"
        },
        "id": "c_7h_ww0kBPd",
        "outputId": "f4b8dc82-5d83-4205-d5b9-18491c9c295f"
      },
      "outputs": [
        {
          "name": "stderr",
          "output_type": "stream",
          "text": [
            "\u001b[32m\u001b[1m   Resolving\u001b[22m\u001b[39m package versions...\n",
            "\u001b[32m\u001b[1m  No Changes\u001b[22m\u001b[39m to `~/.julia/environments/v1.8/Project.toml`\n",
            "\u001b[32m\u001b[1m  No Changes\u001b[22m\u001b[39m to `~/.julia/environments/v1.8/Manifest.toml`\n",
            "\u001b[32m\u001b[1m   Resolving\u001b[22m\u001b[39m package versions...\n",
            "\u001b[32m\u001b[1m  No Changes\u001b[22m\u001b[39m to `~/.julia/environments/v1.8/Project.toml`\n",
            "\u001b[32m\u001b[1m  No Changes\u001b[22m\u001b[39m to `~/.julia/environments/v1.8/Manifest.toml`\n",
            "\u001b[32m\u001b[1m   Resolving\u001b[22m\u001b[39m package versions...\n",
            "\u001b[32m\u001b[1m  No Changes\u001b[22m\u001b[39m to `~/.julia/environments/v1.8/Project.toml`\n",
            "\u001b[32m\u001b[1m  No Changes\u001b[22m\u001b[39m to `~/.julia/environments/v1.8/Manifest.toml`\n",
            "\u001b[32m\u001b[1m   Resolving\u001b[22m\u001b[39m package versions...\n",
            "\u001b[32m\u001b[1m  No Changes\u001b[22m\u001b[39m to `~/.julia/environments/v1.8/Project.toml`\n",
            "\u001b[32m\u001b[1m  No Changes\u001b[22m\u001b[39m to `~/.julia/environments/v1.8/Manifest.toml`\n",
            "\u001b[32m\u001b[1m   Resolving\u001b[22m\u001b[39m package versions...\n",
            "\u001b[32m\u001b[1m  No Changes\u001b[22m\u001b[39m to `~/.julia/environments/v1.8/Project.toml`\n",
            "\u001b[32m\u001b[1m  No Changes\u001b[22m\u001b[39m to `~/.julia/environments/v1.8/Manifest.toml`\n",
            "\u001b[32m\u001b[1m   Resolving\u001b[22m\u001b[39m package versions...\n",
            "\u001b[32m\u001b[1m  No Changes\u001b[22m\u001b[39m to `~/.julia/environments/v1.8/Project.toml`\n",
            "\u001b[32m\u001b[1m  No Changes\u001b[22m\u001b[39m to `~/.julia/environments/v1.8/Manifest.toml`\n"
          ]
        }
      ],
      "source": [
        "using Pkg\n",
        "Pkg.add(\"CSV\")\n",
        "Pkg.add(\"DataFrames\")\n",
        "Pkg.add(\"Statistics\")\n",
        "Pkg.add(\"StatsBase\")\n",
        "Pkg.add(\"StatsModels\")\n",
        "Pkg.add(\"GLM\")"
      ]
    },
    {
      "cell_type": "code",
      "execution_count": 26,
      "metadata": {
        "id": "JeUofyW_kBPh"
      },
      "outputs": [],
      "source": [
        "using DataFrames\n",
        "using Statistics\n",
        "using StatsBase\n",
        "using CSV\n",
        "using StatsModels\n",
        "using GLM"
      ]
    },
    {
      "cell_type": "markdown",
      "metadata": {
        "id": "AdSVgzeRkBPh"
      },
      "source": [
        "**1. Loading and processing the data**"
      ]
    },
    {
      "cell_type": "markdown",
      "metadata": {
        "id": "qJJM5FEYkBPj"
      },
      "source": [
        "1. Load the data, either from the url or from the path provided"
      ]
    },
    {
      "cell_type": "code",
      "execution_count": 27,
      "metadata": {
        "id": "8gttoQHBkBPk"
      },
      "outputs": [],
      "source": [
        "data = CSV.read(\"/content/wage2015_subsample_inference (1).csv\", DataFrame)\n",
        "select!(data, Not(\"rownames\"));"
      ]
    },
    {
      "cell_type": "code",
      "execution_count": 28,
      "metadata": {
        "colab": {
          "base_uri": "https://localhost:8080/"
        },
        "id": "xIrBAQufkBPk",
        "outputId": "7529eaeb-bda2-431b-d554-f3a93efda92f"
      },
      "outputs": [
        {
          "data": {
            "text/plain": [
              "(5150, 20)"
            ]
          },
          "execution_count": 28,
          "metadata": {},
          "output_type": "execute_result"
        }
      ],
      "source": [
        "size(data)"
      ]
    },
    {
      "cell_type": "code",
      "execution_count": 29,
      "metadata": {
        "colab": {
          "base_uri": "https://localhost:8080/",
          "height": 530
        },
        "id": "X6TVkYTRkBPl",
        "outputId": "566c0288-d1f3-46aa-fbec-abdf9136117a"
      },
      "outputs": [
        {
          "data": {
            "text/html": [
              "<div><div style = \"float: left;\"><span>20×2 DataFrame</span></div><div style = \"clear: both;\"></div></div><div class = \"data-frame\" style = \"overflow-x: scroll;\"><table class = \"data-frame\" style = \"margin-bottom: 6px;\"><thead><tr class = \"header\"><th class = \"rowNumber\" style = \"font-weight: bold; text-align: right;\">Row</th><th style = \"text-align: left;\">variable</th><th style = \"text-align: left;\">nmissing</th></tr><tr class = \"subheader headerLastRow\"><th class = \"rowNumber\" style = \"font-weight: bold; text-align: right;\"></th><th title = \"Symbol\" style = \"text-align: left;\">Symbol</th><th title = \"Int64\" style = \"text-align: left;\">Int64</th></tr></thead><tbody><tr><td class = \"rowNumber\" style = \"font-weight: bold; text-align: right;\">1</td><td style = \"text-align: left;\">wage</td><td style = \"text-align: right;\">0</td></tr><tr><td class = \"rowNumber\" style = \"font-weight: bold; text-align: right;\">2</td><td style = \"text-align: left;\">lwage</td><td style = \"text-align: right;\">0</td></tr><tr><td class = \"rowNumber\" style = \"font-weight: bold; text-align: right;\">3</td><td style = \"text-align: left;\">sex</td><td style = \"text-align: right;\">0</td></tr><tr><td class = \"rowNumber\" style = \"font-weight: bold; text-align: right;\">4</td><td style = \"text-align: left;\">shs</td><td style = \"text-align: right;\">0</td></tr><tr><td class = \"rowNumber\" style = \"font-weight: bold; text-align: right;\">5</td><td style = \"text-align: left;\">hsg</td><td style = \"text-align: right;\">0</td></tr><tr><td class = \"rowNumber\" style = \"font-weight: bold; text-align: right;\">6</td><td style = \"text-align: left;\">scl</td><td style = \"text-align: right;\">0</td></tr><tr><td class = \"rowNumber\" style = \"font-weight: bold; text-align: right;\">7</td><td style = \"text-align: left;\">clg</td><td style = \"text-align: right;\">0</td></tr><tr><td class = \"rowNumber\" style = \"font-weight: bold; text-align: right;\">8</td><td style = \"text-align: left;\">ad</td><td style = \"text-align: right;\">0</td></tr><tr><td class = \"rowNumber\" style = \"font-weight: bold; text-align: right;\">9</td><td style = \"text-align: left;\">mw</td><td style = \"text-align: right;\">0</td></tr><tr><td class = \"rowNumber\" style = \"font-weight: bold; text-align: right;\">10</td><td style = \"text-align: left;\">so</td><td style = \"text-align: right;\">0</td></tr><tr><td class = \"rowNumber\" style = \"font-weight: bold; text-align: right;\">11</td><td style = \"text-align: left;\">we</td><td style = \"text-align: right;\">0</td></tr><tr><td class = \"rowNumber\" style = \"font-weight: bold; text-align: right;\">12</td><td style = \"text-align: left;\">ne</td><td style = \"text-align: right;\">0</td></tr><tr><td class = \"rowNumber\" style = \"font-weight: bold; text-align: right;\">13</td><td style = \"text-align: left;\">exp1</td><td style = \"text-align: right;\">0</td></tr><tr><td class = \"rowNumber\" style = \"font-weight: bold; text-align: right;\">14</td><td style = \"text-align: left;\">exp2</td><td style = \"text-align: right;\">0</td></tr><tr><td class = \"rowNumber\" style = \"font-weight: bold; text-align: right;\">15</td><td style = \"text-align: left;\">exp3</td><td style = \"text-align: right;\">0</td></tr><tr><td class = \"rowNumber\" style = \"font-weight: bold; text-align: right;\">16</td><td style = \"text-align: left;\">exp4</td><td style = \"text-align: right;\">0</td></tr><tr><td class = \"rowNumber\" style = \"font-weight: bold; text-align: right;\">17</td><td style = \"text-align: left;\">occ</td><td style = \"text-align: right;\">0</td></tr><tr><td class = \"rowNumber\" style = \"font-weight: bold; text-align: right;\">18</td><td style = \"text-align: left;\">occ2</td><td style = \"text-align: right;\">0</td></tr><tr><td class = \"rowNumber\" style = \"font-weight: bold; text-align: right;\">19</td><td style = \"text-align: left;\">ind</td><td style = \"text-align: right;\">0</td></tr><tr><td class = \"rowNumber\" style = \"font-weight: bold; text-align: right;\">20</td><td style = \"text-align: left;\">ind2</td><td style = \"text-align: right;\">0</td></tr></tbody></table></div>"
            ],
            "text/latex": [
              "\\begin{tabular}{r|cc}\n",
              "\t& variable & nmissing\\\\\n",
              "\t\\hline\n",
              "\t& Symbol & Int64\\\\\n",
              "\t\\hline\n",
              "\t1 & wage & 0 \\\\\n",
              "\t2 & lwage & 0 \\\\\n",
              "\t3 & sex & 0 \\\\\n",
              "\t4 & shs & 0 \\\\\n",
              "\t5 & hsg & 0 \\\\\n",
              "\t6 & scl & 0 \\\\\n",
              "\t7 & clg & 0 \\\\\n",
              "\t8 & ad & 0 \\\\\n",
              "\t9 & mw & 0 \\\\\n",
              "\t10 & so & 0 \\\\\n",
              "\t11 & we & 0 \\\\\n",
              "\t12 & ne & 0 \\\\\n",
              "\t13 & exp1 & 0 \\\\\n",
              "\t14 & exp2 & 0 \\\\\n",
              "\t15 & exp3 & 0 \\\\\n",
              "\t16 & exp4 & 0 \\\\\n",
              "\t17 & occ & 0 \\\\\n",
              "\t18 & occ2 & 0 \\\\\n",
              "\t19 & ind & 0 \\\\\n",
              "\t20 & ind2 & 0 \\\\\n",
              "\\end{tabular}\n"
            ],
            "text/plain": [
              "\u001b[1m20×2 DataFrame\u001b[0m\n",
              "\u001b[1m Row \u001b[0m│\u001b[1m variable \u001b[0m\u001b[1m nmissing \u001b[0m\n",
              "     │\u001b[90m Symbol   \u001b[0m\u001b[90m Int64    \u001b[0m\n",
              "─────┼────────────────────\n",
              "   1 │ wage             0\n",
              "   2 │ lwage            0\n",
              "   3 │ sex              0\n",
              "   4 │ shs              0\n",
              "   5 │ hsg              0\n",
              "   6 │ scl              0\n",
              "   7 │ clg              0\n",
              "   8 │ ad               0\n",
              "   9 │ mw               0\n",
              "  10 │ so               0\n",
              "  11 │ we               0\n",
              "  12 │ ne               0\n",
              "  13 │ exp1             0\n",
              "  14 │ exp2             0\n",
              "  15 │ exp3             0\n",
              "  16 │ exp4             0\n",
              "  17 │ occ              0\n",
              "  18 │ occ2             0\n",
              "  19 │ ind              0\n",
              "  20 │ ind2             0"
            ]
          },
          "execution_count": 29,
          "metadata": {},
          "output_type": "execute_result"
        }
      ],
      "source": [
        "describe(data, :nmissing)  # no hay missings"
      ]
    },
    {
      "cell_type": "markdown",
      "metadata": {
        "id": "75XwrlbLeXqF"
      },
      "source": [
        "As in Group Assignment 1 2024 - 2 #1044 , generate the extra-flexible model. This means that it contains all two-way interactions between the experience polynomials and the indicator variables"
      ]
    },
    {
      "cell_type": "code",
      "execution_count": 30,
      "metadata": {
        "colab": {
          "base_uri": "https://localhost:8080/",
          "height": 530
        },
        "id": "q1gt2mDdkBPm",
        "outputId": "10d06ff3-753c-43c0-a4c4-094420f8abd7"
      },
      "outputs": [
        {
          "data": {
            "text/html": [
              "<div><div style = \"float: left;\"><span>20×8 DataFrame</span></div><div style = \"clear: both;\"></div></div><div class = \"data-frame\" style = \"overflow-x: scroll;\"><table class = \"data-frame\" style = \"margin-bottom: 6px;\"><thead><tr class = \"header\"><th class = \"rowNumber\" style = \"font-weight: bold; text-align: right;\">Row</th><th style = \"text-align: left;\">variable</th><th style = \"text-align: left;\">min</th><th style = \"text-align: left;\">max</th><th style = \"text-align: left;\">mean</th><th style = \"text-align: left;\">std</th><th style = \"text-align: left;\">q25</th><th style = \"text-align: left;\">median</th><th style = \"text-align: left;\">q75</th></tr><tr class = \"subheader headerLastRow\"><th class = \"rowNumber\" style = \"font-weight: bold; text-align: right;\"></th><th title = \"Symbol\" style = \"text-align: left;\">Symbol</th><th title = \"Real\" style = \"text-align: left;\">Real</th><th title = \"Real\" style = \"text-align: left;\">Real</th><th title = \"Float64\" style = \"text-align: left;\">Float64</th><th title = \"Float64\" style = \"text-align: left;\">Float64</th><th title = \"Float64\" style = \"text-align: left;\">Float64</th><th title = \"Float64\" style = \"text-align: left;\">Float64</th><th title = \"Float64\" style = \"text-align: left;\">Float64</th></tr></thead><tbody><tr><td class = \"rowNumber\" style = \"font-weight: bold; text-align: right;\">1</td><td style = \"text-align: left;\">wage</td><td style = \"text-align: right;\">3.02198</td><td style = \"text-align: right;\">528.846</td><td style = \"text-align: right;\">23.4104</td><td style = \"text-align: right;\">21.003</td><td style = \"text-align: right;\">13.4615</td><td style = \"text-align: right;\">19.2308</td><td style = \"text-align: right;\">27.7778</td></tr><tr><td class = \"rowNumber\" style = \"font-weight: bold; text-align: right;\">2</td><td style = \"text-align: left;\">lwage</td><td style = \"text-align: right;\">1.10591</td><td style = \"text-align: right;\">6.2707</td><td style = \"text-align: right;\">2.97079</td><td style = \"text-align: right;\">0.570385</td><td style = \"text-align: right;\">2.59984</td><td style = \"text-align: right;\">2.95651</td><td style = \"text-align: right;\">3.32424</td></tr><tr><td class = \"rowNumber\" style = \"font-weight: bold; text-align: right;\">3</td><td style = \"text-align: left;\">sex</td><td style = \"text-align: right;\">0.0</td><td style = \"text-align: right;\">1.0</td><td style = \"text-align: right;\">0.444466</td><td style = \"text-align: right;\">0.496955</td><td style = \"text-align: right;\">0.0</td><td style = \"text-align: right;\">0.0</td><td style = \"text-align: right;\">1.0</td></tr><tr><td class = \"rowNumber\" style = \"font-weight: bold; text-align: right;\">4</td><td style = \"text-align: left;\">shs</td><td style = \"text-align: right;\">0.0</td><td style = \"text-align: right;\">1.0</td><td style = \"text-align: right;\">0.023301</td><td style = \"text-align: right;\">0.150872</td><td style = \"text-align: right;\">0.0</td><td style = \"text-align: right;\">0.0</td><td style = \"text-align: right;\">0.0</td></tr><tr><td class = \"rowNumber\" style = \"font-weight: bold; text-align: right;\">5</td><td style = \"text-align: left;\">hsg</td><td style = \"text-align: right;\">0.0</td><td style = \"text-align: right;\">1.0</td><td style = \"text-align: right;\">0.243883</td><td style = \"text-align: right;\">0.429465</td><td style = \"text-align: right;\">0.0</td><td style = \"text-align: right;\">0.0</td><td style = \"text-align: right;\">0.0</td></tr><tr><td class = \"rowNumber\" style = \"font-weight: bold; text-align: right;\">6</td><td style = \"text-align: left;\">scl</td><td style = \"text-align: right;\">0.0</td><td style = \"text-align: right;\">1.0</td><td style = \"text-align: right;\">0.278058</td><td style = \"text-align: right;\">0.448086</td><td style = \"text-align: right;\">0.0</td><td style = \"text-align: right;\">0.0</td><td style = \"text-align: right;\">1.0</td></tr><tr><td class = \"rowNumber\" style = \"font-weight: bold; text-align: right;\">7</td><td style = \"text-align: left;\">clg</td><td style = \"text-align: right;\">0.0</td><td style = \"text-align: right;\">1.0</td><td style = \"text-align: right;\">0.31767</td><td style = \"text-align: right;\">0.465616</td><td style = \"text-align: right;\">0.0</td><td style = \"text-align: right;\">0.0</td><td style = \"text-align: right;\">1.0</td></tr><tr><td class = \"rowNumber\" style = \"font-weight: bold; text-align: right;\">8</td><td style = \"text-align: left;\">ad</td><td style = \"text-align: right;\">0.0</td><td style = \"text-align: right;\">1.0</td><td style = \"text-align: right;\">0.137087</td><td style = \"text-align: right;\">0.343973</td><td style = \"text-align: right;\">0.0</td><td style = \"text-align: right;\">0.0</td><td style = \"text-align: right;\">0.0</td></tr><tr><td class = \"rowNumber\" style = \"font-weight: bold; text-align: right;\">9</td><td style = \"text-align: left;\">mw</td><td style = \"text-align: right;\">0.0</td><td style = \"text-align: right;\">1.0</td><td style = \"text-align: right;\">0.259612</td><td style = \"text-align: right;\">0.438464</td><td style = \"text-align: right;\">0.0</td><td style = \"text-align: right;\">0.0</td><td style = \"text-align: right;\">1.0</td></tr><tr><td class = \"rowNumber\" style = \"font-weight: bold; text-align: right;\">10</td><td style = \"text-align: left;\">so</td><td style = \"text-align: right;\">0.0</td><td style = \"text-align: right;\">1.0</td><td style = \"text-align: right;\">0.296505</td><td style = \"text-align: right;\">0.456761</td><td style = \"text-align: right;\">0.0</td><td style = \"text-align: right;\">0.0</td><td style = \"text-align: right;\">1.0</td></tr><tr><td class = \"rowNumber\" style = \"font-weight: bold; text-align: right;\">11</td><td style = \"text-align: left;\">we</td><td style = \"text-align: right;\">0.0</td><td style = \"text-align: right;\">1.0</td><td style = \"text-align: right;\">0.216117</td><td style = \"text-align: right;\">0.411635</td><td style = \"text-align: right;\">0.0</td><td style = \"text-align: right;\">0.0</td><td style = \"text-align: right;\">0.0</td></tr><tr><td class = \"rowNumber\" style = \"font-weight: bold; text-align: right;\">12</td><td style = \"text-align: left;\">ne</td><td style = \"text-align: right;\">0.0</td><td style = \"text-align: right;\">1.0</td><td style = \"text-align: right;\">0.227767</td><td style = \"text-align: right;\">0.419432</td><td style = \"text-align: right;\">0.0</td><td style = \"text-align: right;\">0.0</td><td style = \"text-align: right;\">0.0</td></tr><tr><td class = \"rowNumber\" style = \"font-weight: bold; text-align: right;\">13</td><td style = \"text-align: left;\">exp1</td><td style = \"text-align: right;\">0.0</td><td style = \"text-align: right;\">47.0</td><td style = \"text-align: right;\">13.7606</td><td style = \"text-align: right;\">10.6095</td><td style = \"text-align: right;\">5.0</td><td style = \"text-align: right;\">10.0</td><td style = \"text-align: right;\">21.0</td></tr><tr><td class = \"rowNumber\" style = \"font-weight: bold; text-align: right;\">14</td><td style = \"text-align: left;\">exp2</td><td style = \"text-align: right;\">0.0</td><td style = \"text-align: right;\">22.09</td><td style = \"text-align: right;\">3.01893</td><td style = \"text-align: right;\">4.0009</td><td style = \"text-align: right;\">0.25</td><td style = \"text-align: right;\">1.0</td><td style = \"text-align: right;\">4.41</td></tr><tr><td class = \"rowNumber\" style = \"font-weight: bold; text-align: right;\">15</td><td style = \"text-align: left;\">exp3</td><td style = \"text-align: right;\">0.0</td><td style = \"text-align: right;\">103.823</td><td style = \"text-align: right;\">8.23587</td><td style = \"text-align: right;\">14.489</td><td style = \"text-align: right;\">0.125</td><td style = \"text-align: right;\">1.0</td><td style = \"text-align: right;\">9.261</td></tr><tr><td class = \"rowNumber\" style = \"font-weight: bold; text-align: right;\">16</td><td style = \"text-align: left;\">exp4</td><td style = \"text-align: right;\">0.0</td><td style = \"text-align: right;\">487.968</td><td style = \"text-align: right;\">25.118</td><td style = \"text-align: right;\">53.5302</td><td style = \"text-align: right;\">0.0625</td><td style = \"text-align: right;\">1.0</td><td style = \"text-align: right;\">19.4481</td></tr><tr><td class = \"rowNumber\" style = \"font-weight: bold; text-align: right;\">17</td><td style = \"text-align: left;\">occ</td><td style = \"text-align: right;\">10.0</td><td style = \"text-align: right;\">100000.0</td><td style = \"text-align: right;\">5310.74</td><td style = \"text-align: right;\">11874.4</td><td style = \"text-align: right;\">1740.0</td><td style = \"text-align: right;\">4040.0</td><td style = \"text-align: right;\">5610.0</td></tr><tr><td class = \"rowNumber\" style = \"font-weight: bold; text-align: right;\">18</td><td style = \"text-align: left;\">occ2</td><td style = \"text-align: right;\">1</td><td style = \"text-align: right;\">22</td><td style = \"text-align: right;\">11.6709</td><td style = \"text-align: right;\">6.96668</td><td style = \"text-align: right;\">5.0</td><td style = \"text-align: right;\">13.0</td><td style = \"text-align: right;\">17.0</td></tr><tr><td class = \"rowNumber\" style = \"font-weight: bold; text-align: right;\">19</td><td style = \"text-align: left;\">ind</td><td style = \"text-align: right;\">370.0</td><td style = \"text-align: right;\">100000.0</td><td style = \"text-align: right;\">6629.15</td><td style = \"text-align: right;\">5333.44</td><td style = \"text-align: right;\">4880.0</td><td style = \"text-align: right;\">7370.0</td><td style = \"text-align: right;\">8190.0</td></tr><tr><td class = \"rowNumber\" style = \"font-weight: bold; text-align: right;\">20</td><td style = \"text-align: left;\">ind2</td><td style = \"text-align: right;\">2</td><td style = \"text-align: right;\">22</td><td style = \"text-align: right;\">13.3169</td><td style = \"text-align: right;\">5.70102</td><td style = \"text-align: right;\">9.0</td><td style = \"text-align: right;\">14.0</td><td style = \"text-align: right;\">18.0</td></tr></tbody></table></div>"
            ],
            "text/latex": [
              "\\begin{tabular}{r|cccccccc}\n",
              "\t& variable & min & max & mean & std & q25 & median & q75\\\\\n",
              "\t\\hline\n",
              "\t& Symbol & Real & Real & Float64 & Float64 & Float64 & Float64 & Float64\\\\\n",
              "\t\\hline\n",
              "\t1 & wage & 3.02198 & 528.846 & 23.4104 & 21.003 & 13.4615 & 19.2308 & 27.7778 \\\\\n",
              "\t2 & lwage & 1.10591 & 6.2707 & 2.97079 & 0.570385 & 2.59984 & 2.95651 & 3.32424 \\\\\n",
              "\t3 & sex & 0.0 & 1.0 & 0.444466 & 0.496955 & 0.0 & 0.0 & 1.0 \\\\\n",
              "\t4 & shs & 0.0 & 1.0 & 0.023301 & 0.150872 & 0.0 & 0.0 & 0.0 \\\\\n",
              "\t5 & hsg & 0.0 & 1.0 & 0.243883 & 0.429465 & 0.0 & 0.0 & 0.0 \\\\\n",
              "\t6 & scl & 0.0 & 1.0 & 0.278058 & 0.448086 & 0.0 & 0.0 & 1.0 \\\\\n",
              "\t7 & clg & 0.0 & 1.0 & 0.31767 & 0.465616 & 0.0 & 0.0 & 1.0 \\\\\n",
              "\t8 & ad & 0.0 & 1.0 & 0.137087 & 0.343973 & 0.0 & 0.0 & 0.0 \\\\\n",
              "\t9 & mw & 0.0 & 1.0 & 0.259612 & 0.438464 & 0.0 & 0.0 & 1.0 \\\\\n",
              "\t10 & so & 0.0 & 1.0 & 0.296505 & 0.456761 & 0.0 & 0.0 & 1.0 \\\\\n",
              "\t11 & we & 0.0 & 1.0 & 0.216117 & 0.411635 & 0.0 & 0.0 & 0.0 \\\\\n",
              "\t12 & ne & 0.0 & 1.0 & 0.227767 & 0.419432 & 0.0 & 0.0 & 0.0 \\\\\n",
              "\t13 & exp1 & 0.0 & 47.0 & 13.7606 & 10.6095 & 5.0 & 10.0 & 21.0 \\\\\n",
              "\t14 & exp2 & 0.0 & 22.09 & 3.01893 & 4.0009 & 0.25 & 1.0 & 4.41 \\\\\n",
              "\t15 & exp3 & 0.0 & 103.823 & 8.23587 & 14.489 & 0.125 & 1.0 & 9.261 \\\\\n",
              "\t16 & exp4 & 0.0 & 487.968 & 25.118 & 53.5302 & 0.0625 & 1.0 & 19.4481 \\\\\n",
              "\t17 & occ & 10.0 & 100000.0 & 5310.74 & 11874.4 & 1740.0 & 4040.0 & 5610.0 \\\\\n",
              "\t18 & occ2 & 1 & 22 & 11.6709 & 6.96668 & 5.0 & 13.0 & 17.0 \\\\\n",
              "\t19 & ind & 370.0 & 100000.0 & 6629.15 & 5333.44 & 4880.0 & 7370.0 & 8190.0 \\\\\n",
              "\t20 & ind2 & 2 & 22 & 13.3169 & 5.70102 & 9.0 & 14.0 & 18.0 \\\\\n",
              "\\end{tabular}\n"
            ],
            "text/plain": [
              "\u001b[1m20×8 DataFrame\u001b[0m\n",
              "\u001b[1m Row \u001b[0m│\u001b[1m variable \u001b[0m\u001b[1m min       \u001b[0m\u001b[1m max         \u001b[0m\u001b[1m mean        \u001b[0m\u001b[1m std          \u001b[0m\u001b[1m q25        \u001b[0m\u001b[1m median     \u001b[0m\u001b[1m q75   \u001b[0m ⋯\n",
              "     │\u001b[90m Symbol   \u001b[0m\u001b[90m Real      \u001b[0m\u001b[90m Real        \u001b[0m\u001b[90m Float64     \u001b[0m\u001b[90m Float64      \u001b[0m\u001b[90m Float64    \u001b[0m\u001b[90m Float64    \u001b[0m\u001b[90m Float6\u001b[0m ⋯\n",
              "─────┼──────────────────────────────────────────────────────────────────────────────────────────────\n",
              "   1 │ wage        3.02198     528.846     23.4104       21.003       13.4615     19.2308     27.7 ⋯\n",
              "   2 │ lwage       1.10591       6.2707     2.97079       0.570385     2.59984     2.95651     3.3\n",
              "   3 │ sex         0.0           1.0        0.444466      0.496955     0.0         0.0         1.0\n",
              "   4 │ shs         0.0           1.0        0.023301      0.150872     0.0         0.0         0.0\n",
              "   5 │ hsg         0.0           1.0        0.243883      0.429465     0.0         0.0         0.0 ⋯\n",
              "   6 │ scl         0.0           1.0        0.278058      0.448086     0.0         0.0         1.0\n",
              "   7 │ clg         0.0           1.0        0.31767       0.465616     0.0         0.0         1.0\n",
              "   8 │ ad          0.0           1.0        0.137087      0.343973     0.0         0.0         0.0\n",
              "   9 │ mw          0.0           1.0        0.259612      0.438464     0.0         0.0         1.0 ⋯\n",
              "  10 │ so          0.0           1.0        0.296505      0.456761     0.0         0.0         1.0\n",
              "  11 │ we          0.0           1.0        0.216117      0.411635     0.0         0.0         0.0\n",
              "  12 │ ne          0.0           1.0        0.227767      0.419432     0.0         0.0         0.0\n",
              "  13 │ exp1        0.0          47.0       13.7606       10.6095       5.0        10.0        21.0 ⋯\n",
              "  14 │ exp2        0.0          22.09       3.01893       4.0009       0.25        1.0         4.4\n",
              "  15 │ exp3        0.0         103.823      8.23587      14.489        0.125       1.0         9.2\n",
              "  16 │ exp4        0.0         487.968     25.118        53.5302       0.0625      1.0        19.4\n",
              "  17 │ occ        10.0      100000.0     5310.74      11874.4       1740.0      4040.0      5610.0 ⋯\n",
              "  18 │ occ2        1            22         11.6709        6.96668      5.0        13.0        17.0\n",
              "  19 │ ind       370.0      100000.0     6629.15       5333.44      4880.0      7370.0      8190.0\n",
              "  20 │ ind2        2            22         13.3169        5.70102      9.0        14.0        18.0\n",
              "\u001b[36m                                                                                    1 column omitted\u001b[0m"
            ]
          },
          "execution_count": 30,
          "metadata": {},
          "output_type": "execute_result"
        }
      ],
      "source": [
        "describe(data, :min, :max, :mean, :std, :q25, :median, :q75)"
      ]
    },
    {
      "cell_type": "markdown",
      "metadata": {
        "id": "pI5h_RtwkBPm"
      },
      "source": [
        "\n",
        "\n",
        "2.1. Generate the array for the outcome variable Y and normalize it\n",
        "\n",
        "2.2. Generate the array for the predictors X (do not generate an intercept) and normalize its colums."
      ]
    },
    {
      "cell_type": "markdown",
      "metadata": {
        "id": "hCHtkyzNkBPm"
      },
      "source": [
        "\n",
        "$\n",
        "\\text{sex} + \\text{(exp1} + \\text{exp2} + \\text{exp3} + \\text{exp4} +\n",
        "\\text{hsg} + \\text{scl} + \\text{clg} + \\text{ad} + \\text{se} +\n",
        "\\text{we} + \\text{ne} + \\text{dummy(occ2)} + \\text{dummy(ind2))} ^2\n",
        "$"
      ]
    },
    {
      "cell_type": "code",
      "execution_count": 31,
      "metadata": {
        "id": "kcxm842-kBPn"
      },
      "outputs": [],
      "source": [
        "\n",
        "extra_flexible_formula = @formula(lwage ~ 1 + sex + (exp1 + exp2 + exp3 + exp4) * (hsg + scl + clg + ad + so + we + ne + occ2 + ind2) + (hsg + scl + clg + ad) * (so + we + ne + occ2 + ind2) + (so + we + ne) * (occ2 + ind2) + occ2 * ind2)\n",
        "X_extra_flexible = modelmatrix(extra_flexible_formula, data);\n"
      ]
    },
    {
      "cell_type": "code",
      "execution_count": 32,
      "metadata": {
        "colab": {
          "base_uri": "https://localhost:8080/"
        },
        "id": "5ZUA0P3WkBPn",
        "outputId": "d5cc31b9-ffd9-4170-b0ff-aec66e8edf2d"
      },
      "outputs": [
        {
          "data": {
            "text/plain": [
              "(5150, 78)"
            ]
          },
          "execution_count": 32,
          "metadata": {},
          "output_type": "execute_result"
        }
      ],
      "source": [
        "size(X_extra_flexible)"
      ]
    },
    {
      "cell_type": "markdown",
      "metadata": {
        "id": "-NlMN96-kBPo"
      },
      "source": [
        "3. Split between training and testing samples. The testing sample should be 10% of the total."
      ]
    },
    {
      "cell_type": "code",
      "execution_count": 50,
      "metadata": {
        "colab": {
          "base_uri": "https://localhost:8080/",
          "height": 654
        },
        "id": "ES37ln6BnIDa",
        "outputId": "a7a8213c-79e5-4e1a-88d9-066ac6ff07c7"
      },
      "outputs": [
        {
          "data": {
            "text/html": [
              "<div><div style = \"float: left;\"><span>5150×19 DataFrame</span></div><div style = \"float: right;\"><span style = \"font-style: italic;\">5125 rows omitted</span></div><div style = \"clear: both;\"></div></div><div class = \"data-frame\" style = \"overflow-x: scroll;\"><table class = \"data-frame\" style = \"margin-bottom: 6px;\"><thead><tr class = \"header\"><th class = \"rowNumber\" style = \"font-weight: bold; text-align: right;\">Row</th><th style = \"text-align: left;\">wage</th><th style = \"text-align: left;\">sex</th><th style = \"text-align: left;\">shs</th><th style = \"text-align: left;\">hsg</th><th style = \"text-align: left;\">scl</th><th style = \"text-align: left;\">clg</th><th style = \"text-align: left;\">ad</th><th style = \"text-align: left;\">mw</th><th style = \"text-align: left;\">so</th><th style = \"text-align: left;\">we</th><th style = \"text-align: left;\">ne</th><th style = \"text-align: left;\">exp1</th><th style = \"text-align: left;\">exp2</th><th style = \"text-align: left;\">exp3</th><th style = \"text-align: left;\">exp4</th><th style = \"text-align: left;\">occ</th><th style = \"text-align: left;\">occ2</th><th style = \"text-align: left;\">ind</th><th style = \"text-align: left;\">ind2</th></tr><tr class = \"subheader headerLastRow\"><th class = \"rowNumber\" style = \"font-weight: bold; text-align: right;\"></th><th title = \"Float64\" style = \"text-align: left;\">Float64</th><th title = \"Float64\" style = \"text-align: left;\">Float64</th><th title = \"Float64\" style = \"text-align: left;\">Float64</th><th title = \"Float64\" style = \"text-align: left;\">Float64</th><th title = \"Float64\" style = \"text-align: left;\">Float64</th><th title = \"Float64\" style = \"text-align: left;\">Float64</th><th title = \"Float64\" style = \"text-align: left;\">Float64</th><th title = \"Float64\" style = \"text-align: left;\">Float64</th><th title = \"Float64\" style = \"text-align: left;\">Float64</th><th title = \"Float64\" style = \"text-align: left;\">Float64</th><th title = \"Float64\" style = \"text-align: left;\">Float64</th><th title = \"Float64\" style = \"text-align: left;\">Float64</th><th title = \"Float64\" style = \"text-align: left;\">Float64</th><th title = \"Float64\" style = \"text-align: left;\">Float64</th><th title = \"Float64\" style = \"text-align: left;\">Float64</th><th title = \"Float64\" style = \"text-align: left;\">Float64</th><th title = \"Int64\" style = \"text-align: left;\">Int64</th><th title = \"Float64\" style = \"text-align: left;\">Float64</th><th title = \"Int64\" style = \"text-align: left;\">Int64</th></tr></thead><tbody><tr><td class = \"rowNumber\" style = \"font-weight: bold; text-align: right;\">1</td><td style = \"text-align: right;\">9.61538</td><td style = \"text-align: right;\">1.0</td><td style = \"text-align: right;\">0.0</td><td style = \"text-align: right;\">0.0</td><td style = \"text-align: right;\">0.0</td><td style = \"text-align: right;\">1.0</td><td style = \"text-align: right;\">0.0</td><td style = \"text-align: right;\">0.0</td><td style = \"text-align: right;\">0.0</td><td style = \"text-align: right;\">0.0</td><td style = \"text-align: right;\">1.0</td><td style = \"text-align: right;\">7.0</td><td style = \"text-align: right;\">0.49</td><td style = \"text-align: right;\">0.343</td><td style = \"text-align: right;\">0.2401</td><td style = \"text-align: right;\">3600.0</td><td style = \"text-align: right;\">11</td><td style = \"text-align: right;\">8370.0</td><td style = \"text-align: right;\">18</td></tr><tr><td class = \"rowNumber\" style = \"font-weight: bold; text-align: right;\">2</td><td style = \"text-align: right;\">48.0769</td><td style = \"text-align: right;\">0.0</td><td style = \"text-align: right;\">0.0</td><td style = \"text-align: right;\">0.0</td><td style = \"text-align: right;\">0.0</td><td style = \"text-align: right;\">1.0</td><td style = \"text-align: right;\">0.0</td><td style = \"text-align: right;\">0.0</td><td style = \"text-align: right;\">0.0</td><td style = \"text-align: right;\">0.0</td><td style = \"text-align: right;\">1.0</td><td style = \"text-align: right;\">31.0</td><td style = \"text-align: right;\">9.61</td><td style = \"text-align: right;\">29.791</td><td style = \"text-align: right;\">92.3521</td><td style = \"text-align: right;\">3050.0</td><td style = \"text-align: right;\">10</td><td style = \"text-align: right;\">5070.0</td><td style = \"text-align: right;\">9</td></tr><tr><td class = \"rowNumber\" style = \"font-weight: bold; text-align: right;\">3</td><td style = \"text-align: right;\">11.0577</td><td style = \"text-align: right;\">0.0</td><td style = \"text-align: right;\">0.0</td><td style = \"text-align: right;\">1.0</td><td style = \"text-align: right;\">0.0</td><td style = \"text-align: right;\">0.0</td><td style = \"text-align: right;\">0.0</td><td style = \"text-align: right;\">0.0</td><td style = \"text-align: right;\">0.0</td><td style = \"text-align: right;\">0.0</td><td style = \"text-align: right;\">1.0</td><td style = \"text-align: right;\">18.0</td><td style = \"text-align: right;\">3.24</td><td style = \"text-align: right;\">5.832</td><td style = \"text-align: right;\">10.4976</td><td style = \"text-align: right;\">6260.0</td><td style = \"text-align: right;\">19</td><td style = \"text-align: right;\">770.0</td><td style = \"text-align: right;\">4</td></tr><tr><td class = \"rowNumber\" style = \"font-weight: bold; text-align: right;\">4</td><td style = \"text-align: right;\">13.9423</td><td style = \"text-align: right;\">1.0</td><td style = \"text-align: right;\">0.0</td><td style = \"text-align: right;\">0.0</td><td style = \"text-align: right;\">0.0</td><td style = \"text-align: right;\">0.0</td><td style = \"text-align: right;\">1.0</td><td style = \"text-align: right;\">0.0</td><td style = \"text-align: right;\">0.0</td><td style = \"text-align: right;\">0.0</td><td style = \"text-align: right;\">1.0</td><td style = \"text-align: right;\">25.0</td><td style = \"text-align: right;\">6.25</td><td style = \"text-align: right;\">15.625</td><td style = \"text-align: right;\">39.0625</td><td style = \"text-align: right;\">420.0</td><td style = \"text-align: right;\">1</td><td style = \"text-align: right;\">6990.0</td><td style = \"text-align: right;\">12</td></tr><tr><td class = \"rowNumber\" style = \"font-weight: bold; text-align: right;\">5</td><td style = \"text-align: right;\">28.8462</td><td style = \"text-align: right;\">1.0</td><td style = \"text-align: right;\">0.0</td><td style = \"text-align: right;\">0.0</td><td style = \"text-align: right;\">0.0</td><td style = \"text-align: right;\">1.0</td><td style = \"text-align: right;\">0.0</td><td style = \"text-align: right;\">0.0</td><td style = \"text-align: right;\">0.0</td><td style = \"text-align: right;\">0.0</td><td style = \"text-align: right;\">1.0</td><td style = \"text-align: right;\">22.0</td><td style = \"text-align: right;\">4.84</td><td style = \"text-align: right;\">10.648</td><td style = \"text-align: right;\">23.4256</td><td style = \"text-align: right;\">2015.0</td><td style = \"text-align: right;\">6</td><td style = \"text-align: right;\">9470.0</td><td style = \"text-align: right;\">22</td></tr><tr><td class = \"rowNumber\" style = \"font-weight: bold; text-align: right;\">6</td><td style = \"text-align: right;\">11.7308</td><td style = \"text-align: right;\">1.0</td><td style = \"text-align: right;\">0.0</td><td style = \"text-align: right;\">0.0</td><td style = \"text-align: right;\">0.0</td><td style = \"text-align: right;\">1.0</td><td style = \"text-align: right;\">0.0</td><td style = \"text-align: right;\">0.0</td><td style = \"text-align: right;\">0.0</td><td style = \"text-align: right;\">0.0</td><td style = \"text-align: right;\">1.0</td><td style = \"text-align: right;\">1.0</td><td style = \"text-align: right;\">0.01</td><td style = \"text-align: right;\">0.001</td><td style = \"text-align: right;\">0.0001</td><td style = \"text-align: right;\">1650.0</td><td style = \"text-align: right;\">5</td><td style = \"text-align: right;\">7460.0</td><td style = \"text-align: right;\">14</td></tr><tr><td class = \"rowNumber\" style = \"font-weight: bold; text-align: right;\">7</td><td style = \"text-align: right;\">19.2308</td><td style = \"text-align: right;\">1.0</td><td style = \"text-align: right;\">0.0</td><td style = \"text-align: right;\">1.0</td><td style = \"text-align: right;\">0.0</td><td style = \"text-align: right;\">0.0</td><td style = \"text-align: right;\">0.0</td><td style = \"text-align: right;\">0.0</td><td style = \"text-align: right;\">0.0</td><td style = \"text-align: right;\">0.0</td><td style = \"text-align: right;\">1.0</td><td style = \"text-align: right;\">42.0</td><td style = \"text-align: right;\">17.64</td><td style = \"text-align: right;\">74.088</td><td style = \"text-align: right;\">311.17</td><td style = \"text-align: right;\">5120.0</td><td style = \"text-align: right;\">17</td><td style = \"text-align: right;\">7280.0</td><td style = \"text-align: right;\">14</td></tr><tr><td class = \"rowNumber\" style = \"font-weight: bold; text-align: right;\">8</td><td style = \"text-align: right;\">19.2308</td><td style = \"text-align: right;\">0.0</td><td style = \"text-align: right;\">0.0</td><td style = \"text-align: right;\">1.0</td><td style = \"text-align: right;\">0.0</td><td style = \"text-align: right;\">0.0</td><td style = \"text-align: right;\">0.0</td><td style = \"text-align: right;\">0.0</td><td style = \"text-align: right;\">0.0</td><td style = \"text-align: right;\">0.0</td><td style = \"text-align: right;\">1.0</td><td style = \"text-align: right;\">37.0</td><td style = \"text-align: right;\">13.69</td><td style = \"text-align: right;\">50.653</td><td style = \"text-align: right;\">187.416</td><td style = \"text-align: right;\">5240.0</td><td style = \"text-align: right;\">17</td><td style = \"text-align: right;\">5680.0</td><td style = \"text-align: right;\">9</td></tr><tr><td class = \"rowNumber\" style = \"font-weight: bold; text-align: right;\">9</td><td style = \"text-align: right;\">12.0</td><td style = \"text-align: right;\">1.0</td><td style = \"text-align: right;\">0.0</td><td style = \"text-align: right;\">1.0</td><td style = \"text-align: right;\">0.0</td><td style = \"text-align: right;\">0.0</td><td style = \"text-align: right;\">0.0</td><td style = \"text-align: right;\">0.0</td><td style = \"text-align: right;\">0.0</td><td style = \"text-align: right;\">0.0</td><td style = \"text-align: right;\">1.0</td><td style = \"text-align: right;\">31.0</td><td style = \"text-align: right;\">9.61</td><td style = \"text-align: right;\">29.791</td><td style = \"text-align: right;\">92.3521</td><td style = \"text-align: right;\">4040.0</td><td style = \"text-align: right;\">13</td><td style = \"text-align: right;\">8590.0</td><td style = \"text-align: right;\">19</td></tr><tr><td class = \"rowNumber\" style = \"font-weight: bold; text-align: right;\">10</td><td style = \"text-align: right;\">19.2308</td><td style = \"text-align: right;\">1.0</td><td style = \"text-align: right;\">0.0</td><td style = \"text-align: right;\">0.0</td><td style = \"text-align: right;\">0.0</td><td style = \"text-align: right;\">1.0</td><td style = \"text-align: right;\">0.0</td><td style = \"text-align: right;\">0.0</td><td style = \"text-align: right;\">0.0</td><td style = \"text-align: right;\">0.0</td><td style = \"text-align: right;\">1.0</td><td style = \"text-align: right;\">4.0</td><td style = \"text-align: right;\">0.16</td><td style = \"text-align: right;\">0.064</td><td style = \"text-align: right;\">0.0256</td><td style = \"text-align: right;\">3255.0</td><td style = \"text-align: right;\">10</td><td style = \"text-align: right;\">8190.0</td><td style = \"text-align: right;\">18</td></tr><tr><td class = \"rowNumber\" style = \"font-weight: bold; text-align: right;\">11</td><td style = \"text-align: right;\">17.3077</td><td style = \"text-align: right;\">1.0</td><td style = \"text-align: right;\">0.0</td><td style = \"text-align: right;\">1.0</td><td style = \"text-align: right;\">0.0</td><td style = \"text-align: right;\">0.0</td><td style = \"text-align: right;\">0.0</td><td style = \"text-align: right;\">0.0</td><td style = \"text-align: right;\">0.0</td><td style = \"text-align: right;\">0.0</td><td style = \"text-align: right;\">1.0</td><td style = \"text-align: right;\">7.0</td><td style = \"text-align: right;\">0.49</td><td style = \"text-align: right;\">0.343</td><td style = \"text-align: right;\">0.2401</td><td style = \"text-align: right;\">4020.0</td><td style = \"text-align: right;\">13</td><td style = \"text-align: right;\">8270.0</td><td style = \"text-align: right;\">18</td></tr><tr><td class = \"rowNumber\" style = \"font-weight: bold; text-align: right;\">12</td><td style = \"text-align: right;\">12.0192</td><td style = \"text-align: right;\">0.0</td><td style = \"text-align: right;\">0.0</td><td style = \"text-align: right;\">1.0</td><td style = \"text-align: right;\">0.0</td><td style = \"text-align: right;\">0.0</td><td style = \"text-align: right;\">0.0</td><td style = \"text-align: right;\">0.0</td><td style = \"text-align: right;\">0.0</td><td style = \"text-align: right;\">0.0</td><td style = \"text-align: right;\">1.0</td><td style = \"text-align: right;\">30.0</td><td style = \"text-align: right;\">9.0</td><td style = \"text-align: right;\">27.0</td><td style = \"text-align: right;\">81.0</td><td style = \"text-align: right;\">4220.0</td><td style = \"text-align: right;\">14</td><td style = \"text-align: right;\">8270.0</td><td style = \"text-align: right;\">18</td></tr><tr><td class = \"rowNumber\" style = \"font-weight: bold; text-align: right;\">13</td><td style = \"text-align: right;\">12.0192</td><td style = \"text-align: right;\">1.0</td><td style = \"text-align: right;\">0.0</td><td style = \"text-align: right;\">0.0</td><td style = \"text-align: right;\">1.0</td><td style = \"text-align: right;\">0.0</td><td style = \"text-align: right;\">0.0</td><td style = \"text-align: right;\">0.0</td><td style = \"text-align: right;\">0.0</td><td style = \"text-align: right;\">0.0</td><td style = \"text-align: right;\">1.0</td><td style = \"text-align: right;\">5.5</td><td style = \"text-align: right;\">0.3025</td><td style = \"text-align: right;\">0.166375</td><td style = \"text-align: right;\">0.0915062</td><td style = \"text-align: right;\">3600.0</td><td style = \"text-align: right;\">11</td><td style = \"text-align: right;\">8270.0</td><td style = \"text-align: right;\">18</td></tr><tr><td style = \"text-align: right;\">&vellip;</td><td style = \"text-align: right;\">&vellip;</td><td style = \"text-align: right;\">&vellip;</td><td style = \"text-align: right;\">&vellip;</td><td style = \"text-align: right;\">&vellip;</td><td style = \"text-align: right;\">&vellip;</td><td style = \"text-align: right;\">&vellip;</td><td style = \"text-align: right;\">&vellip;</td><td style = \"text-align: right;\">&vellip;</td><td style = \"text-align: right;\">&vellip;</td><td style = \"text-align: right;\">&vellip;</td><td style = \"text-align: right;\">&vellip;</td><td style = \"text-align: right;\">&vellip;</td><td style = \"text-align: right;\">&vellip;</td><td style = \"text-align: right;\">&vellip;</td><td style = \"text-align: right;\">&vellip;</td><td style = \"text-align: right;\">&vellip;</td><td style = \"text-align: right;\">&vellip;</td><td style = \"text-align: right;\">&vellip;</td><td style = \"text-align: right;\">&vellip;</td></tr><tr><td class = \"rowNumber\" style = \"font-weight: bold; text-align: right;\">5139</td><td style = \"text-align: right;\">19.7115</td><td style = \"text-align: right;\">1.0</td><td style = \"text-align: right;\">0.0</td><td style = \"text-align: right;\">0.0</td><td style = \"text-align: right;\">0.0</td><td style = \"text-align: right;\">0.0</td><td style = \"text-align: right;\">1.0</td><td style = \"text-align: right;\">0.0</td><td style = \"text-align: right;\">0.0</td><td style = \"text-align: right;\">1.0</td><td style = \"text-align: right;\">0.0</td><td style = \"text-align: right;\">8.0</td><td style = \"text-align: right;\">0.64</td><td style = \"text-align: right;\">0.512</td><td style = \"text-align: right;\">0.4096</td><td style = \"text-align: right;\">2000.0</td><td style = \"text-align: right;\">6</td><td style = \"text-align: right;\">8090.0</td><td style = \"text-align: right;\">18</td></tr><tr><td class = \"rowNumber\" style = \"font-weight: bold; text-align: right;\">5140</td><td style = \"text-align: right;\">21.1538</td><td style = \"text-align: right;\">0.0</td><td style = \"text-align: right;\">0.0</td><td style = \"text-align: right;\">0.0</td><td style = \"text-align: right;\">0.0</td><td style = \"text-align: right;\">1.0</td><td style = \"text-align: right;\">0.0</td><td style = \"text-align: right;\">0.0</td><td style = \"text-align: right;\">0.0</td><td style = \"text-align: right;\">1.0</td><td style = \"text-align: right;\">0.0</td><td style = \"text-align: right;\">28.0</td><td style = \"text-align: right;\">7.84</td><td style = \"text-align: right;\">21.952</td><td style = \"text-align: right;\">61.4656</td><td style = \"text-align: right;\">40.0</td><td style = \"text-align: right;\">1</td><td style = \"text-align: right;\">9170.0</td><td style = \"text-align: right;\">21</td></tr><tr><td class = \"rowNumber\" style = \"font-weight: bold; text-align: right;\">5141</td><td style = \"text-align: right;\">45.5466</td><td style = \"text-align: right;\">1.0</td><td style = \"text-align: right;\">0.0</td><td style = \"text-align: right;\">0.0</td><td style = \"text-align: right;\">0.0</td><td style = \"text-align: right;\">1.0</td><td style = \"text-align: right;\">0.0</td><td style = \"text-align: right;\">0.0</td><td style = \"text-align: right;\">0.0</td><td style = \"text-align: right;\">1.0</td><td style = \"text-align: right;\">0.0</td><td style = \"text-align: right;\">5.0</td><td style = \"text-align: right;\">0.25</td><td style = \"text-align: right;\">0.125</td><td style = \"text-align: right;\">0.0625</td><td style = \"text-align: right;\">3255.0</td><td style = \"text-align: right;\">10</td><td style = \"text-align: right;\">8190.0</td><td style = \"text-align: right;\">18</td></tr><tr><td class = \"rowNumber\" style = \"font-weight: bold; text-align: right;\">5142</td><td style = \"text-align: right;\">22.5962</td><td style = \"text-align: right;\">0.0</td><td style = \"text-align: right;\">0.0</td><td style = \"text-align: right;\">1.0</td><td style = \"text-align: right;\">0.0</td><td style = \"text-align: right;\">0.0</td><td style = \"text-align: right;\">0.0</td><td style = \"text-align: right;\">0.0</td><td style = \"text-align: right;\">0.0</td><td style = \"text-align: right;\">1.0</td><td style = \"text-align: right;\">0.0</td><td style = \"text-align: right;\">15.0</td><td style = \"text-align: right;\">2.25</td><td style = \"text-align: right;\">3.375</td><td style = \"text-align: right;\">5.0625</td><td style = \"text-align: right;\">9620.0</td><td style = \"text-align: right;\">22</td><td style = \"text-align: right;\">5390.0</td><td style = \"text-align: right;\">9</td></tr><tr><td class = \"rowNumber\" style = \"font-weight: bold; text-align: right;\">5143</td><td style = \"text-align: right;\">16.8269</td><td style = \"text-align: right;\">0.0</td><td style = \"text-align: right;\">0.0</td><td style = \"text-align: right;\">1.0</td><td style = \"text-align: right;\">0.0</td><td style = \"text-align: right;\">0.0</td><td style = \"text-align: right;\">0.0</td><td style = \"text-align: right;\">0.0</td><td style = \"text-align: right;\">0.0</td><td style = \"text-align: right;\">1.0</td><td style = \"text-align: right;\">0.0</td><td style = \"text-align: right;\">11.0</td><td style = \"text-align: right;\">1.21</td><td style = \"text-align: right;\">1.331</td><td style = \"text-align: right;\">1.4641</td><td style = \"text-align: right;\">7150.0</td><td style = \"text-align: right;\">20</td><td style = \"text-align: right;\">8770.0</td><td style = \"text-align: right;\">21</td></tr><tr><td class = \"rowNumber\" style = \"font-weight: bold; text-align: right;\">5144</td><td style = \"text-align: right;\">24.0385</td><td style = \"text-align: right;\">1.0</td><td style = \"text-align: right;\">0.0</td><td style = \"text-align: right;\">0.0</td><td style = \"text-align: right;\">0.0</td><td style = \"text-align: right;\">1.0</td><td style = \"text-align: right;\">0.0</td><td style = \"text-align: right;\">0.0</td><td style = \"text-align: right;\">0.0</td><td style = \"text-align: right;\">1.0</td><td style = \"text-align: right;\">0.0</td><td style = \"text-align: right;\">17.0</td><td style = \"text-align: right;\">2.89</td><td style = \"text-align: right;\">4.913</td><td style = \"text-align: right;\">8.3521</td><td style = \"text-align: right;\">2550.0</td><td style = \"text-align: right;\">8</td><td style = \"text-align: right;\">9480.0</td><td style = \"text-align: right;\">22</td></tr><tr><td class = \"rowNumber\" style = \"font-weight: bold; text-align: right;\">5145</td><td style = \"text-align: right;\">13.8462</td><td style = \"text-align: right;\">0.0</td><td style = \"text-align: right;\">0.0</td><td style = \"text-align: right;\">0.0</td><td style = \"text-align: right;\">0.0</td><td style = \"text-align: right;\">1.0</td><td style = \"text-align: right;\">0.0</td><td style = \"text-align: right;\">0.0</td><td style = \"text-align: right;\">0.0</td><td style = \"text-align: right;\">1.0</td><td style = \"text-align: right;\">0.0</td><td style = \"text-align: right;\">10.0</td><td style = \"text-align: right;\">1.0</td><td style = \"text-align: right;\">1.0</td><td style = \"text-align: right;\">1.0</td><td style = \"text-align: right;\">800.0</td><td style = \"text-align: right;\">2</td><td style = \"text-align: right;\">770.0</td><td style = \"text-align: right;\">4</td></tr><tr><td class = \"rowNumber\" style = \"font-weight: bold; text-align: right;\">5146</td><td style = \"text-align: right;\">14.7692</td><td style = \"text-align: right;\">0.0</td><td style = \"text-align: right;\">0.0</td><td style = \"text-align: right;\">0.0</td><td style = \"text-align: right;\">0.0</td><td style = \"text-align: right;\">1.0</td><td style = \"text-align: right;\">0.0</td><td style = \"text-align: right;\">0.0</td><td style = \"text-align: right;\">0.0</td><td style = \"text-align: right;\">1.0</td><td style = \"text-align: right;\">0.0</td><td style = \"text-align: right;\">9.0</td><td style = \"text-align: right;\">0.81</td><td style = \"text-align: right;\">0.729</td><td style = \"text-align: right;\">0.6561</td><td style = \"text-align: right;\">4700.0</td><td style = \"text-align: right;\">16</td><td style = \"text-align: right;\">4970.0</td><td style = \"text-align: right;\">9</td></tr><tr><td class = \"rowNumber\" style = \"font-weight: bold; text-align: right;\">5147</td><td style = \"text-align: right;\">23.0769</td><td style = \"text-align: right;\">1.0</td><td style = \"text-align: right;\">0.0</td><td style = \"text-align: right;\">0.0</td><td style = \"text-align: right;\">1.0</td><td style = \"text-align: right;\">0.0</td><td style = \"text-align: right;\">0.0</td><td style = \"text-align: right;\">0.0</td><td style = \"text-align: right;\">0.0</td><td style = \"text-align: right;\">1.0</td><td style = \"text-align: right;\">0.0</td><td style = \"text-align: right;\">12.0</td><td style = \"text-align: right;\">1.44</td><td style = \"text-align: right;\">1.728</td><td style = \"text-align: right;\">2.0736</td><td style = \"text-align: right;\">4110.0</td><td style = \"text-align: right;\">13</td><td style = \"text-align: right;\">8680.0</td><td style = \"text-align: right;\">20</td></tr><tr><td class = \"rowNumber\" style = \"font-weight: bold; text-align: right;\">5148</td><td style = \"text-align: right;\">38.4615</td><td style = \"text-align: right;\">0.0</td><td style = \"text-align: right;\">0.0</td><td style = \"text-align: right;\">0.0</td><td style = \"text-align: right;\">0.0</td><td style = \"text-align: right;\">0.0</td><td style = \"text-align: right;\">1.0</td><td style = \"text-align: right;\">0.0</td><td style = \"text-align: right;\">0.0</td><td style = \"text-align: right;\">1.0</td><td style = \"text-align: right;\">0.0</td><td style = \"text-align: right;\">11.0</td><td style = \"text-align: right;\">1.21</td><td style = \"text-align: right;\">1.331</td><td style = \"text-align: right;\">1.4641</td><td style = \"text-align: right;\">1550.0</td><td style = \"text-align: right;\">4</td><td style = \"text-align: right;\">3680.0</td><td style = \"text-align: right;\">6</td></tr><tr><td class = \"rowNumber\" style = \"font-weight: bold; text-align: right;\">5149</td><td style = \"text-align: right;\">32.967</td><td style = \"text-align: right;\">0.0</td><td style = \"text-align: right;\">0.0</td><td style = \"text-align: right;\">1.0</td><td style = \"text-align: right;\">0.0</td><td style = \"text-align: right;\">0.0</td><td style = \"text-align: right;\">0.0</td><td style = \"text-align: right;\">0.0</td><td style = \"text-align: right;\">0.0</td><td style = \"text-align: right;\">1.0</td><td style = \"text-align: right;\">0.0</td><td style = \"text-align: right;\">10.0</td><td style = \"text-align: right;\">1.0</td><td style = \"text-align: right;\">1.0</td><td style = \"text-align: right;\">1.0</td><td style = \"text-align: right;\">2920.0</td><td style = \"text-align: right;\">9</td><td style = \"text-align: right;\">6570.0</td><td style = \"text-align: right;\">11</td></tr><tr><td class = \"rowNumber\" style = \"font-weight: bold; text-align: right;\">5150</td><td style = \"text-align: right;\">17.3077</td><td style = \"text-align: right;\">0.0</td><td style = \"text-align: right;\">0.0</td><td style = \"text-align: right;\">0.0</td><td style = \"text-align: right;\">0.0</td><td style = \"text-align: right;\">0.0</td><td style = \"text-align: right;\">1.0</td><td style = \"text-align: right;\">0.0</td><td style = \"text-align: right;\">0.0</td><td style = \"text-align: right;\">1.0</td><td style = \"text-align: right;\">0.0</td><td style = \"text-align: right;\">14.0</td><td style = \"text-align: right;\">1.96</td><td style = \"text-align: right;\">2.744</td><td style = \"text-align: right;\">3.8416</td><td style = \"text-align: right;\">1610.0</td><td style = \"text-align: right;\">5</td><td style = \"text-align: right;\">7460.0</td><td style = \"text-align: right;\">14</td></tr></tbody></table></div>"
            ],
            "text/latex": [
              "\\begin{tabular}{r|ccccccccccccc}\n",
              "\t& wage & sex & shs & hsg & scl & clg & ad & mw & so & we & ne & exp1 & \\\\\n",
              "\t\\hline\n",
              "\t& Float64 & Float64 & Float64 & Float64 & Float64 & Float64 & Float64 & Float64 & Float64 & Float64 & Float64 & Float64 & \\\\\n",
              "\t\\hline\n",
              "\t1 & 9.61538 & 1.0 & 0.0 & 0.0 & 0.0 & 1.0 & 0.0 & 0.0 & 0.0 & 0.0 & 1.0 & 7.0 & $\\dots$ \\\\\n",
              "\t2 & 48.0769 & 0.0 & 0.0 & 0.0 & 0.0 & 1.0 & 0.0 & 0.0 & 0.0 & 0.0 & 1.0 & 31.0 & $\\dots$ \\\\\n",
              "\t3 & 11.0577 & 0.0 & 0.0 & 1.0 & 0.0 & 0.0 & 0.0 & 0.0 & 0.0 & 0.0 & 1.0 & 18.0 & $\\dots$ \\\\\n",
              "\t4 & 13.9423 & 1.0 & 0.0 & 0.0 & 0.0 & 0.0 & 1.0 & 0.0 & 0.0 & 0.0 & 1.0 & 25.0 & $\\dots$ \\\\\n",
              "\t5 & 28.8462 & 1.0 & 0.0 & 0.0 & 0.0 & 1.0 & 0.0 & 0.0 & 0.0 & 0.0 & 1.0 & 22.0 & $\\dots$ \\\\\n",
              "\t6 & 11.7308 & 1.0 & 0.0 & 0.0 & 0.0 & 1.0 & 0.0 & 0.0 & 0.0 & 0.0 & 1.0 & 1.0 & $\\dots$ \\\\\n",
              "\t7 & 19.2308 & 1.0 & 0.0 & 1.0 & 0.0 & 0.0 & 0.0 & 0.0 & 0.0 & 0.0 & 1.0 & 42.0 & $\\dots$ \\\\\n",
              "\t8 & 19.2308 & 0.0 & 0.0 & 1.0 & 0.0 & 0.0 & 0.0 & 0.0 & 0.0 & 0.0 & 1.0 & 37.0 & $\\dots$ \\\\\n",
              "\t9 & 12.0 & 1.0 & 0.0 & 1.0 & 0.0 & 0.0 & 0.0 & 0.0 & 0.0 & 0.0 & 1.0 & 31.0 & $\\dots$ \\\\\n",
              "\t10 & 19.2308 & 1.0 & 0.0 & 0.0 & 0.0 & 1.0 & 0.0 & 0.0 & 0.0 & 0.0 & 1.0 & 4.0 & $\\dots$ \\\\\n",
              "\t11 & 17.3077 & 1.0 & 0.0 & 1.0 & 0.0 & 0.0 & 0.0 & 0.0 & 0.0 & 0.0 & 1.0 & 7.0 & $\\dots$ \\\\\n",
              "\t12 & 12.0192 & 0.0 & 0.0 & 1.0 & 0.0 & 0.0 & 0.0 & 0.0 & 0.0 & 0.0 & 1.0 & 30.0 & $\\dots$ \\\\\n",
              "\t13 & 12.0192 & 1.0 & 0.0 & 0.0 & 1.0 & 0.0 & 0.0 & 0.0 & 0.0 & 0.0 & 1.0 & 5.5 & $\\dots$ \\\\\n",
              "\t14 & 13.4615 & 1.0 & 0.0 & 0.0 & 1.0 & 0.0 & 0.0 & 0.0 & 0.0 & 0.0 & 1.0 & 20.5 & $\\dots$ \\\\\n",
              "\t15 & 16.3462 & 1.0 & 0.0 & 0.0 & 0.0 & 1.0 & 0.0 & 0.0 & 0.0 & 0.0 & 1.0 & 25.0 & $\\dots$ \\\\\n",
              "\t16 & 27.8846 & 0.0 & 0.0 & 1.0 & 0.0 & 0.0 & 0.0 & 0.0 & 0.0 & 0.0 & 1.0 & 16.0 & $\\dots$ \\\\\n",
              "\t17 & 21.6 & 0.0 & 0.0 & 1.0 & 0.0 & 0.0 & 0.0 & 0.0 & 0.0 & 0.0 & 1.0 & 27.0 & $\\dots$ \\\\\n",
              "\t18 & 8.65385 & 0.0 & 0.0 & 0.0 & 1.0 & 0.0 & 0.0 & 0.0 & 0.0 & 0.0 & 1.0 & 3.5 & $\\dots$ \\\\\n",
              "\t19 & 19.2308 & 0.0 & 0.0 & 1.0 & 0.0 & 0.0 & 0.0 & 0.0 & 0.0 & 0.0 & 1.0 & 6.0 & $\\dots$ \\\\\n",
              "\t20 & 13.1868 & 0.0 & 0.0 & 1.0 & 0.0 & 0.0 & 0.0 & 0.0 & 0.0 & 0.0 & 1.0 & 8.0 & $\\dots$ \\\\\n",
              "\t21 & 10.6838 & 1.0 & 0.0 & 0.0 & 1.0 & 0.0 & 0.0 & 0.0 & 0.0 & 0.0 & 1.0 & 6.5 & $\\dots$ \\\\\n",
              "\t22 & 11.5385 & 1.0 & 0.0 & 0.0 & 1.0 & 0.0 & 0.0 & 0.0 & 0.0 & 0.0 & 1.0 & 8.5 & $\\dots$ \\\\\n",
              "\t23 & 17.7885 & 1.0 & 0.0 & 0.0 & 0.0 & 0.0 & 1.0 & 0.0 & 0.0 & 0.0 & 1.0 & 11.0 & $\\dots$ \\\\\n",
              "\t24 & 19.2308 & 0.0 & 0.0 & 0.0 & 0.0 & 1.0 & 0.0 & 0.0 & 0.0 & 0.0 & 1.0 & 11.0 & $\\dots$ \\\\\n",
              "\t25 & 16.3043 & 1.0 & 0.0 & 0.0 & 1.0 & 0.0 & 0.0 & 0.0 & 0.0 & 0.0 & 1.0 & 24.5 & $\\dots$ \\\\\n",
              "\t26 & 19.2308 & 0.0 & 0.0 & 1.0 & 0.0 & 0.0 & 0.0 & 0.0 & 0.0 & 0.0 & 1.0 & 8.0 & $\\dots$ \\\\\n",
              "\t27 & 14.4231 & 1.0 & 0.0 & 1.0 & 0.0 & 0.0 & 0.0 & 0.0 & 0.0 & 0.0 & 1.0 & 5.0 & $\\dots$ \\\\\n",
              "\t28 & 12.0 & 0.0 & 0.0 & 0.0 & 1.0 & 0.0 & 0.0 & 0.0 & 0.0 & 0.0 & 1.0 & 4.5 & $\\dots$ \\\\\n",
              "\t29 & 16.8269 & 0.0 & 0.0 & 0.0 & 0.0 & 1.0 & 0.0 & 0.0 & 0.0 & 0.0 & 1.0 & 8.0 & $\\dots$ \\\\\n",
              "\t30 & 19.6703 & 0.0 & 0.0 & 0.0 & 0.0 & 1.0 & 0.0 & 0.0 & 0.0 & 0.0 & 1.0 & 26.0 & $\\dots$ \\\\\n",
              "\t$\\dots$ & $\\dots$ & $\\dots$ & $\\dots$ & $\\dots$ & $\\dots$ & $\\dots$ & $\\dots$ & $\\dots$ & $\\dots$ & $\\dots$ & $\\dots$ & $\\dots$ &  \\\\\n",
              "\\end{tabular}\n"
            ],
            "text/plain": [
              "\u001b[1m5150×19 DataFrame\u001b[0m\n",
              "\u001b[1m  Row \u001b[0m│\u001b[1m wage     \u001b[0m\u001b[1m sex     \u001b[0m\u001b[1m shs     \u001b[0m\u001b[1m hsg     \u001b[0m\u001b[1m scl     \u001b[0m\u001b[1m clg     \u001b[0m\u001b[1m ad      \u001b[0m\u001b[1m mw      \u001b[0m\u001b[1m so      \u001b[0m\u001b[1m we      \u001b[0m\u001b[1m\u001b[0m ⋯\n",
              "      │\u001b[90m Float64  \u001b[0m\u001b[90m Float64 \u001b[0m\u001b[90m Float64 \u001b[0m\u001b[90m Float64 \u001b[0m\u001b[90m Float64 \u001b[0m\u001b[90m Float64 \u001b[0m\u001b[90m Float64 \u001b[0m\u001b[90m Float64 \u001b[0m\u001b[90m Float64 \u001b[0m\u001b[90m Float64 \u001b[0m\u001b[90m\u001b[0m ⋯\n",
              "──────┼─────────────────────────────────────────────────────────────────────────────────────────────\n",
              "    1 │  9.61538      1.0      0.0      0.0      0.0      1.0      0.0      0.0      0.0      0.0  ⋯\n",
              "    2 │ 48.0769       0.0      0.0      0.0      0.0      1.0      0.0      0.0      0.0      0.0\n",
              "    3 │ 11.0577       0.0      0.0      1.0      0.0      0.0      0.0      0.0      0.0      0.0\n",
              "    4 │ 13.9423       1.0      0.0      0.0      0.0      0.0      1.0      0.0      0.0      0.0\n",
              "    5 │ 28.8462       1.0      0.0      0.0      0.0      1.0      0.0      0.0      0.0      0.0  ⋯\n",
              "    6 │ 11.7308       1.0      0.0      0.0      0.0      1.0      0.0      0.0      0.0      0.0\n",
              "    7 │ 19.2308       1.0      0.0      1.0      0.0      0.0      0.0      0.0      0.0      0.0\n",
              "    8 │ 19.2308       0.0      0.0      1.0      0.0      0.0      0.0      0.0      0.0      0.0\n",
              "    9 │ 12.0          1.0      0.0      1.0      0.0      0.0      0.0      0.0      0.0      0.0  ⋯\n",
              "   10 │ 19.2308       1.0      0.0      0.0      0.0      1.0      0.0      0.0      0.0      0.0\n",
              "   11 │ 17.3077       1.0      0.0      1.0      0.0      0.0      0.0      0.0      0.0      0.0\n",
              "  ⋮   │    ⋮         ⋮        ⋮        ⋮        ⋮        ⋮        ⋮        ⋮        ⋮        ⋮     ⋱\n",
              " 5141 │ 45.5466       1.0      0.0      0.0      0.0      1.0      0.0      0.0      0.0      1.0\n",
              " 5142 │ 22.5962       0.0      0.0      1.0      0.0      0.0      0.0      0.0      0.0      1.0  ⋯\n",
              " 5143 │ 16.8269       0.0      0.0      1.0      0.0      0.0      0.0      0.0      0.0      1.0\n",
              " 5144 │ 24.0385       1.0      0.0      0.0      0.0      1.0      0.0      0.0      0.0      1.0\n",
              " 5145 │ 13.8462       0.0      0.0      0.0      0.0      1.0      0.0      0.0      0.0      1.0\n",
              " 5146 │ 14.7692       0.0      0.0      0.0      0.0      1.0      0.0      0.0      0.0      1.0  ⋯\n",
              " 5147 │ 23.0769       1.0      0.0      0.0      1.0      0.0      0.0      0.0      0.0      1.0\n",
              " 5148 │ 38.4615       0.0      0.0      0.0      0.0      0.0      1.0      0.0      0.0      1.0\n",
              " 5149 │ 32.967        0.0      0.0      1.0      0.0      0.0      0.0      0.0      0.0      1.0\n",
              " 5150 │ 17.3077       0.0      0.0      0.0      0.0      0.0      1.0      0.0      0.0      1.0  ⋯\n",
              "\u001b[36m                                                                     9 columns and 5129 rows omitted\u001b[0m"
            ]
          },
          "execution_count": 50,
          "metadata": {},
          "output_type": "execute_result"
        }
      ],
      "source": [
        "# Definir Y (variable dependiente) y X (matriz de predictores)\n",
        "Y = data[!, :lwage]  # Por ejemplo, si 'lwage' es el log de los salarios\n",
        "X = select(data, Not(:lwage))  # Seleccionar todas las columnas excepto 'lwage'"
      ]
    },
    {
      "cell_type": "code",
      "execution_count": 53,
      "metadata": {
        "colab": {
          "base_uri": "https://localhost:8080/"
        },
        "id": "ElDH6yZAnai1",
        "outputId": "9aec647e-97aa-4bf3-c1a7-c5bfb34dc11f"
      },
      "outputs": [
        {
          "data": {
            "text/plain": [
              "5150-element Vector{Float64}:\n",
              " -1.2402545501637507\n",
              "  1.581415943901389\n",
              " -0.9952235701262617\n",
              " -0.5888284120346895\n",
              "  0.6858352078834439\n",
              " -0.8916287370734166\n",
              " -0.02502721376252582\n",
              " -0.02502721376252582\n",
              " -0.8518460993196265\n",
              " -0.02502721376252582\n",
              " -0.20974552813450043\n",
              " -0.8490387289010607\n",
              " -0.8490387289010607\n",
              "  ⋮\n",
              "  0.018263935171735916\n",
              "  0.14207082714988994\n",
              "  1.4866251590094772\n",
              "  0.25770849799681306\n",
              " -0.2591347787012701\n",
              "  0.3661886075001642\n",
              " -0.6009613493971904\n",
              " -0.48781225590462607\n",
              "  0.29461938662075393\n",
              "  1.1902001226386991\n",
              "  0.9199427728221882\n",
              " -0.20974552813450043"
            ]
          },
          "execution_count": 53,
          "metadata": {},
          "output_type": "execute_result"
        }
      ],
      "source": [
        "# Convertir X (DataFrame) a una matriz numérica\n",
        "X_matrix = Matrix(X)\n",
        "\n",
        "# Normalizar las columnas de X_matrix\n",
        "X_normalized = (X_matrix .- mean(X_matrix, dims=1)) ./ std(X_matrix, dims=1)\n",
        "\n",
        "# Normalizar Y (asumiendo que Y ya es un array numérico)\n",
        "Y_normalized = (Y .- mean(Y)) ./ std(Y)\n"
      ]
    },
    {
      "cell_type": "code",
      "execution_count": 55,
      "metadata": {
        "colab": {
          "base_uri": "https://localhost:8080/"
        },
        "id": "wGQr638qm3tO",
        "outputId": "a3cc97c0-3d47-4ceb-f962-e2951a76febc"
      },
      "outputs": [
        {
          "data": {
            "text/plain": [
              "5150-element Vector{Float64}:\n",
              " -1.2402545501637507\n",
              "  1.581415943901389\n",
              " -0.9952235701262617\n",
              " -0.5888284120346895\n",
              "  0.6858352078834439\n",
              " -0.8916287370734166\n",
              " -0.02502721376252582\n",
              " -0.02502721376252582\n",
              " -0.8518460993196265\n",
              " -0.02502721376252582\n",
              " -0.20974552813450043\n",
              " -0.8490387289010607\n",
              " -0.8490387289010607\n",
              "  ⋮\n",
              "  0.018263935171735916\n",
              "  0.14207082714988994\n",
              "  1.4866251590094772\n",
              "  0.25770849799681306\n",
              " -0.2591347787012701\n",
              "  0.3661886075001642\n",
              " -0.6009613493971904\n",
              " -0.48781225590462607\n",
              "  0.29461938662075393\n",
              "  1.1902001226386991\n",
              "  0.9199427728221882\n",
              " -0.20974552813450043"
            ]
          },
          "execution_count": 55,
          "metadata": {},
          "output_type": "execute_result"
        }
      ],
      "source": [
        "# Normalizar las columnas de X\n",
        "X_normalized = (X_matrix .- mean(X_matrix)) ./ std(X_matrix)\n",
        "\n",
        "# Normalizar Y (asumiendo que Y ya es un array numérico)\n",
        "Y_normalized = (Y .- mean(Y)) ./ std(Y)\n",
        "\n"
      ]
    },
    {
      "cell_type": "code",
      "execution_count": 56,
      "metadata": {
        "colab": {
          "base_uri": "https://localhost:8080/"
        },
        "id": "HnWSt7azkBPo",
        "outputId": "bfa272fd-8461-4521-c62d-4e538d6f8d7b"
      },
      "outputs": [
        {
          "data": {
            "text/plain": [
              "((4635, 19), (515, 19))"
            ]
          },
          "execution_count": 56,
          "metadata": {},
          "output_type": "execute_result"
        }
      ],
      "source": [
        "using Random\n",
        "\n",
        "# Definir n como el número de filas en X_normalized\n",
        "n = size(X_normalized, 1)\n",
        "\n",
        "# Determinar cuántas observaciones se usarán para el conjunto de entrenamiento (90% del total)\n",
        "n_train = Int(round(0.9 * n))\n",
        "\n",
        "# Generar los índices aleatorios para el conjunto de entrenamiento\n",
        "train_indices = shuffle(1:n)[1:n_train]\n",
        "\n",
        "# Los índices restantes serán para el conjunto de prueba\n",
        "test_indices = setdiff(1:n, train_indices)\n",
        "\n",
        "# Dividir los datos en entrenamiento y prueba\n",
        "X_train = X_normalized[train_indices, :]\n",
        "X_test = X_normalized[test_indices, :]\n",
        "Y_train = Y_normalized[train_indices]\n",
        "Y_test = Y_normalized[test_indices]\n",
        "\n",
        "# Verificar las dimensiones de los conjuntos de entrenamiento y prueba\n",
        "size(X_train), size(X_test)\n",
        "\n"
      ]
    },
    {
      "cell_type": "markdown",
      "metadata": {
        "id": "2bK16R2JkBPo"
      },
      "source": [
        "## 2. The Lasso Cross-Validation Procedure"
      ]
    },
    {
      "cell_type": "markdown",
      "metadata": {
        "id": "0RwqJTWSkBPo"
      },
      "source": [
        "4. Program a function that generates a logarithmically spaced grid. The input arguments should be the lower and upper bounds of the grid, as well as the natural logarithm of the spacing between each element of the grid. The output should be the logarithmically spaced grid, meaning that if we take the natural logarithm of each entry in the grid, they will be equally spaced. This will be the grid of values for\n",
        "λ\n",
        " values to try during cross-validation."
      ]
    },
    {
      "cell_type": "code",
      "execution_count": 57,
      "metadata": {
        "colab": {
          "base_uri": "https://localhost:8080/"
        },
        "id": "i7UyyhdqkBPp",
        "outputId": "e88ed52d-cb02-49e5-ec56-60dccf91ea0b"
      },
      "outputs": [
        {
          "name": "stdout",
          "output_type": "stream",
          "text": [
            "[0.0010000000000000002, 0.0016378937069540646, 0.0026826957952797263, 0.004393970560760792, 0.0071968567300115215, 0.011787686347935875, 0.019306977288832503, 0.0316227766016838, 0.051794746792312114, 0.08483428982440722, 0.13894954943731377, 0.22758459260747885, 0.372759372031494, 0.6105402296585328, 1.0, 1.6378937069540642, 2.6826957952797255, 4.393970560760791, 7.19685673001152, 11.787686347935873, 19.3069772888325, 31.62277660168379, 51.794746792312104, 84.8342898244072, 138.94954943731375, 227.58459260747878, 372.75937203149397, 610.5402296585327, 999.9999999999998]\n"
          ]
        }
      ],
      "source": [
        "\n",
        "function log_grid(lower_limit::Float64, upper_limit::Float64, log_spacing::Float64)\n",
        "\n",
        "    n_points = Int(round((log(upper_limit) - log(lower_limit)) / log_spacing)) + 1\n",
        "    grid = exp.(range(log(lower_limit), stop=log(upper_limit), length=n_points))\n",
        "    return grid\n",
        "end\n",
        "\n",
        "\n",
        "lower_limit = 1e-3\n",
        "upper_limit = 1e3\n",
        "log_spacing = 0.5\n",
        "\n",
        "grid = log_grid(lower_limit, upper_limit, log_spacing)\n",
        "println(grid)\n"
      ]
    },
    {
      "cell_type": "markdown",
      "metadata": {
        "id": "e077Fvf-kBPp"
      },
      "source": [
        "5. Program a function to generate\n",
        "k\n",
        " folds. It should take as input the array to be split rowwise and the number of folds desired. It should output a list of\n",
        "k\n",
        " 1d arrays of booleans; these arrays should all be the same length as the number of rows in the input array, and when they are all summed together they should add up to an array of all true values. Create your own procedure for splitting. You can aid yourself with third party packages like numpy in Python or Statistics in Julia, but do not use a pre-programmed third party splitting procedure like sk-learns's KFolds in Python."
      ]
    },
    {
      "cell_type": "code",
      "execution_count": 58,
      "metadata": {
        "colab": {
          "base_uri": "https://localhost:8080/"
        },
        "id": "t3BgV6BDkBPp",
        "outputId": "b8629a18-031f-48b0-c0b0-b3721367bd17"
      },
      "outputs": [
        {
          "name": "stdout",
          "output_type": "stream",
          "text": [
            "Fold 1 tiene tamaño: 927\n",
            "Fold 2 tiene tamaño: 927\n",
            "Fold 3 tiene tamaño: 927\n",
            "Fold 4 tiene tamaño: 927\n",
            "Fold 5 tiene tamaño: 927\n"
          ]
        }
      ],
      "source": [
        "\n",
        "function generate_k_folds(n_rows::Int, k::Int)\n",
        "\n",
        "    indices = shuffle(1:n_rows)\n",
        "\n",
        "\n",
        "    fold_size = floor(Int, n_rows / k)\n",
        "    folds = []\n",
        "\n",
        "    for i in 1:k\n",
        "\n",
        "        if i == k\n",
        "\n",
        "            push!(folds, indices[(i-1)*fold_size+1:end])\n",
        "        else\n",
        "            push!(folds, indices[(i-1)*fold_size+1:i*fold_size])\n",
        "        end\n",
        "    end\n",
        "\n",
        "    return folds\n",
        "end\n",
        "\n",
        "# Ejemplo de uso\n",
        "n_rows = size(X_train, 1)\n",
        "k = 5\n",
        "folds = generate_k_folds(n_rows, k)\n",
        "\n",
        "\n",
        "for i in 1:k\n",
        "    println(\"Fold $i tiene tamaño: \", length(folds[i]))\n",
        "end\n",
        "\n"
      ]
    },
    {
      "cell_type": "markdown",
      "metadata": {
        "id": "muCUrABDkBPq"
      },
      "source": [
        "6. Program a function that integrates those that you programmed in the last two items to find the value of λ that minimizes the testing mean square error across folds. It should take the following inputs:\n",
        "\n",
        "* Y: an array for the outcome variable.\n",
        "* X: an array of predictors.\n",
        "* lambda_bounds: the lower and upper bounds of the grid of lambda values.\n",
        "* k: number of folds\n",
        "\n",
        "The output should be a dictionary (a list in R) with the following entries:\n",
        "\n",
        "* optimal_lambda: The lambda that minimizes the testing MSE across folds.\n",
        "* optimal_coef: An array with the coefficients found for the optimal lambda\n",
        "* all_lambdas: The grid of lambdas.\n",
        "* all_mse: An array with the testing MSE across folds for each lambda.\n",
        "\n",
        "The procedure goes as follows:\n",
        "\n",
        "* With each lambda in the grid\n",
        "*   For each split\n",
        "*      Train and test a lasso model.\n",
        "\n",
        "\n",
        "\n",
        "With this, you can get the testing MSE associated with the value of lambda in each iteration. Feel free to use a third party Lasso estimator, as long as it is not one that calculates the optimal lambda value. Instead, the third party estimator you use should only estimate the regression with the penalty weight provided so you can get the testing MSE with that specific weight."
      ]
    },
    {
      "cell_type": "code",
      "execution_count": 59,
      "metadata": {
        "colab": {
          "base_uri": "https://localhost:8080/"
        },
        "id": "GFZtZ_aqtwPC",
        "outputId": "4c454cd6-9293-4354-d095-d944f67bf42e"
      },
      "outputs": [
        {
          "name": "stderr",
          "output_type": "stream",
          "text": [
            "\u001b[32m\u001b[1m   Resolving\u001b[22m\u001b[39m package versions...\n",
            "\u001b[32m\u001b[1m  No Changes\u001b[22m\u001b[39m to `~/.julia/environments/v1.8/Project.toml`\n",
            "\u001b[32m\u001b[1m  No Changes\u001b[22m\u001b[39m to `~/.julia/environments/v1.8/Manifest.toml`\n"
          ]
        }
      ],
      "source": [
        "import Pkg\n",
        "Pkg.add(\"HDMjl\")"
      ]
    },
    {
      "cell_type": "code",
      "execution_count": 60,
      "metadata": {
        "colab": {
          "base_uri": "https://localhost:8080/"
        },
        "id": "inyguRtPtJHp",
        "outputId": "f90ec07b-11bb-4ddf-9f23-847e0283137e"
      },
      "outputs": [
        {
          "data": {
            "text/plain": [
              "cross_validate_lasso (generic function with 1 method)"
            ]
          },
          "execution_count": 60,
          "metadata": {},
          "output_type": "execute_result"
        }
      ],
      "source": [
        "using HDMjl\n",
        "\n",
        "\n",
        "function cross_validate_lasso(X, Y, lambdas, k_folds)\n",
        "    n_lambdas = length(lambdas)\n",
        "    mse_per_lambda = zeros(n_lambdas)\n",
        "\n",
        "    for (i, lambda) in enumerate(lambdas)\n",
        "        mse_folds = []\n",
        "\n",
        "\n",
        "        for fold in k_folds\n",
        "\n",
        "            train_indices = setdiff(1:size(X, 1), fold)\n",
        "            test_indices = fold\n",
        "\n",
        "            X_train, X_test = X[train_indices, :], X[test_indices, :]\n",
        "            Y_train, Y_test = Y[train_indices], Y[test_indices]\n",
        "\n",
        "\n",
        "            lasso_model = fit_lasso(X_train, Y_train, lambda)\n",
        "\n",
        "\n",
        "            Y_pred = X_test * coef(lasso_model)[2:end]\n",
        "\n",
        "\n",
        "            push!(mse_folds, mse(Y_test, Y_pred))\n",
        "        end\n",
        "\n",
        "\n",
        "        mse_per_lambda[i] = mean(mse_folds)\n",
        "    end\n",
        "\n",
        "    optimal_lambda_index = argmin(mse_per_lambda)\n",
        "    optimal_lambda = lambdas[optimal_lambda_index]\n",
        "\n",
        "    return (optimal_lambda, mse_per_lambda, optimal_lambda_index)\n",
        "end\n",
        "\n",
        "\n",
        "\n"
      ]
    },
    {
      "cell_type": "code",
      "execution_count": 61,
      "metadata": {
        "colab": {
          "base_uri": "https://localhost:8080/"
        },
        "id": "Xrlug-DjuxK0",
        "outputId": "a214628a-9765-4c5c-c264-00d2e1eaa018"
      },
      "outputs": [
        {
          "name": "stderr",
          "output_type": "stream",
          "text": [
            "\u001b[32m\u001b[1m   Resolving\u001b[22m\u001b[39m package versions...\n",
            "\u001b[32m\u001b[1m  No Changes\u001b[22m\u001b[39m to `~/.julia/environments/v1.8/Project.toml`\n",
            "\u001b[32m\u001b[1m  No Changes\u001b[22m\u001b[39m to `~/.julia/environments/v1.8/Manifest.toml`\n"
          ]
        }
      ],
      "source": [
        "import Pkg\n",
        "Pkg.add(\"GLMNet\")\n",
        "\n"
      ]
    },
    {
      "cell_type": "code",
      "execution_count": 62,
      "metadata": {
        "colab": {
          "base_uri": "https://localhost:8080/"
        },
        "id": "pGRKXcEvvVzm",
        "outputId": "fb06c7b1-b983-41b6-a389-111dfad04c82"
      },
      "outputs": [
        {
          "data": {
            "text/plain": [
              "cross_validate_lasso (generic function with 1 method)"
            ]
          },
          "execution_count": 62,
          "metadata": {},
          "output_type": "execute_result"
        }
      ],
      "source": [
        "\n",
        "function cross_validate_lasso(X, Y, lambdas, k_folds)\n",
        "    n_lambdas = length(lambdas)\n",
        "    mse_per_lambda = zeros(n_lambdas)\n",
        "\n",
        "\n",
        "    for (i, lambda) in enumerate(lambdas)\n",
        "        mse_folds = []\n",
        "\n",
        "\n",
        "        for fold in k_folds\n",
        "\n",
        "            train_indices = setdiff(1:size(X, 1), fold)\n",
        "            test_indices = fold\n",
        "\n",
        "            X_train, X_test = X[train_indices, :], X[test_indices, :]\n",
        "            Y_train, Y_test = Y[train_indices], Y[test_indices]\n",
        "\n",
        "\n",
        "            lasso_model = GLMNet.glmnet(X_train, Y_train, lambda=lambda, alpha=1.0)\n",
        "\n",
        "\n",
        "            Y_pred = GLMNet.predict(lasso_model, X_test)\n",
        "\n",
        "\n",
        "            push!(mse_folds, mse(Y_test, Y_pred))\n",
        "        end\n",
        "\n",
        "\n",
        "        mse_per_lambda[i] = mean(mse_folds)\n",
        "    end\n",
        "\n",
        "\n",
        "    optimal_lambda_index = argmin(mse_per_lambda)\n",
        "    optimal_lambda = lambdas[optimal_lambda_index]\n",
        "\n",
        "    return (optimal_lambda, mse_per_lambda, optimal_lambda_index)\n",
        "end\n",
        "\n"
      ]
    },
    {
      "cell_type": "markdown",
      "metadata": {
        "id": "2HKKP102kBPr"
      },
      "source": [
        "7. Program a function for predicting the outcome variable through model estimated with the optimal lambda. It should take as inputs\n",
        "\n",
        "* optimal_model: A dictionary with the values outputed by the function defined for the previous point.\n",
        "* X: an array of predictors.\n",
        "\n",
        "The output should be an array of predicted values."
      ]
    },
    {
      "cell_type": "code",
      "execution_count": 63,
      "metadata": {
        "colab": {
          "base_uri": "https://localhost:8080/"
        },
        "id": "In4jZYX9wT0Y",
        "outputId": "2be81e7b-c306-492a-94b8-f639970104a5"
      },
      "outputs": [
        {
          "data": {
            "text/plain": [
              "cross_validate_lasso (generic function with 1 method)"
            ]
          },
          "execution_count": 63,
          "metadata": {},
          "output_type": "execute_result"
        }
      ],
      "source": [
        "\n",
        "function cross_validate_lasso(X, Y, lambdas, k_folds)\n",
        "    n_lambdas = length(lambdas)\n",
        "    mse_per_lambda = zeros(n_lambdas)\n",
        "\n",
        "\n",
        "    for (i, lambda) in enumerate(lambdas)\n",
        "        mse_folds = []\n",
        "\n",
        "\n",
        "        for fold in k_folds\n",
        "\n",
        "            train_indices = setdiff(1:size(X, 1), fold)\n",
        "            test_indices = fold\n",
        "\n",
        "            X_train, X_test = X[train_indices, :], X[test_indices, :]\n",
        "            Y_train, Y_test = Y[train_indices], Y[test_indices]\n",
        "\n",
        "            lasso_model = GLMNet.glmnet(X_train, Y_train, lambda=[lambda], alpha=1.0)\n",
        "\n",
        "\n",
        "            Y_pred = GLMNet.predict(lasso_model, X_test)\n",
        "\n",
        "\n",
        "            push!(mse_folds, mse(Y_test, Y_pred))\n",
        "        end\n",
        "\n",
        "\n",
        "        mse_per_lambda[i] = mean(mse_folds)\n",
        "    end\n",
        "\n",
        "\n",
        "    optimal_lambda_index = argmin(mse_per_lambda)\n",
        "    optimal_lambda = lambdas[optimal_lambda_index]\n",
        "\n",
        "    return (optimal_lambda, mse_per_lambda, optimal_lambda_index)\n",
        "end\n"
      ]
    },
    {
      "cell_type": "code",
      "execution_count": 66,
      "metadata": {
        "id": "OoIPOd2Hp9jH"
      },
      "outputs": [],
      "source": [
        "using GLMNet  # Importar el paquete para ajuste Lasso y Ridge\n"
      ]
    },
    {
      "cell_type": "code",
      "execution_count": 69,
      "metadata": {
        "colab": {
          "base_uri": "https://localhost:8080/"
        },
        "id": "1isHezBNqifr",
        "outputId": "b31e2e1d-8d55-4a6b-cd4c-c1580243ee14"
      },
      "outputs": [
        {
          "data": {
            "text/plain": [
              "mse (generic function with 1 method)"
            ]
          },
          "execution_count": 69,
          "metadata": {},
          "output_type": "execute_result"
        }
      ],
      "source": [
        "# Definir la función para calcular el Mean Squared Error (MSE)\n",
        "function mse(y_true, y_pred)\n",
        "    return mean((y_true - y_pred).^2)\n",
        "end\n"
      ]
    },
    {
      "cell_type": "code",
      "execution_count": 70,
      "metadata": {
        "colab": {
          "base_uri": "https://localhost:8080/"
        },
        "id": "SxC5O2zwqk3z",
        "outputId": "ae8e5384-f692-4b05-bf7f-85fedeea7b72"
      },
      "outputs": [
        {
          "name": "stdout",
          "output_type": "stream",
          "text": [
            "El mejor valor de λ es: 0.0002721338768375309\n",
            "MSE en el conjunto de prueba: 0.3282158714000657\n"
          ]
        }
      ],
      "source": [
        "# Definir la función MSE\n",
        "function mse(y_true, y_pred)\n",
        "    return mean((y_true - y_pred).^2)\n",
        "end\n",
        "\n",
        "# Generar la grilla de valores de lambda (lambdas)\n",
        "lambdas = log_grid(1e-7, 1e7, 0.1)  # Ajusta los límites si es necesario\n",
        "\n",
        "# Ejecutar la validación cruzada para encontrar el mejor lambda\n",
        "optimal_lambda, mse_per_lambda, optimal_lambda_index = cross_validate_lasso(X_train, Y_train, lambdas, folds)\n",
        "\n",
        "# Mostrar el mejor valor de lambda\n",
        "println(\"El mejor valor de λ es: \", optimal_lambda)\n",
        "\n",
        "# Ajustar el modelo Lasso con el valor óptimo de lambda\n",
        "lasso_model_final = GLMNet.glmnet(X_train, Y_train, lambda=[optimal_lambda], alpha=1.0)\n",
        "\n",
        "# Hacer predicciones en el conjunto de prueba\n",
        "Y_pred_test = GLMNet.predict(lasso_model_final, X_test)\n",
        "\n",
        "# Calcular el MSE en el conjunto de prueba\n",
        "mse_test = mse(Y_test, Y_pred_test)\n",
        "\n",
        "# Mostrar el MSE\n",
        "println(\"MSE en el conjunto de prueba: \", mse_test)\n"
      ]
    },
    {
      "cell_type": "markdown",
      "metadata": {
        "id": "4NA5l3oakBPs"
      },
      "source": [
        "## 3. Applying the Lasso Cross-Validation Procedure"
      ]
    },
    {
      "cell_type": "markdown",
      "metadata": {
        "id": "Zu8o0tp1kBPs"
      },
      "source": [
        "8. Fit a simple OLS model with the training sample."
      ]
    },
    {
      "cell_type": "code",
      "execution_count": 76,
      "metadata": {
        "colab": {
          "base_uri": "https://localhost:8080/"
        },
        "id": "pacS0Kazr0Fm",
        "outputId": "6d7063c4-d8bd-4d25-8300-92637ad917a2"
      },
      "outputs": [
        {
          "data": {
            "text/plain": [
              "r_squared (generic function with 1 method)"
            ]
          },
          "execution_count": 76,
          "metadata": {},
          "output_type": "execute_result"
        }
      ],
      "source": [
        "# Definir la función para calcular el R² (Coeficiente de determinación)\n",
        "function r_squared(y_true, y_pred)\n",
        "    ss_total = sum((y_true .- mean(y_true)).^2)\n",
        "    ss_residual = sum((y_true .- y_pred).^2)\n",
        "    return 1 - (ss_residual / ss_total)\n",
        "end\n",
        "\n"
      ]
    },
    {
      "cell_type": "code",
      "execution_count": 77,
      "metadata": {
        "colab": {
          "base_uri": "https://localhost:8080/"
        },
        "id": "xXlnGrwOtOBb",
        "outputId": "5faf870a-19ee-4b16-b391-6f12dde398ad"
      },
      "outputs": [
        {
          "name": "stdout",
          "output_type": "stream",
          "text": [
            "MSE del modelo OLS: 0.32868861330429106\n",
            "R² del modelo OLS: 0.6998361615191326\n"
          ]
        }
      ],
      "source": [
        "using DataFrames, GLM\n",
        "\n",
        "# Definir la función para calcular el R²\n",
        "function r_squared(y_true, y_pred)\n",
        "    ss_total = sum((y_true .- mean(y_true)).^2)\n",
        "    ss_residual = sum((y_true .- y_pred).^2)\n",
        "    return 1 - (ss_residual / ss_total)\n",
        "end\n",
        "\n",
        "# Convertir los datos en DataFrame y generar nombres de columnas automáticamente\n",
        "train_df = DataFrame(X_train, :auto)\n",
        "train_df.Y_train = Y_train  # Añadir la variable dependiente al DataFrame\n",
        "\n",
        "# Crear la fórmula automática para OLS (usando todos los predictores)\n",
        "predictor_names = names(train_df[!, Not(:Y_train)])  # Obtener los nombres de las columnas predictor\n",
        "formula_string = \"Y_train ~ \" * join(predictor_names, \" + \")\n",
        "ols_formula = @eval @formula($(Meta.parse(formula_string)))\n",
        "\n",
        "# Ajustar el modelo OLS con la fórmula generada\n",
        "ols_model = lm(ols_formula, train_df)\n",
        "\n",
        "# Convertir X_test en DataFrame con nombres de columnas automáticamente\n",
        "test_df = DataFrame(X_test, :auto)\n",
        "\n",
        "# Hacer predicciones en el conjunto de prueba con el modelo OLS usando GLM.predict\n",
        "Y_pred_ols = GLM.predict(ols_model, test_df)\n",
        "\n",
        "# Calcular el MSE en el conjunto de prueba para el modelo OLS\n",
        "mse_ols_test = mse(Y_test, Y_pred_ols)\n",
        "\n",
        "# Calcular el R² para el modelo OLS\n",
        "r2_ols = r_squared(Y_test, Y_pred_ols)\n",
        "\n",
        "# Mostrar el MSE y R² del modelo OLS\n",
        "println(\"MSE del modelo OLS: \", mse_ols_test)\n",
        "println(\"R² del modelo OLS: \", r2_ols)\n"
      ]
    },
    {
      "cell_type": "markdown",
      "metadata": {
        "id": "ZNsjHzLMkBPs"
      },
      "source": [
        "9. Find the optimal lambda and its related coefficients with the function programmed in 3. and the training sample. Print the lambda and the coefficients."
      ]
    },
    {
      "cell_type": "markdown",
      "metadata": {
        "id": "cU9381FukBPt"
      },
      "source": [
        "10. Now use each language's hdm package to fit a Lasso model with the theoretical optimal lambda value. You can find the documentation of the package for each language in the following links\n",
        "\n",
        "\n",
        "Ahora utilice el paquete hdm de cada lenguaje para ajustar un modelo Lasso con el valor lambda óptimo teórico. Puede encontrar la documentación del paquete para cada lenguaje en los siguientes enlaces\n",
        "\n",
        "R: https://cran.r-project.org/web/packages/hdm/index.html\n",
        "Python: https://github.com/maxhuppertz/hdmpy\n",
        "Julia: https://github.com/d2cml-ai/HDMjl.jl"
      ]
    },
    {
      "cell_type": "markdown",
      "metadata": {
        "id": "VARSVmn_kBPt"
      },
      "source": [
        "11. Report the testing MSE and R^2 for the OLS model and, the cross-validation lambda Lasso model, and the hdm theoretical lambda model. Use the function programmed in 4. to compute the predictions of the cross-validation Lasso model."
      ]
    }
  ],
  "metadata": {
    "colab": {
      "provenance": []
    },
    "kernelspec": {
      "display_name": "julia 1.8.2",
      "name": "julia"
    }
  },
  "nbformat": 4,
  "nbformat_minor": 0
}
